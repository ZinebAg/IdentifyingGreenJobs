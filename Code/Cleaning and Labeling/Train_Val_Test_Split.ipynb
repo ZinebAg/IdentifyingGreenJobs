{
 "cells": [
  {
   "cell_type": "code",
   "execution_count": 1,
   "id": "bc4b10d7",
   "metadata": {
    "id": "bc4b10d7"
   },
   "outputs": [],
   "source": [
    "import pandas as pd\n",
    "import numpy as np"
   ]
  },
  {
   "cell_type": "code",
   "execution_count": 2,
   "id": "aa2a49d5",
   "metadata": {
    "id": "aa2a49d5"
   },
   "outputs": [],
   "source": [
    "# Load data\n",
    "df = pd.read_csv('data_en_clean_2.csv', usecols=['title','content_no_custom_words', 'title_tokens', 'content_tokens'])\n",
    "\n",
    "# Split in test and train\n",
    "size_test_val = 300\n",
    "\n",
    "\n",
    "limit_test_train = df.shape[0] - size_test_val\n",
    "limit_train_val = df.shape[0] - 2*size_test_val\n",
    "\n",
    "df_train_content = df[:limit_train_val].copy()\n",
    "df_val_content = df[limit_train_val:limit_test_train]\n",
    "df_test = df[limit_test_train:].copy()\n",
    "\n",
    "size_val_train_title = 534\n",
    "df_val_title = df[:size_val_train_title]\n",
    "df_train_title = df[size_val_train_title:limit_test_train].copy()\n",
    "df_test = df[limit_test_train:].copy()"
   ]
  },
  {
   "cell_type": "code",
   "execution_count": 3,
   "id": "cb888816",
   "metadata": {
    "id": "cb888816"
   },
   "outputs": [],
   "source": [
    "df_train_content[['content_no_custom_words', 'content_tokens']].to_csv('Content_Train.csv', index=False)\n",
    "df_val_content[['content_no_custom_words', 'content_tokens']].to_csv('Content_Validation.csv', index=False)\n",
    "df_test.to_csv('Test_Final.csv', index=False)\n",
    "\n",
    "df_train_title[['title', 'title_tokens']].to_csv('Title_Train.csv', index=False)\n",
    "df_val_title[['title', 'title_tokens']].to_csv('Title_Validation.csv', index=False)"
   ]
  },
  {
   "cell_type": "raw",
   "id": "01d29a6a-622b-4f5c-a5e8-7b6ea2b90b24",
   "metadata": {
    "id": "b2239ea1"
   },
   "source": [
    "print(df.shape[0])\n",
    "print(limit_test_train)\n",
    "print(limit_train_val)\n",
    "print(df_train.shape[0])\n",
    "print(df_val.shape[0])\n",
    "print(df_test.shape[0])"
   ]
  },
  {
   "cell_type": "code",
   "execution_count": null,
   "id": "25cc5c45",
   "metadata": {
    "id": "25cc5c45"
   },
   "outputs": [],
   "source": []
  }
 ],
 "metadata": {
  "colab": {
   "name": "Train_Val_Test_Split.ipynb",
   "provenance": []
  },
  "kernelspec": {
   "display_name": "Python",
   "language": "python",
   "name": "python3"
  },
  "language_info": {
   "codemirror_mode": {
    "name": "ipython",
    "version": 3
   },
   "file_extension": ".py",
   "mimetype": "text/x-python",
   "name": "python",
   "nbconvert_exporter": "python",
   "pygments_lexer": "ipython3",
   "version": "3.8.10"
  }
 },
 "nbformat": 4,
 "nbformat_minor": 5
}
