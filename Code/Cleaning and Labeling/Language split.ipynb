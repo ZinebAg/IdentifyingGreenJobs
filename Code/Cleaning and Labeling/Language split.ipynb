{
 "cells": [
  {
   "cell_type": "code",
   "execution_count": 1,
   "id": "8167cab9",
   "metadata": {},
   "outputs": [],
   "source": [
    "import pandas as pd\n",
    "import numpy as np\n",
    "import seaborn as sns\n",
    "import matplotlib as plt\n",
    "from langdetect import DetectorFactory, detect\n",
    "from langdetect.lang_detect_exception import LangDetectException\n",
    "from bs4 import BeautifulSoup\n",
    "import os\n",
    "# Set the seed to enforce same results each time (non deterministic)\n",
    "DetectorFactory.seed = 0"
   ]
  },
  {
   "cell_type": "code",
   "execution_count": 2,
   "id": "971e7787",
   "metadata": {},
   "outputs": [],
   "source": [
    "DATA_PATH = '../Data/sample_1mil_jobs.csv'\n",
    "df = pd.read_csv(DATA_PATH)\n",
    "df.drop(columns='Unnamed: 0', inplace=True)"
   ]
  },
  {
   "cell_type": "code",
   "execution_count": 3,
   "id": "9073971a",
   "metadata": {},
   "outputs": [],
   "source": [
    "def detect_language(x):\n",
    "    try:\n",
    "        lang = detect(x)\n",
    "    except:\n",
    "        lang = 'Other'\n",
    "    return lang"
   ]
  },
  {
   "cell_type": "markdown",
   "id": "95713fa3",
   "metadata": {},
   "source": [
    "# Cleaning"
   ]
  },
  {
   "cell_type": "code",
   "execution_count": 4,
   "id": "e647de10",
   "metadata": {},
   "outputs": [],
   "source": [
    "# Remove HTML caracters and expressions from strings\n",
    "df.loc[:,'content_no_java'] = df['content'].apply(lambda text: BeautifulSoup(text, 'html.parser').get_text())\n",
    "\n",
    "# Remove URLs\n",
    "df.loc[:,'content_no_URL'] = df['content_no_java'].replace(r'http\\S+', '', regex=True).replace(r'www\\S+', '', regex=True)\n",
    "\n",
    "# Remove '\\r' and '\\n'\n",
    "df.loc[:,'content_no_URL'] = df.loc[:,'content_no_URL'].apply(lambda x: x.replace('\\r',' ').replace('\\n',' '))"
   ]
  },
  {
   "cell_type": "markdown",
   "id": "1426492d",
   "metadata": {},
   "source": [
    "# Language split"
   ]
  },
  {
   "cell_type": "code",
   "execution_count": 5,
   "id": "b72f971b",
   "metadata": {},
   "outputs": [],
   "source": [
    "df['language'] = df['content_no_URL'].apply(detect_language)"
   ]
  },
  {
   "cell_type": "code",
   "execution_count": 6,
   "id": "adee0a1d",
   "metadata": {},
   "outputs": [
    {
     "name": "stdout",
     "output_type": "stream",
     "text": [
      "French ads : 149400 corresponding to 14.94 %\n",
      "German ads : 808252 corresponding to 80.8252 %\n",
      "Italian ads : 10113 corresponding to 1.0113 %\n",
      "English ads : 31146 corresponding to 3.1146 %\n"
     ]
    }
   ],
   "source": [
    "# Separate into different dataframes\n",
    "df_fr = df[df['language'] == 'fr']\n",
    "df_de = df[df['language'] == 'de']\n",
    "df_it = df[df['language'] == 'it']\n",
    "df_en = df[df['language'] == 'en']\n",
    "\n",
    "\n",
    "# Statitics\n",
    "print('French ads :', df_fr.shape[0], 'corresponding to', 100*df_fr.shape[0]/df.shape[0], '%')\n",
    "print('German ads :', df_de.shape[0], 'corresponding to', 100*df_de.shape[0]/df.shape[0], '%')\n",
    "print('Italian ads :', df_it.shape[0], 'corresponding to', 100*df_it.shape[0]/df.shape[0], '%')\n",
    "print('English ads :', df_en.shape[0], 'corresponding to', 100*df_en.shape[0]/df.shape[0], '%')\n",
    "\n",
    "\n",
    "# Saving datasets in '.csv' files\n",
    "\n",
    "os.mkdir('../Data/language_split')\n",
    "\n",
    "df.to_csv('../Data/language_split/data_language.csv', index=False)\n",
    "df_fr.to_csv('../Data/language_split/data_fr.csv', index=False)\n",
    "df_de.to_csv('../Data/language_split/data_de.csv', index=False)\n",
    "df_it.to_csv('../Data/language_split/data_it.csv', index=False)\n",
    "df_en.to_csv('../Data/language_split/data_en.csv', index=False)"
   ]
  }
 ],
 "metadata": {
  "kernelspec": {
   "display_name": "Python 3 (ipykernel)",
   "language": "python",
   "name": "python3"
  },
  "language_info": {
   "codemirror_mode": {
    "name": "ipython",
    "version": 3
   },
   "file_extension": ".py",
   "mimetype": "text/x-python",
   "name": "python",
   "nbconvert_exporter": "python",
   "pygments_lexer": "ipython3",
   "version": "3.8.8"
  }
 },
 "nbformat": 4,
 "nbformat_minor": 5
}
