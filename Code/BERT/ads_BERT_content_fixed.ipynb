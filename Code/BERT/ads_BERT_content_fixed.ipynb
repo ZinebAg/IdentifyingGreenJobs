{
 "cells": [
  {
   "cell_type": "markdown",
   "metadata": {
    "id": "yZPU8oJ29Nr2"
   },
   "source": [
    "This notebook was inspired by : \"Transfer Learning for NLP: Fine-Tuning BERT for Text Classification\", Prateek Joshi — July 21, 2020, https://www.analyticsvidhya.com/blog/2020/07/transfer-learning-for-nlp-fine-tuning-bert-for-text-classification/"
   ]
  },
  {
   "cell_type": "code",
   "execution_count": 1,
   "metadata": {},
   "outputs": [],
   "source": [
    "# If using google drive, uncomment these 2 lines for accessing your myDrive folder\n",
    "#from google.colab import drive\n",
    "#drive.mount('/content/drive/')"
   ]
  },
  {
   "cell_type": "markdown",
   "metadata": {
    "id": "OFOTiqrtNvyy"
   },
   "source": [
    "# Install Libraries"
   ]
  },
  {
   "cell_type": "code",
   "execution_count": 2,
   "metadata": {
    "colab": {
     "base_uri": "https://localhost:8080/"
    },
    "id": "Yoq77pVhq-gC",
    "outputId": "a168d7ec-c899-48dc-c4a5-ab2278680d20"
   },
   "outputs": [
    {
     "name": "stdout",
     "output_type": "stream",
     "text": [
      "Requirement already satisfied: torchinfo in /Users/maximedulon/opt/anaconda3/lib/python3.8/site-packages (1.5.4)\n",
      "Note: you may need to restart the kernel to use updated packages.\n"
     ]
    }
   ],
   "source": [
    "pip install torchinfo"
   ]
  },
  {
   "cell_type": "code",
   "execution_count": 3,
   "metadata": {
    "colab": {
     "base_uri": "https://localhost:8080/"
    },
    "id": "1hkhc10wNrGt",
    "outputId": "65617b14-4b3c-485c-d56a-b2fd0eec2a95"
   },
   "outputs": [
    {
     "name": "stdout",
     "output_type": "stream",
     "text": [
      "Requirement already satisfied: transformers in /Users/maximedulon/opt/anaconda3/lib/python3.8/site-packages (4.12.5)\n",
      "Requirement already satisfied: regex!=2019.12.17 in /Users/maximedulon/opt/anaconda3/lib/python3.8/site-packages (from transformers) (2021.4.4)\n",
      "Requirement already satisfied: packaging>=20.0 in /Users/maximedulon/opt/anaconda3/lib/python3.8/site-packages (from transformers) (20.9)\n",
      "Requirement already satisfied: requests in /Users/maximedulon/opt/anaconda3/lib/python3.8/site-packages (from transformers) (2.25.1)\n",
      "Requirement already satisfied: sacremoses in /Users/maximedulon/opt/anaconda3/lib/python3.8/site-packages (from transformers) (0.0.46)\n",
      "Requirement already satisfied: tqdm>=4.27 in /Users/maximedulon/opt/anaconda3/lib/python3.8/site-packages (from transformers) (4.59.0)\n",
      "Requirement already satisfied: pyyaml>=5.1 in /Users/maximedulon/opt/anaconda3/lib/python3.8/site-packages (from transformers) (5.4.1)\n",
      "Requirement already satisfied: filelock in /Users/maximedulon/opt/anaconda3/lib/python3.8/site-packages (from transformers) (3.0.12)\n",
      "Requirement already satisfied: huggingface-hub<1.0,>=0.1.0 in /Users/maximedulon/opt/anaconda3/lib/python3.8/site-packages (from transformers) (0.2.1)\n",
      "Requirement already satisfied: tokenizers<0.11,>=0.10.1 in /Users/maximedulon/opt/anaconda3/lib/python3.8/site-packages (from transformers) (0.10.3)\n",
      "Requirement already satisfied: numpy>=1.17 in /Users/maximedulon/opt/anaconda3/lib/python3.8/site-packages (from transformers) (1.20.1)\n",
      "Requirement already satisfied: typing-extensions>=3.7.4.3 in /Users/maximedulon/opt/anaconda3/lib/python3.8/site-packages (from huggingface-hub<1.0,>=0.1.0->transformers) (3.7.4.3)\n",
      "Requirement already satisfied: pyparsing>=2.0.2 in /Users/maximedulon/opt/anaconda3/lib/python3.8/site-packages (from packaging>=20.0->transformers) (2.4.7)\n",
      "Requirement already satisfied: chardet<5,>=3.0.2 in /Users/maximedulon/opt/anaconda3/lib/python3.8/site-packages (from requests->transformers) (4.0.0)\n",
      "Requirement already satisfied: idna<3,>=2.5 in /Users/maximedulon/opt/anaconda3/lib/python3.8/site-packages (from requests->transformers) (2.10)\n",
      "Requirement already satisfied: urllib3<1.27,>=1.21.1 in /Users/maximedulon/opt/anaconda3/lib/python3.8/site-packages (from requests->transformers) (1.26.4)\n",
      "Requirement already satisfied: certifi>=2017.4.17 in /Users/maximedulon/opt/anaconda3/lib/python3.8/site-packages (from requests->transformers) (2020.12.5)\n",
      "Requirement already satisfied: six in /Users/maximedulon/opt/anaconda3/lib/python3.8/site-packages (from sacremoses->transformers) (1.15.0)\n",
      "Requirement already satisfied: joblib in /Users/maximedulon/opt/anaconda3/lib/python3.8/site-packages (from sacremoses->transformers) (1.0.1)\n",
      "Requirement already satisfied: click in /Users/maximedulon/opt/anaconda3/lib/python3.8/site-packages (from sacremoses->transformers) (7.1.2)\n"
     ]
    }
   ],
   "source": [
    "!pip install transformers"
   ]
  },
  {
   "cell_type": "code",
   "execution_count": 4,
   "metadata": {
    "id": "x4giRzM7NtHJ"
   },
   "outputs": [],
   "source": [
    "import numpy as np\n",
    "import pandas as pd\n",
    "import torch\n",
    "import torch.nn as nn\n",
    "from sklearn.model_selection import train_test_split\n",
    "from sklearn.metrics import classification_report\n",
    "import transformers\n",
    "from transformers import AutoModel, BertTokenizerFast\n",
    "import time\n",
    "from babel.dates import format_time\n",
    "import matplotlib.pyplot as plt\n",
    "\n",
    "# specify GPU or CPU\n",
    "#device = torch.device(\"cuda\")\n",
    "device = torch.device(\"cpu\")\n",
    "\n",
    "# Enter here your local path to labelled data\n",
    "PATH = ''"
   ]
  },
  {
   "cell_type": "markdown",
   "metadata": {
    "id": "kKd-Tj3hOMsZ"
   },
   "source": [
    "# Load Dataset"
   ]
  },
  {
   "cell_type": "code",
   "execution_count": 5,
   "metadata": {
    "colab": {
     "base_uri": "https://localhost:8080/",
     "height": 424
    },
    "id": "cwJrQFQgN_BE",
    "outputId": "db35ae6e-54e8-4428-c4fa-ba97878f4b0e"
   },
   "outputs": [
    {
     "data": {
      "text/html": [
       "<div>\n",
       "<style scoped>\n",
       "    .dataframe tbody tr th:only-of-type {\n",
       "        vertical-align: middle;\n",
       "    }\n",
       "\n",
       "    .dataframe tbody tr th {\n",
       "        vertical-align: top;\n",
       "    }\n",
       "\n",
       "    .dataframe thead th {\n",
       "        text-align: right;\n",
       "    }\n",
       "</style>\n",
       "<table border=\"1\" class=\"dataframe\">\n",
       "  <thead>\n",
       "    <tr style=\"text-align: right;\">\n",
       "      <th></th>\n",
       "      <th>content_no_custom_words</th>\n",
       "      <th>green_content</th>\n",
       "    </tr>\n",
       "  </thead>\n",
       "  <tbody>\n",
       "    <tr>\n",
       "      <th>0</th>\n",
       "      <td>betriebsmitarbeiter/in   betriebsmitarbeiter/i...</td>\n",
       "      <td>0.0</td>\n",
       "    </tr>\n",
       "    <tr>\n",
       "      <th>1</th>\n",
       "      <td>responsibilities: provides health care and ass...</td>\n",
       "      <td>1.0</td>\n",
       "    </tr>\n",
       "  </tbody>\n",
       "</table>\n",
       "</div>"
      ],
      "text/plain": [
       "                             content_no_custom_words  green_content\n",
       "0  betriebsmitarbeiter/in   betriebsmitarbeiter/i...            0.0\n",
       "1  responsibilities: provides health care and ass...            1.0"
      ]
     },
     "execution_count": 5,
     "metadata": {},
     "output_type": "execute_result"
    }
   ],
   "source": [
    "df_train = pd.read_csv(PATH + \"Content_Train_Label.csv\", usecols=['content_no_custom_words', 'green_content'])\n",
    "df_val = pd.read_csv(PATH + \"Content_Validation_Label.csv\")\n",
    "df_test = pd.read_csv(PATH + \"Test_Final.csv\", usecols=['content_no_custom_words'])\n",
    "df_train.head(2)"
   ]
  },
  {
   "cell_type": "code",
   "execution_count": 6,
   "metadata": {},
   "outputs": [
    {
     "data": {
      "text/html": [
       "<div>\n",
       "<style scoped>\n",
       "    .dataframe tbody tr th:only-of-type {\n",
       "        vertical-align: middle;\n",
       "    }\n",
       "\n",
       "    .dataframe tbody tr th {\n",
       "        vertical-align: top;\n",
       "    }\n",
       "\n",
       "    .dataframe thead th {\n",
       "        text-align: right;\n",
       "    }\n",
       "</style>\n",
       "<table border=\"1\" class=\"dataframe\">\n",
       "  <thead>\n",
       "    <tr style=\"text-align: right;\">\n",
       "      <th></th>\n",
       "      <th>content_no_custom_words</th>\n",
       "      <th>green_content</th>\n",
       "    </tr>\n",
       "  </thead>\n",
       "  <tbody>\n",
       "    <tr>\n",
       "      <th>0</th>\n",
       "      <td>this is your opportunity to join swiss re grou...</td>\n",
       "      <td>0</td>\n",
       "    </tr>\n",
       "    <tr>\n",
       "      <th>1</th>\n",
       "      <td>chauffeur b (nur für pensionierte)   chauffeur...</td>\n",
       "      <td>0</td>\n",
       "    </tr>\n",
       "  </tbody>\n",
       "</table>\n",
       "</div>"
      ],
      "text/plain": [
       "                             content_no_custom_words  green_content\n",
       "0  this is your opportunity to join swiss re grou...              0\n",
       "1  chauffeur b (nur für pensionierte)   chauffeur...              0"
      ]
     },
     "execution_count": 6,
     "metadata": {},
     "output_type": "execute_result"
    }
   ],
   "source": [
    "df_val.head(2)"
   ]
  },
  {
   "cell_type": "code",
   "execution_count": 7,
   "metadata": {},
   "outputs": [
    {
     "data": {
      "text/html": [
       "<div>\n",
       "<style scoped>\n",
       "    .dataframe tbody tr th:only-of-type {\n",
       "        vertical-align: middle;\n",
       "    }\n",
       "\n",
       "    .dataframe tbody tr th {\n",
       "        vertical-align: top;\n",
       "    }\n",
       "\n",
       "    .dataframe thead th {\n",
       "        text-align: right;\n",
       "    }\n",
       "</style>\n",
       "<table border=\"1\" class=\"dataframe\">\n",
       "  <thead>\n",
       "    <tr style=\"text-align: right;\">\n",
       "      <th></th>\n",
       "      <th>content_no_custom_words</th>\n",
       "    </tr>\n",
       "  </thead>\n",
       "  <tbody>\n",
       "    <tr>\n",
       "      <th>0</th>\n",
       "      <td>business process engineers / software entwickl...</td>\n",
       "    </tr>\n",
       "    <tr>\n",
       "      <th>1</th>\n",
       "      <td>kranführer/in mit suva ausweis   kranführer/in...</td>\n",
       "    </tr>\n",
       "  </tbody>\n",
       "</table>\n",
       "</div>"
      ],
      "text/plain": [
       "                             content_no_custom_words\n",
       "0  business process engineers / software entwickl...\n",
       "1  kranführer/in mit suva ausweis   kranführer/in..."
      ]
     },
     "execution_count": 7,
     "metadata": {},
     "output_type": "execute_result"
    }
   ],
   "source": [
    "df_test.head(2)"
   ]
  },
  {
   "cell_type": "code",
   "execution_count": 8,
   "metadata": {
    "colab": {
     "base_uri": "https://localhost:8080/"
    },
    "id": "fzPPOrVQWiW5",
    "outputId": "2d6561d8-40d2-4eeb-a149-db8053f818c1"
   },
   "outputs": [
    {
     "data": {
      "text/plain": [
       "(18176, 2)"
      ]
     },
     "execution_count": 8,
     "metadata": {},
     "output_type": "execute_result"
    }
   ],
   "source": [
    "# Size of training set\n",
    "df_train.shape"
   ]
  },
  {
   "cell_type": "code",
   "execution_count": 9,
   "metadata": {
    "colab": {
     "base_uri": "https://localhost:8080/"
    },
    "id": "676DPU1BOPdp",
    "outputId": "eb99003d-9374-4375-a72a-5a08ef89a303"
   },
   "outputs": [
    {
     "data": {
      "text/plain": [
       "0.0    0.84496\n",
       "1.0    0.15504\n",
       "Name: green_content, dtype: float64"
      ]
     },
     "execution_count": 9,
     "metadata": {},
     "output_type": "execute_result"
    }
   ],
   "source": [
    "# check class distribution of train\n",
    "df_train['green_content'].value_counts(normalize = True)"
   ]
  },
  {
   "cell_type": "code",
   "execution_count": 10,
   "metadata": {
    "colab": {
     "base_uri": "https://localhost:8080/"
    },
    "id": "Wfrx8ZeTL9vH",
    "outputId": "145ce04f-2d41-4dd3-da1a-4bd94a1b99fd"
   },
   "outputs": [
    {
     "data": {
      "text/plain": [
       "0    0.91\n",
       "1    0.09\n",
       "Name: green_content, dtype: float64"
      ]
     },
     "execution_count": 10,
     "metadata": {},
     "output_type": "execute_result"
    }
   ],
   "source": [
    "# check class distribution of validation\n",
    "df_val['green_content'].value_counts(normalize = True)"
   ]
  },
  {
   "cell_type": "markdown",
   "metadata": {
    "id": "MKfWnApvOoE7"
   },
   "source": [
    "# Split train dataset into train, validation and test sets"
   ]
  },
  {
   "cell_type": "code",
   "execution_count": 11,
   "metadata": {
    "id": "mfhSPF5jOWb7"
   },
   "outputs": [],
   "source": [
    "train_text = df_train['content_no_custom_words']\n",
    "train_labels = df_train['green_content'].astype(int)\n",
    "val_text = df_val['content_no_custom_words']\n",
    "val_labels = df_val['green_content'].astype(int)\n",
    "test_text = df_test['content_no_custom_words']"
   ]
  },
  {
   "cell_type": "markdown",
   "metadata": {
    "id": "n7hsdLoCO7uB"
   },
   "source": [
    "# Import BERT Model and BERT Tokenizer"
   ]
  },
  {
   "cell_type": "code",
   "execution_count": 12,
   "metadata": {
    "colab": {
     "base_uri": "https://localhost:8080/",
     "height": 249,
     "referenced_widgets": [
      "3e457563538943cf9e53f0480b5bad13",
      "ab3313c6976d4495b7ffa3b5faf43a69",
      "1964334e881040e29ebf752c7634e894",
      "d20924391ab1443fa560ca7d88750564",
      "bad924ffc8164206bd6c8e52d68130ab",
      "7e3ac69e118c464aa09fc3533da7454b",
      "dc210c205c6b43e595c1a56d617ac0b0",
      "7d6f175022964e098654b5eec86a8b96",
      "d9a3a5b5eb054839911e0e019a0a2907",
      "160b44de41134308afdf03d85e2068ab",
      "24af51d797114b179dcc994404b7d6bf",
      "80eeefaf4a8b4348bdaac963b2e7ddca",
      "458ab9ee1dfc47b58a8d2800db640d24",
      "c71027929538456f8b9f59e0114fc4a0",
      "813c0f413251455e8db447f3473b652e",
      "2c38cca5ae5a44ce9b2a86668c60e094",
      "ed373ae45ee3480e9356e8170060fdb3",
      "7c15b79fb6f149a0a8a4132af272484b",
      "d413e040c915483da20327e48312d991",
      "3c13c746d22a4472917974a0efd137ba",
      "dbf08082bddf481c91a9e6a951065b87",
      "ffd27ec1ec03475189c79f17978d9d03",
      "2113c465c78443548aa10119af8e680f",
      "657f94e125dc43b482b63390af12d223",
      "b2a0906cb417432cad788c4e98dcd12b",
      "f4c81aea97d84c3d8ab13cf146acbf86",
      "1ba96257e6154195acbf7411c58bf80f",
      "1c3ad492cce14fe4a9e2396295fc29f8",
      "f1dbebc01c104dc4b4c8997b76fcdaa5",
      "54c75bed593448a5b90bd046dadf7289",
      "03c35987e1a84ab8ac26ae943b3cdc83",
      "dcf75d9e1ec048acbfab79b930282c23",
      "a7925611141b403e94294e4fa1935c40",
      "c67597c459914163bfada03bc004b793",
      "d6e017de97ec4efcb678428edf344777",
      "6832e31d257c4f3f8ddbfa0d85a7e0b8",
      "2c33554b1ca64aacb2202ac57e397147",
      "99f937ed02a741038307f20283b1eac6",
      "89607a6962d2417c9a0d4fe53fc2a3d8",
      "b0aa6fb3b0dd423cbeb28ed6db481243",
      "7830e709e12c4e40b98c7ed7bdf72f22",
      "cded38dac2424a548df602dc65c4784f",
      "e208618987b2474da452e19ba624b200",
      "d58769aa551d4c4181104bb7261817b2",
      "86f094161db24fc5bd923d6d8c35d97a",
      "c68f254eff684208b620bc5ec2486b74",
      "df3447abb6a348d9a081318c7e545939",
      "29a1e6b7d1ab4b1d9c62c9d5463e4b69",
      "ca98293ca49546e6886809d34085817f",
      "476e9f3b621e462fa8e90cf9e15fb87d",
      "12f84aa3df914dfdaee1099fcadbe949",
      "64a30586d48b4222a1374ac88275fedb",
      "8d8c7eb17c9147c893e36c7c45cdd454",
      "fbf57b698d4a4d129f8bb7009eb2e539",
      "52a0a3b77157413a9b86106af992b9bd"
     ]
    },
    "id": "S1kY3gZjO2RE",
    "outputId": "3208e3f7-9a7a-4163-a22e-9e33733a4c7c"
   },
   "outputs": [
    {
     "name": "stderr",
     "output_type": "stream",
     "text": [
      "Some weights of the model checkpoint at bert-base-uncased were not used when initializing BertModel: ['cls.predictions.transform.dense.weight', 'cls.seq_relationship.weight', 'cls.seq_relationship.bias', 'cls.predictions.transform.LayerNorm.bias', 'cls.predictions.transform.LayerNorm.weight', 'cls.predictions.decoder.weight', 'cls.predictions.bias', 'cls.predictions.transform.dense.bias']\n",
      "- This IS expected if you are initializing BertModel from the checkpoint of a model trained on another task or with another architecture (e.g. initializing a BertForSequenceClassification model from a BertForPreTraining model).\n",
      "- This IS NOT expected if you are initializing BertModel from the checkpoint of a model that you expect to be exactly identical (initializing a BertForSequenceClassification model from a BertForSequenceClassification model).\n"
     ]
    }
   ],
   "source": [
    "# import BERT-base pretrained model\n",
    "bert = AutoModel.from_pretrained('bert-base-uncased')\n",
    "\n",
    "# Load the BERT tokenizer\n",
    "tokenizer = BertTokenizerFast.from_pretrained('bert-base-uncased')"
   ]
  },
  {
   "cell_type": "markdown",
   "metadata": {
    "id": "8wIYaWI_Prg8"
   },
   "source": [
    "# Tokenization"
   ]
  },
  {
   "cell_type": "code",
   "execution_count": 13,
   "metadata": {
    "colab": {
     "base_uri": "https://localhost:8080/",
     "height": 282
    },
    "id": "yKwbpeN_PMiu",
    "outputId": "663b7bed-5a10-40f0-b7c0-515f892da9c7"
   },
   "outputs": [
    {
     "data": {
      "text/plain": [
       "<AxesSubplot:>"
      ]
     },
     "execution_count": 13,
     "metadata": {},
     "output_type": "execute_result"
    },
    {
     "data": {
      "image/png": "[encoded data removed]",
      "text/plain": [
       "<Figure size 432x288 with 1 Axes>"
      ]
     },
     "metadata": {
      "needs_background": "light"
     },
     "output_type": "display_data"
    }
   ],
   "source": [
    "# get length of all the messages in the train set\n",
    "seq_len = [len(i.split()) for i in train_text]\n",
    "\n",
    "pd.Series(seq_len).hist(bins = 30)"
   ]
  },
  {
   "cell_type": "code",
   "execution_count": 14,
   "metadata": {
    "id": "OXcswEIRPvGe"
   },
   "outputs": [],
   "source": [
    "# set the max length to encore as 20 looking at the length distribution\n",
    "max_seq_len = 175"
   ]
  },
  {
   "cell_type": "code",
   "execution_count": 15,
   "metadata": {
    "colab": {
     "base_uri": "https://localhost:8080/"
    },
    "id": "tk5S7DWaP2t6",
    "outputId": "04eb2c34-af6e-4b8c-a692-6e6761319370"
   },
   "outputs": [
    {
     "name": "stderr",
     "output_type": "stream",
     "text": [
      "/Users/maximedulon/opt/anaconda3/lib/python3.8/site-packages/transformers/tokenization_utils_base.py:2212: FutureWarning: The `pad_to_max_length` argument is deprecated and will be removed in a future version, use `padding=True` or `padding='longest'` to pad to the longest sequence in the batch, or use `padding='max_length'` to pad to a max length. In this case, you can give a specific length with `max_length` (e.g. `max_length=45`) or leave max_length to None to pad to the maximal input size of the model (e.g. 512 for Bert).\n",
      "  warnings.warn(\n"
     ]
    }
   ],
   "source": [
    "# tokenize and encode sequences in the training set\n",
    "tokens_train = tokenizer.batch_encode_plus(\n",
    "    train_text.tolist(),\n",
    "    max_length = max_seq_len,\n",
    "    pad_to_max_length=True,\n",
    "    truncation=True,\n",
    "    return_token_type_ids=False\n",
    ")\n",
    "\n",
    "# tokenize and encode sequences in the validation set\n",
    "tokens_val = tokenizer.batch_encode_plus(\n",
    "    val_text.tolist(),\n",
    "    max_length = max_seq_len,\n",
    "    pad_to_max_length=True,\n",
    "    truncation=True,\n",
    "    return_token_type_ids=False\n",
    ")\n",
    "\n",
    "# tokenize and encode sequences in the test set\n",
    "tokens_test = tokenizer.batch_encode_plus(\n",
    "    test_text.tolist(),\n",
    "    max_length = max_seq_len,\n",
    "    pad_to_max_length=True,\n",
    "    truncation=True,\n",
    "    return_token_type_ids=False\n",
    ")"
   ]
  },
  {
   "cell_type": "markdown",
   "metadata": {
    "id": "Wsm8bkRZQTw9"
   },
   "source": [
    "# Convert Integer Sequences to Tensors"
   ]
  },
  {
   "cell_type": "code",
   "execution_count": 16,
   "metadata": {
    "id": "QR-lXwmzQPd6"
   },
   "outputs": [],
   "source": [
    "# for train set\n",
    "train_seq = torch.tensor(tokens_train['input_ids'])\n",
    "train_mask = torch.tensor(tokens_train['attention_mask'])\n",
    "train_y = torch.tensor(train_labels.tolist())\n",
    "\n",
    "# for validation set\n",
    "val_seq = torch.tensor(tokens_val['input_ids'])\n",
    "val_mask = torch.tensor(tokens_val['attention_mask'])\n",
    "val_y = torch.tensor(val_labels.tolist())\n",
    "\n",
    "# for test set\n",
    "test_seq = torch.tensor(tokens_test['input_ids'])\n",
    "test_mask = torch.tensor(tokens_test['attention_mask'])"
   ]
  },
  {
   "cell_type": "markdown",
   "metadata": {
    "id": "Ov1cOBlcRLuk"
   },
   "source": [
    "# Create DataLoaders"
   ]
  },
  {
   "cell_type": "code",
   "execution_count": 17,
   "metadata": {
    "id": "qUy9JKFYQYLp"
   },
   "outputs": [],
   "source": [
    "from torch.utils.data import TensorDataset, DataLoader, RandomSampler, SequentialSampler\n",
    "\n",
    "#define a batch size\n",
    "batch_size = 32\n",
    "\n",
    "# wrap tensors\n",
    "train_data = TensorDataset(train_seq, train_mask, train_y)\n",
    "\n",
    "# sampler for sampling the data during training\n",
    "train_sampler = RandomSampler(train_data)\n",
    "\n",
    "# dataLoader for train set\n",
    "train_dataloader = DataLoader(train_data, sampler=train_sampler, batch_size=batch_size)\n",
    "\n",
    "# wrap tensors\n",
    "val_data = TensorDataset(val_seq, val_mask, val_y)\n",
    "\n",
    "# sampler for sampling the data during training\n",
    "# Uncomment the following line if the validation set is large enough to sample validation data\n",
    "# val_sampler = SequentialSampler(val_data)\n",
    "\n",
    "# dataLoader for validation set\n",
    "val_dataloader = DataLoader(val_data, batch_size=batch_size)\n",
    "# Use the following line instead of the preceding one, if validation data sampling is desired\n",
    "#val_dataloader = DataLoader(val_data, sampler = val_sampler, batch_size=batch_size)"
   ]
  },
  {
   "cell_type": "markdown",
   "metadata": {
    "id": "K2HZc5ZYRV28"
   },
   "source": [
    "# Freeze BERT Parameters"
   ]
  },
  {
   "cell_type": "code",
   "execution_count": 18,
   "metadata": {
    "id": "wHZ0MC00RQA_"
   },
   "outputs": [],
   "source": [
    "# freeze all the parameters\n",
    "for param in bert.parameters():\n",
    "    param.requires_grad = False"
   ]
  },
  {
   "cell_type": "markdown",
   "metadata": {
    "id": "s7ahGBUWRi3X"
   },
   "source": [
    "# Define Model Architecture"
   ]
  },
  {
   "cell_type": "code",
   "execution_count": 19,
   "metadata": {
    "id": "b3iEtGyYRd0A"
   },
   "outputs": [],
   "source": [
    "class BERT_Arch(nn.Module):\n",
    "\n",
    "    def __init__(self, bert):\n",
    "      \n",
    "      super(BERT_Arch, self).__init__()\n",
    "\n",
    "      self.bert = bert \n",
    "      \n",
    "      # dropout layer\n",
    "      self.dropout = nn.Dropout(0.1)\n",
    "      \n",
    "      # relu activation function\n",
    "      self.relu =  nn.ReLU()\n",
    "\n",
    "      # dense layer 1\n",
    "      self.fc1 = nn.Linear(768,512)\n",
    "      \n",
    "      # dense layer 2 (Output layer)\n",
    "      self.fc2 = nn.Linear(512,2)\n",
    "\n",
    "      #softmax activation function\n",
    "      self.softmax = nn.LogSoftmax(dim=1)\n",
    "\n",
    "    #define the forward pass\n",
    "    def forward(self, sent_id, mask):\n",
    "\n",
    "      #pass the inputs to the model  \n",
    "      _, cls_hs = self.bert(sent_id, attention_mask=mask, return_dict=False)\n",
    "      \n",
    "      x = self.fc1(cls_hs)\n",
    "\n",
    "      x = self.relu(x)\n",
    "\n",
    "      x = self.dropout(x)\n",
    "\n",
    "      # output layer\n",
    "      x = self.fc2(x)\n",
    "      \n",
    "      # apply softmax activation\n",
    "      x = self.softmax(x)\n",
    "\n",
    "      return x"
   ]
  },
  {
   "cell_type": "code",
   "execution_count": 20,
   "metadata": {
    "id": "cBAJJVuJRliv"
   },
   "outputs": [],
   "source": [
    "# pass the pre-trained BERT to our define architecture\n",
    "model = BERT_Arch(bert)\n",
    "\n",
    "# push the model to GPU\n",
    "model = model.to(device)"
   ]
  },
  {
   "cell_type": "code",
   "execution_count": 21,
   "metadata": {
    "id": "taXS0IilRn9J"
   },
   "outputs": [],
   "source": [
    "# optimizer from hugging face transformers\n",
    "from transformers import AdamW\n",
    "\n",
    "# define the optimizer\n",
    "lr = 1e-3\n",
    "optimizer = AdamW(model.parameters(), lr=lr)"
   ]
  },
  {
   "cell_type": "markdown",
   "metadata": {
    "id": "j9CDpoMQR_rK"
   },
   "source": [
    "# Find Class Weights"
   ]
  },
  {
   "cell_type": "code",
   "execution_count": 22,
   "metadata": {
    "colab": {
     "base_uri": "https://localhost:8080/"
    },
    "id": "izY5xH5eR7Ur",
    "outputId": "4f7bb7b8-34e1-4e5c-9a25-f466c930d51b"
   },
   "outputs": [
    {
     "name": "stdout",
     "output_type": "stream",
     "text": [
      "Class Weights: [0.59174372 3.22498226]\n"
     ]
    }
   ],
   "source": [
    "from sklearn.utils.class_weight import compute_class_weight\n",
    "\n",
    "#compute the class weights\n",
    "class_wts = compute_class_weight(class_weight='balanced', classes=np.unique(train_labels), y=train_labels)\n",
    "\n",
    "print(\"Class Weights:\", class_wts)"
   ]
  },
  {
   "cell_type": "code",
   "execution_count": 23,
   "metadata": {
    "id": "r1WvfY2vSGKi"
   },
   "outputs": [],
   "source": [
    "# convert class weights to tensor\n",
    "weights = torch.tensor(class_wts,dtype=torch.float)\n",
    "weights = weights.to(device)\n",
    "\n",
    "# loss function\n",
    "cross_entropy  = nn.NLLLoss(weight=weights) \n",
    "\n",
    "# number of training epochs\n",
    "epochs = 30"
   ]
  },
  {
   "cell_type": "markdown",
   "metadata": {
    "id": "My4CA0qaShLq"
   },
   "source": [
    "# Fine-Tune BERT"
   ]
  },
  {
   "cell_type": "code",
   "execution_count": 24,
   "metadata": {
    "id": "rskLk8R_SahS"
   },
   "outputs": [],
   "source": [
    "# function to train the model\n",
    "def train():\n",
    "  \n",
    "  model.train()\n",
    "\n",
    "  total_loss, total_accuracy = 0, 0\n",
    "  \n",
    "  # empty list to save model predictions\n",
    "  total_preds=[]\n",
    "  \n",
    "  # iterate over batches\n",
    "  for step,batch in enumerate(train_dataloader):\n",
    "    \n",
    "    # progress update after every 50 batches.\n",
    "    if step % 50 == 0 and not step == 0:\n",
    "      print('  Batch {:>5,}  of  {:>5,}.'.format(step, len(train_dataloader)))\n",
    "\n",
    "    # push the batch to gpu\n",
    "    batch = [r.to(device) for r in batch]\n",
    " \n",
    "    sent_id, mask, labels = batch\n",
    "\n",
    "    # clear previously calculated gradients \n",
    "    model.zero_grad()        \n",
    "\n",
    "    # get model predictions for the current batch\n",
    "    preds = model(sent_id, mask)\n",
    "\n",
    "    # compute the loss between actual and predicted values\n",
    "    loss = cross_entropy(preds, labels)\n",
    "\n",
    "    # add on to the total loss\n",
    "    total_loss = total_loss + loss.item()\n",
    "\n",
    "    # backward pass to calculate the gradients\n",
    "    loss.backward()\n",
    "\n",
    "    # clip the the gradients to 1.0. It helps in preventing the exploding gradient problem\n",
    "    torch.nn.utils.clip_grad_norm_(model.parameters(), 1.0)\n",
    "\n",
    "    # update parameters\n",
    "    optimizer.step()\n",
    "\n",
    "    # model predictions are stored on GPU. So, push it to CPU\n",
    "    preds=preds.detach().cpu().numpy()\n",
    "\n",
    "    # append the model predictions\n",
    "    total_preds.append(preds)\n",
    "\n",
    "  # compute the training loss of the epoch\n",
    "  avg_loss = total_loss / len(train_dataloader)\n",
    "  \n",
    "  # predictions are in the form of (no. of batches, size of batch, no. of classes).\n",
    "  # reshape the predictions in form of (number of samples, no. of classes)\n",
    "  total_preds  = np.concatenate(total_preds, axis=0)\n",
    "\n",
    "  #returns the loss and predictions\n",
    "  return avg_loss, total_preds"
   ]
  },
  {
   "cell_type": "code",
   "execution_count": 25,
   "metadata": {
    "id": "yGXovFDlSxB5"
   },
   "outputs": [],
   "source": [
    "# function for evaluating the model\n",
    "def evaluate():\n",
    "  \n",
    "  print(\"\\nEvaluating...\")\n",
    "  \n",
    "  # deactivate dropout layers\n",
    "  model.eval()\n",
    "\n",
    "  total_loss, total_accuracy = 0, 0\n",
    "  \n",
    "  # empty list to save the model predictions\n",
    "  total_preds = []\n",
    "\n",
    "  # iterate over batches\n",
    "  for step,batch in enumerate(val_dataloader):\n",
    "    \n",
    "    # Progress update every 50 batches.\n",
    "    if step % 50 == 0 and not step == 0:\n",
    "      \n",
    "      # Calculate elapsed time in minutes.\n",
    "      #elapsed = format_time(time.time() - t0)\n",
    "            \n",
    "      # Report progress.\n",
    "      print('  Batch {:>5,}  of  {:>5,}.'.format(step, len(val_dataloader)))\n",
    "\n",
    "    # push the batch to gpu\n",
    "    batch = [t.to(device) for t in batch]\n",
    "\n",
    "    sent_id, mask, labels = batch\n",
    "\n",
    "    # deactivate autograd\n",
    "    with torch.no_grad():\n",
    "      \n",
    "      # model predictions\n",
    "      preds = model(sent_id, mask)\n",
    "\n",
    "      # compute the validation loss between actual and predicted values\n",
    "      loss = cross_entropy(preds,labels)\n",
    "\n",
    "      total_loss = total_loss + loss.item()\n",
    "\n",
    "      preds = preds.detach().cpu().numpy()\n",
    "\n",
    "      total_preds.append(preds)\n",
    "\n",
    "  # compute the validation loss of the epoch\n",
    "  avg_loss = total_loss / len(val_dataloader) \n",
    "\n",
    "  # reshape the predictions in form of (number of samples, no. of classes)\n",
    "  total_preds  = np.concatenate(total_preds, axis=0)\n",
    "\n",
    "  return avg_loss, total_preds"
   ]
  },
  {
   "cell_type": "markdown",
   "metadata": {
    "id": "9KZEgxRRTLXG"
   },
   "source": [
    "# Start Model Training"
   ]
  },
  {
   "cell_type": "code",
   "execution_count": 26,
   "metadata": {
    "colab": {
     "base_uri": "https://localhost:8080/"
    },
    "id": "k1USGTntS3TS",
    "outputId": "df6231e9-b932-4b85-a8cd-72204cd33d14"
   },
   "outputs": [
    {
     "name": "stdout",
     "output_type": "stream",
     "text": [
      "\n",
      " Epoch 1 / 30\n",
      "  Batch    50  of    568.\n",
      "  Batch   100  of    568.\n",
      "  Batch   150  of    568.\n",
      "  Batch   200  of    568.\n",
      "  Batch   250  of    568.\n",
      "  Batch   300  of    568.\n",
      "  Batch   350  of    568.\n",
      "  Batch   400  of    568.\n",
      "  Batch   450  of    568.\n",
      "  Batch   500  of    568.\n",
      "  Batch   550  of    568.\n",
      "\n",
      "Evaluating...\n",
      "\n",
      "Training Loss: 0.665\n",
      "Validation Loss: 0.392\n",
      "\n",
      "Elapsed Time: 00h06m13s\n",
      "\n",
      " Epoch 2 / 30\n",
      "  Batch    50  of    568.\n",
      "  Batch   100  of    568.\n",
      "  Batch   150  of    568.\n",
      "  Batch   200  of    568.\n",
      "  Batch   250  of    568.\n",
      "  Batch   300  of    568.\n",
      "  Batch   350  of    568.\n",
      "  Batch   400  of    568.\n",
      "  Batch   450  of    568.\n",
      "  Batch   500  of    568.\n",
      "  Batch   550  of    568.\n",
      "\n",
      "Evaluating...\n",
      "\n",
      "Training Loss: 0.616\n",
      "Validation Loss: 0.620\n",
      "\n",
      "Elapsed Time: 00h06m12s\n",
      "\n",
      " Epoch 3 / 30\n",
      "  Batch    50  of    568.\n",
      "  Batch   100  of    568.\n",
      "  Batch   150  of    568.\n",
      "  Batch   200  of    568.\n",
      "  Batch   250  of    568.\n",
      "  Batch   300  of    568.\n",
      "  Batch   350  of    568.\n",
      "  Batch   400  of    568.\n",
      "  Batch   450  of    568.\n",
      "  Batch   500  of    568.\n",
      "  Batch   550  of    568.\n",
      "\n",
      "Evaluating...\n",
      "\n",
      "Training Loss: 0.579\n",
      "Validation Loss: 0.545\n",
      "\n",
      "Elapsed Time: 00h06m08s\n",
      "\n",
      " Epoch 4 / 30\n",
      "  Batch    50  of    568.\n",
      "  Batch   100  of    568.\n",
      "  Batch   150  of    568.\n",
      "  Batch   200  of    568.\n",
      "  Batch   250  of    568.\n",
      "  Batch   300  of    568.\n",
      "  Batch   350  of    568.\n",
      "  Batch   400  of    568.\n",
      "  Batch   450  of    568.\n",
      "  Batch   500  of    568.\n",
      "  Batch   550  of    568.\n",
      "\n",
      "Evaluating...\n",
      "\n",
      "Training Loss: 0.571\n",
      "Validation Loss: 0.447\n",
      "\n",
      "Elapsed Time: 00h06m08s\n",
      "\n",
      " Epoch 5 / 30\n",
      "  Batch    50  of    568.\n",
      "  Batch   100  of    568.\n",
      "  Batch   150  of    568.\n",
      "  Batch   200  of    568.\n",
      "  Batch   250  of    568.\n",
      "  Batch   300  of    568.\n",
      "  Batch   350  of    568.\n",
      "  Batch   400  of    568.\n",
      "  Batch   450  of    568.\n",
      "  Batch   500  of    568.\n",
      "  Batch   550  of    568.\n",
      "\n",
      "Evaluating...\n",
      "\n",
      "Training Loss: 0.545\n",
      "Validation Loss: 0.371\n",
      "\n",
      "Elapsed Time: 00h06m09s\n",
      "\n",
      " Epoch 6 / 30\n",
      "  Batch    50  of    568.\n",
      "  Batch   100  of    568.\n",
      "  Batch   150  of    568.\n",
      "  Batch   200  of    568.\n",
      "  Batch   250  of    568.\n",
      "  Batch   300  of    568.\n",
      "  Batch   350  of    568.\n",
      "  Batch   400  of    568.\n",
      "  Batch   450  of    568.\n",
      "  Batch   500  of    568.\n",
      "  Batch   550  of    568.\n",
      "\n",
      "Evaluating...\n",
      "\n",
      "Training Loss: 0.528\n",
      "Validation Loss: 0.318\n",
      "\n",
      "Elapsed Time: 00h06m10s\n",
      "\n",
      " Epoch 7 / 30\n",
      "  Batch    50  of    568.\n",
      "  Batch   100  of    568.\n",
      "  Batch   150  of    568.\n",
      "  Batch   200  of    568.\n",
      "  Batch   250  of    568.\n",
      "  Batch   300  of    568.\n",
      "  Batch   350  of    568.\n",
      "  Batch   400  of    568.\n",
      "  Batch   450  of    568.\n",
      "  Batch   500  of    568.\n",
      "  Batch   550  of    568.\n",
      "\n",
      "Evaluating...\n",
      "\n",
      "Training Loss: 0.527\n",
      "Validation Loss: 0.414\n",
      "\n",
      "Elapsed Time: 00h06m07s\n",
      "\n",
      " Epoch 8 / 30\n",
      "  Batch    50  of    568.\n",
      "  Batch   100  of    568.\n",
      "  Batch   150  of    568.\n",
      "  Batch   200  of    568.\n",
      "  Batch   250  of    568.\n",
      "  Batch   300  of    568.\n",
      "  Batch   350  of    568.\n",
      "  Batch   400  of    568.\n",
      "  Batch   450  of    568.\n",
      "  Batch   500  of    568.\n",
      "  Batch   550  of    568.\n",
      "\n",
      "Evaluating...\n",
      "\n",
      "Training Loss: 0.514\n",
      "Validation Loss: 0.324\n",
      "\n",
      "Elapsed Time: 00h06m07s\n",
      "\n",
      " Epoch 9 / 30\n",
      "  Batch    50  of    568.\n",
      "  Batch   100  of    568.\n",
      "  Batch   150  of    568.\n",
      "  Batch   200  of    568.\n",
      "  Batch   250  of    568.\n",
      "  Batch   300  of    568.\n",
      "  Batch   350  of    568.\n",
      "  Batch   400  of    568.\n",
      "  Batch   450  of    568.\n",
      "  Batch   500  of    568.\n",
      "  Batch   550  of    568.\n",
      "\n",
      "Evaluating...\n",
      "\n",
      "Training Loss: 0.510\n",
      "Validation Loss: 0.521\n",
      "\n",
      "Elapsed Time: 00h06m08s\n",
      "\n",
      " Epoch 10 / 30\n",
      "  Batch    50  of    568.\n",
      "  Batch   100  of    568.\n",
      "  Batch   150  of    568.\n",
      "  Batch   200  of    568.\n",
      "  Batch   250  of    568.\n",
      "  Batch   300  of    568.\n",
      "  Batch   350  of    568.\n",
      "  Batch   400  of    568.\n",
      "  Batch   450  of    568.\n",
      "  Batch   500  of    568.\n",
      "  Batch   550  of    568.\n",
      "\n",
      "Evaluating...\n",
      "\n",
      "Training Loss: 0.500\n",
      "Validation Loss: 0.394\n",
      "\n",
      "Elapsed Time: 00h06m09s\n",
      "\n",
      " Epoch 11 / 30\n",
      "  Batch    50  of    568.\n",
      "  Batch   100  of    568.\n",
      "  Batch   150  of    568.\n",
      "  Batch   200  of    568.\n",
      "  Batch   250  of    568.\n",
      "  Batch   300  of    568.\n",
      "  Batch   350  of    568.\n",
      "  Batch   400  of    568.\n",
      "  Batch   450  of    568.\n",
      "  Batch   500  of    568.\n",
      "  Batch   550  of    568.\n",
      "\n",
      "Evaluating...\n",
      "\n",
      "Training Loss: 0.512\n",
      "Validation Loss: 0.456\n",
      "\n",
      "Elapsed Time: 00h06m07s\n",
      "\n",
      " Epoch 12 / 30\n",
      "  Batch    50  of    568.\n",
      "  Batch   100  of    568.\n",
      "  Batch   150  of    568.\n",
      "  Batch   200  of    568.\n",
      "  Batch   250  of    568.\n",
      "  Batch   300  of    568.\n",
      "  Batch   350  of    568.\n",
      "  Batch   400  of    568.\n",
      "  Batch   450  of    568.\n",
      "  Batch   500  of    568.\n",
      "  Batch   550  of    568.\n",
      "\n",
      "Evaluating...\n",
      "\n",
      "Training Loss: 0.501\n",
      "Validation Loss: 0.442\n",
      "\n",
      "Elapsed Time: 00h06m07s\n",
      "\n",
      " Epoch 13 / 30\n",
      "  Batch    50  of    568.\n",
      "  Batch   100  of    568.\n",
      "  Batch   150  of    568.\n",
      "  Batch   200  of    568.\n",
      "  Batch   250  of    568.\n",
      "  Batch   300  of    568.\n",
      "  Batch   350  of    568.\n",
      "  Batch   400  of    568.\n",
      "  Batch   450  of    568.\n",
      "  Batch   500  of    568.\n",
      "  Batch   550  of    568.\n",
      "\n",
      "Evaluating...\n",
      "\n",
      "Training Loss: 0.503\n",
      "Validation Loss: 0.299\n",
      "\n",
      "Elapsed Time: 00h06m11s\n",
      "\n",
      " Epoch 14 / 30\n",
      "  Batch    50  of    568.\n",
      "  Batch   100  of    568.\n",
      "  Batch   150  of    568.\n",
      "  Batch   200  of    568.\n",
      "  Batch   250  of    568.\n",
      "  Batch   300  of    568.\n",
      "  Batch   350  of    568.\n",
      "  Batch   400  of    568.\n",
      "  Batch   450  of    568.\n",
      "  Batch   500  of    568.\n",
      "  Batch   550  of    568.\n",
      "\n",
      "Evaluating...\n",
      "\n",
      "Training Loss: 0.503\n",
      "Validation Loss: 0.284\n",
      "\n",
      "Elapsed Time: 00h06m09s\n",
      "\n",
      " Epoch 15 / 30\n",
      "  Batch    50  of    568.\n",
      "  Batch   100  of    568.\n",
      "  Batch   150  of    568.\n",
      "  Batch   200  of    568.\n",
      "  Batch   250  of    568.\n",
      "  Batch   300  of    568.\n",
      "  Batch   350  of    568.\n",
      "  Batch   400  of    568.\n",
      "  Batch   450  of    568.\n",
      "  Batch   500  of    568.\n",
      "  Batch   550  of    568.\n",
      "\n",
      "Evaluating...\n",
      "\n",
      "Training Loss: 0.506\n",
      "Validation Loss: 0.535\n",
      "\n",
      "Elapsed Time: 00h06m07s\n",
      "\n",
      " Epoch 16 / 30\n",
      "  Batch    50  of    568.\n",
      "  Batch   100  of    568.\n",
      "  Batch   150  of    568.\n",
      "  Batch   200  of    568.\n",
      "  Batch   250  of    568.\n",
      "  Batch   300  of    568.\n",
      "  Batch   350  of    568.\n",
      "  Batch   400  of    568.\n",
      "  Batch   450  of    568.\n",
      "  Batch   500  of    568.\n",
      "  Batch   550  of    568.\n",
      "\n",
      "Evaluating...\n",
      "\n",
      "Training Loss: 0.496\n",
      "Validation Loss: 0.383\n",
      "\n",
      "Elapsed Time: 00h06m07s\n",
      "\n",
      " Epoch 17 / 30\n",
      "  Batch    50  of    568.\n",
      "  Batch   100  of    568.\n",
      "  Batch   150  of    568.\n",
      "  Batch   200  of    568.\n",
      "  Batch   250  of    568.\n",
      "  Batch   300  of    568.\n",
      "  Batch   350  of    568.\n",
      "  Batch   400  of    568.\n",
      "  Batch   450  of    568.\n",
      "  Batch   500  of    568.\n",
      "  Batch   550  of    568.\n",
      "\n",
      "Evaluating...\n",
      "\n",
      "Training Loss: 0.494\n",
      "Validation Loss: 0.574\n",
      "\n",
      "Elapsed Time: 00h06m09s\n",
      "\n",
      " Epoch 18 / 30\n",
      "  Batch    50  of    568.\n",
      "  Batch   100  of    568.\n",
      "  Batch   150  of    568.\n",
      "  Batch   200  of    568.\n",
      "  Batch   250  of    568.\n",
      "  Batch   300  of    568.\n",
      "  Batch   350  of    568.\n",
      "  Batch   400  of    568.\n",
      "  Batch   450  of    568.\n",
      "  Batch   500  of    568.\n",
      "  Batch   550  of    568.\n",
      "\n",
      "Evaluating...\n",
      "\n",
      "Training Loss: 0.495\n",
      "Validation Loss: 0.362\n",
      "\n",
      "Elapsed Time: 00h06m07s\n",
      "\n",
      " Epoch 19 / 30\n",
      "  Batch    50  of    568.\n",
      "  Batch   100  of    568.\n",
      "  Batch   150  of    568.\n",
      "  Batch   200  of    568.\n",
      "  Batch   250  of    568.\n",
      "  Batch   300  of    568.\n",
      "  Batch   350  of    568.\n",
      "  Batch   400  of    568.\n",
      "  Batch   450  of    568.\n",
      "  Batch   500  of    568.\n",
      "  Batch   550  of    568.\n",
      "\n",
      "Evaluating...\n",
      "\n",
      "Training Loss: 0.492\n",
      "Validation Loss: 0.327\n",
      "\n",
      "Elapsed Time: 00h06m07s\n",
      "\n",
      " Epoch 20 / 30\n",
      "  Batch    50  of    568.\n",
      "  Batch   100  of    568.\n",
      "  Batch   150  of    568.\n",
      "  Batch   200  of    568.\n",
      "  Batch   250  of    568.\n",
      "  Batch   300  of    568.\n",
      "  Batch   350  of    568.\n",
      "  Batch   400  of    568.\n",
      "  Batch   450  of    568.\n",
      "  Batch   500  of    568.\n",
      "  Batch   550  of    568.\n",
      "\n",
      "Evaluating...\n",
      "\n",
      "Training Loss: 0.485\n",
      "Validation Loss: 0.504\n",
      "\n",
      "Elapsed Time: 00h06m08s\n",
      "\n",
      " Epoch 21 / 30\n",
      "  Batch    50  of    568.\n",
      "  Batch   100  of    568.\n",
      "  Batch   150  of    568.\n",
      "  Batch   200  of    568.\n",
      "  Batch   250  of    568.\n",
      "  Batch   300  of    568.\n",
      "  Batch   350  of    568.\n",
      "  Batch   400  of    568.\n",
      "  Batch   450  of    568.\n",
      "  Batch   500  of    568.\n",
      "  Batch   550  of    568.\n",
      "\n",
      "Evaluating...\n",
      "\n",
      "Training Loss: 0.494\n",
      "Validation Loss: 0.371\n",
      "\n",
      "Elapsed Time: 00h06m11s\n",
      "\n",
      " Epoch 22 / 30\n",
      "  Batch    50  of    568.\n",
      "  Batch   100  of    568.\n",
      "  Batch   150  of    568.\n",
      "  Batch   200  of    568.\n",
      "  Batch   250  of    568.\n",
      "  Batch   300  of    568.\n",
      "  Batch   350  of    568.\n",
      "  Batch   400  of    568.\n",
      "  Batch   450  of    568.\n",
      "  Batch   500  of    568.\n",
      "  Batch   550  of    568.\n",
      "\n",
      "Evaluating...\n",
      "\n",
      "Training Loss: 0.492\n",
      "Validation Loss: 0.305\n",
      "\n",
      "Elapsed Time: 00h06m08s\n",
      "\n",
      " Epoch 23 / 30\n",
      "  Batch    50  of    568.\n",
      "  Batch   100  of    568.\n",
      "  Batch   150  of    568.\n",
      "  Batch   200  of    568.\n",
      "  Batch   250  of    568.\n",
      "  Batch   300  of    568.\n",
      "  Batch   350  of    568.\n",
      "  Batch   400  of    568.\n",
      "  Batch   450  of    568.\n",
      "  Batch   500  of    568.\n",
      "  Batch   550  of    568.\n",
      "\n",
      "Evaluating...\n",
      "\n",
      "Training Loss: 0.486\n",
      "Validation Loss: 0.504\n",
      "\n",
      "Elapsed Time: 00h06m08s\n",
      "\n",
      " Epoch 24 / 30\n",
      "  Batch    50  of    568.\n",
      "  Batch   100  of    568.\n",
      "  Batch   150  of    568.\n",
      "  Batch   200  of    568.\n",
      "  Batch   250  of    568.\n",
      "  Batch   300  of    568.\n",
      "  Batch   350  of    568.\n",
      "  Batch   400  of    568.\n",
      "  Batch   450  of    568.\n",
      "  Batch   500  of    568.\n",
      "  Batch   550  of    568.\n",
      "\n",
      "Evaluating...\n",
      "\n",
      "Training Loss: 0.484\n",
      "Validation Loss: 0.478\n",
      "\n",
      "Elapsed Time: 00h06m08s\n",
      "\n",
      " Epoch 25 / 30\n",
      "  Batch    50  of    568.\n",
      "  Batch   100  of    568.\n",
      "  Batch   150  of    568.\n",
      "  Batch   200  of    568.\n",
      "  Batch   250  of    568.\n",
      "  Batch   300  of    568.\n",
      "  Batch   350  of    568.\n",
      "  Batch   400  of    568.\n",
      "  Batch   450  of    568.\n",
      "  Batch   500  of    568.\n",
      "  Batch   550  of    568.\n",
      "\n",
      "Evaluating...\n",
      "\n",
      "Training Loss: 0.475\n",
      "Validation Loss: 0.398\n",
      "\n",
      "Elapsed Time: 00h06m13s\n",
      "\n",
      " Epoch 26 / 30\n",
      "  Batch    50  of    568.\n",
      "  Batch   100  of    568.\n",
      "  Batch   150  of    568.\n",
      "  Batch   200  of    568.\n",
      "  Batch   250  of    568.\n",
      "  Batch   300  of    568.\n",
      "  Batch   350  of    568.\n",
      "  Batch   400  of    568.\n",
      "  Batch   450  of    568.\n",
      "  Batch   500  of    568.\n",
      "  Batch   550  of    568.\n",
      "\n",
      "Evaluating...\n",
      "\n",
      "Training Loss: 0.486\n",
      "Validation Loss: 0.415\n",
      "\n",
      "Elapsed Time: 00h06m13s\n",
      "\n",
      " Epoch 27 / 30\n",
      "  Batch    50  of    568.\n",
      "  Batch   100  of    568.\n",
      "  Batch   150  of    568.\n",
      "  Batch   200  of    568.\n",
      "  Batch   250  of    568.\n",
      "  Batch   300  of    568.\n",
      "  Batch   350  of    568.\n",
      "  Batch   400  of    568.\n",
      "  Batch   450  of    568.\n",
      "  Batch   500  of    568.\n",
      "  Batch   550  of    568.\n",
      "\n",
      "Evaluating...\n",
      "\n",
      "Training Loss: 0.495\n",
      "Validation Loss: 0.442\n",
      "\n",
      "Elapsed Time: 00h06m13s\n",
      "\n",
      " Epoch 28 / 30\n",
      "  Batch    50  of    568.\n",
      "  Batch   100  of    568.\n",
      "  Batch   150  of    568.\n",
      "  Batch   200  of    568.\n",
      "  Batch   250  of    568.\n",
      "  Batch   300  of    568.\n",
      "  Batch   350  of    568.\n",
      "  Batch   400  of    568.\n",
      "  Batch   450  of    568.\n",
      "  Batch   500  of    568.\n",
      "  Batch   550  of    568.\n",
      "\n",
      "Evaluating...\n",
      "\n",
      "Training Loss: 0.494\n",
      "Validation Loss: 0.404\n",
      "\n",
      "Elapsed Time: 00h06m13s\n",
      "\n",
      " Epoch 29 / 30\n",
      "  Batch    50  of    568.\n",
      "  Batch   100  of    568.\n",
      "  Batch   150  of    568.\n",
      "  Batch   200  of    568.\n",
      "  Batch   250  of    568.\n",
      "  Batch   300  of    568.\n",
      "  Batch   350  of    568.\n",
      "  Batch   400  of    568.\n",
      "  Batch   450  of    568.\n",
      "  Batch   500  of    568.\n",
      "  Batch   550  of    568.\n",
      "\n",
      "Evaluating...\n",
      "\n",
      "Training Loss: 0.486\n",
      "Validation Loss: 0.672\n",
      "\n",
      "Elapsed Time: 00h06m13s\n",
      "\n",
      " Epoch 30 / 30\n",
      "  Batch    50  of    568.\n",
      "  Batch   100  of    568.\n",
      "  Batch   150  of    568.\n",
      "  Batch   200  of    568.\n",
      "  Batch   250  of    568.\n",
      "  Batch   300  of    568.\n",
      "  Batch   350  of    568.\n",
      "  Batch   400  of    568.\n",
      "  Batch   450  of    568.\n",
      "  Batch   500  of    568.\n",
      "  Batch   550  of    568.\n",
      "\n",
      "Evaluating...\n",
      "\n",
      "Training Loss: 0.488\n",
      "Validation Loss: 0.327\n",
      "\n",
      "Elapsed Time: 00h06m13s\n"
     ]
    }
   ],
   "source": [
    "# set initial loss to infinite\n",
    "best_valid_loss = float('inf')\n",
    "\n",
    "# empty lists to store training and validation loss of each epoch\n",
    "train_losses=[]\n",
    "valid_losses=[]\n",
    "\n",
    "for epoch in range(epochs):\n",
    "     \n",
    "    epoch_start_time = time.time()\n",
    "     \n",
    "    print('\\n Epoch {:} / {:}'.format(epoch + 1, epochs))\n",
    "    \n",
    "    # train model\n",
    "    train_loss, _ = train()\n",
    "    \n",
    "    # evaluate model\n",
    "    valid_loss, _ = evaluate()\n",
    "    \n",
    "    # save the best model\n",
    "    if valid_loss < best_valid_loss:\n",
    "        best_valid_loss = valid_loss\n",
    "        torch.save(model.state_dict(), 'saved_weights_content.pt')\n",
    "    \n",
    "    # append training and validation loss\n",
    "    train_losses.append(train_loss)\n",
    "    valid_losses.append(valid_loss)\n",
    "    \n",
    "    print(f'\\nTraining Loss: {train_loss:.3f}')\n",
    "    print(f'Validation Loss: {valid_loss:.3f}')\n",
    "    print(f'\\nElapsed Time: {time.strftime(\"%Hh%Mm%Ss\", time.gmtime(time.time() - epoch_start_time))}')"
   ]
  },
  {
   "cell_type": "code",
   "execution_count": 27,
   "metadata": {
    "colab": {
     "base_uri": "https://localhost:8080/"
    },
    "id": "Na_nexWosohL",
    "outputId": "c520b127-c784-44fa-d2a1-69aac677e213"
   },
   "outputs": [
    {
     "data": {
      "text/plain": [
       "================================================================================\n",
       "Layer (type:depth-idx)                                  Param #\n",
       "================================================================================\n",
       "BERT_Arch                                               --\n",
       "├─BertModel: 1-1                                        --\n",
       "│    └─BertEmbeddings: 2-1                              --\n",
       "│    │    └─Embedding: 3-1                              (23,440,896)\n",
       "│    │    └─Embedding: 3-2                              (393,216)\n",
       "│    │    └─Embedding: 3-3                              (1,536)\n",
       "│    │    └─LayerNorm: 3-4                              (1,536)\n",
       "│    │    └─Dropout: 3-5                                --\n",
       "│    └─BertEncoder: 2-2                                 --\n",
       "│    │    └─ModuleList: 3-6                             (85,054,464)\n",
       "│    └─BertPooler: 2-3                                  --\n",
       "│    │    └─Linear: 3-7                                 (590,592)\n",
       "│    │    └─Tanh: 3-8                                   --\n",
       "├─Dropout: 1-2                                          --\n",
       "├─ReLU: 1-3                                             --\n",
       "├─Linear: 1-4                                           393,728\n",
       "├─Linear: 1-5                                           1,026\n",
       "├─LogSoftmax: 1-6                                       --\n",
       "================================================================================\n",
       "Total params: 109,876,994\n",
       "Trainable params: 394,754\n",
       "Non-trainable params: 109,482,240\n",
       "================================================================================"
      ]
     },
     "execution_count": 27,
     "metadata": {},
     "output_type": "execute_result"
    }
   ],
   "source": [
    "from torchinfo import summary\n",
    "summary(model)"
   ]
  },
  {
   "cell_type": "markdown",
   "metadata": {
    "id": "_yrhUc9kTI5a"
   },
   "source": [
    "# Load Saved Model"
   ]
  },
  {
   "cell_type": "code",
   "execution_count": 28,
   "metadata": {
    "colab": {
     "base_uri": "https://localhost:8080/"
    },
    "id": "OacxUyizS8d1",
    "outputId": "fc43960d-61d1-4f21-fa62-4ec8bba37593"
   },
   "outputs": [
    {
     "data": {
      "text/plain": [
       "<All keys matched successfully>"
      ]
     },
     "execution_count": 28,
     "metadata": {},
     "output_type": "execute_result"
    }
   ],
   "source": [
    "#load weights of best model\n",
    "path = 'saved_weights_content.pt'\n",
    "#model.load_state_dict(torch.load(path))\n",
    "model.load_state_dict(torch.load(path, map_location=torch.device('cpu')))"
   ]
  },
  {
   "cell_type": "code",
   "execution_count": 30,
   "metadata": {
    "colab": {
     "base_uri": "https://localhost:8080/",
     "height": 621
    },
    "id": "tIgdSSc2sW0c",
    "outputId": "afe5d159-79b9-4c77-b04d-a795088f1561"
   },
   "outputs": [
    {
     "data": {
      "image/png": "[encoded data removed]",
      "text/plain": [
       "<Figure size 720x720 with 2 Axes>"
      ]
     },
     "metadata": {
      "needs_background": "light"
     },
     "output_type": "display_data"
    }
   ],
   "source": [
    "fig, (ax1, ax2) = plt.subplots(2, sharex = True, figsize=(10,10))\n",
    "ax1.plot(range(1, epochs+1), valid_losses)\n",
    "#ax1.set_xlim([1, epochs])\n",
    "plt_title_val = 'Validation loss across epochs iteration, lr = ' + str(lr)\n",
    "ax1.title.set_text(plt_title_val)\n",
    "ax1.set_ylabel('Validation loss')\n",
    "ax1.grid(True)\n",
    "\n",
    "\n",
    "ax2.plot(range(1, epochs+1), train_losses)\n",
    "plt_title_tr = 'Training loss across epochs iteration, lr = ' + str(lr)\n",
    "ax2.title.set_text(plt_title_tr)\n",
    "ax2.set_ylabel('Training loss')\n",
    "ax2.set_xlabel('Epochs')\n",
    "ax2.grid(True)\n",
    "\n",
    "fig.savefig('content_loss_epochs.png')"
   ]
  },
  {
   "cell_type": "markdown",
   "metadata": {
    "id": "_mIkGTvJsfB7"
   },
   "source": [
    "# Get final predictions for validation data"
   ]
  },
  {
   "cell_type": "code",
   "execution_count": 31,
   "metadata": {
    "id": "NZl0SZmFTRQA"
   },
   "outputs": [],
   "source": [
    "# get predictions for test data\n",
    "with torch.no_grad():\n",
    "  preds = model(val_seq.to(device), val_mask.to(device))\n",
    "  preds = preds.detach().cpu().numpy()"
   ]
  },
  {
   "cell_type": "code",
   "execution_count": 32,
   "metadata": {
    "colab": {
     "base_uri": "https://localhost:8080/"
    },
    "id": "Ms1ObHZxTYSI",
    "outputId": "b4bf8160-9873-4629-ccc2-815c9c4229b7"
   },
   "outputs": [
    {
     "name": "stdout",
     "output_type": "stream",
     "text": [
      "              precision    recall  f1-score   support\n",
      "\n",
      "           0       1.00      0.92      0.96       273\n",
      "           1       0.54      0.96      0.69        27\n",
      "\n",
      "    accuracy                           0.92       300\n",
      "   macro avg       0.77      0.94      0.82       300\n",
      "weighted avg       0.96      0.92      0.93       300\n",
      "\n"
     ]
    }
   ],
   "source": [
    "# model's performance\n",
    "preds = np.argmax(preds, axis = 1)\n",
    "print(classification_report(val_y, preds))"
   ]
  },
  {
   "cell_type": "code",
   "execution_count": 33,
   "metadata": {
    "colab": {
     "base_uri": "https://localhost:8080/",
     "height": 296
    },
    "id": "YqzLS7rHTp4T",
    "outputId": "132f193d-1568-4ebb-f125-6fa5d1bd0f47"
   },
   "outputs": [
    {
     "data": {
      "text/plain": [
       "<sklearn.metrics._plot.confusion_matrix.ConfusionMatrixDisplay at 0x7f8970019f70>"
      ]
     },
     "execution_count": 33,
     "metadata": {},
     "output_type": "execute_result"
    },
    {
     "data": {
      "image/png": "[encoded data removed]",
      "text/plain": [
       "<Figure size 432x288 with 2 Axes>"
      ]
     },
     "metadata": {
      "needs_background": "light"
     },
     "output_type": "display_data"
    }
   ],
   "source": [
    "from sklearn.metrics import confusion_matrix, ConfusionMatrixDisplay\n",
    "# confusion matrix\n",
    "disp = ConfusionMatrixDisplay(confusion_matrix=confusion_matrix(val_labels, preds))\n",
    "disp.plot()"
   ]
  },
  {
   "cell_type": "markdown",
   "metadata": {
    "id": "Lot6gLGLxRGl"
   },
   "source": [
    "# Make predictions for the test set"
   ]
  },
  {
   "cell_type": "code",
   "execution_count": 34,
   "metadata": {
    "colab": {
     "base_uri": "https://localhost:8080/"
    },
    "id": "j-HCD1652BE_",
    "outputId": "889a70f5-70cb-4ffc-8729-5da0901f00cd"
   },
   "outputs": [
    {
     "data": {
      "text/plain": [
       "array([0, 0, 0, 0, 0, 0, 0, 0, 0, 0, 0, 0, 0, 0, 0, 0, 0, 0, 0, 1, 0, 1,\n",
       "       0, 0, 0, 1, 1, 0, 0, 0, 0, 0, 0, 0, 1, 0, 0, 0, 0, 0, 0, 0, 0, 0,\n",
       "       0, 0, 0, 0, 1, 0, 0, 0, 0, 0, 0, 0, 0, 1, 0, 0, 0, 0, 0, 0, 1, 0,\n",
       "       0, 0, 1, 0, 0, 0, 0, 0, 1, 0, 1, 0, 0, 1, 0, 0, 0, 0, 0, 1, 0, 0,\n",
       "       0, 0, 0, 0, 0, 1, 1, 0, 0, 0, 0, 0, 0, 0, 0, 0, 1, 0, 0, 0, 0, 0,\n",
       "       0, 0, 0, 0, 0, 0, 0, 1, 1, 0, 0, 1, 1, 0, 0, 0, 0, 0, 0, 1, 1, 0,\n",
       "       0, 0, 0, 0, 0, 0, 0, 0, 1, 0, 0, 1, 0, 0, 0, 0, 0, 0, 0, 0, 0, 0,\n",
       "       0, 0, 1, 0, 0, 0, 0, 0, 0, 0, 0, 0, 0, 0, 1, 0, 0, 0, 1, 0, 0, 0,\n",
       "       0, 0, 1, 0, 1, 0, 0, 1, 0, 0, 0, 0, 0, 0, 1, 0, 0, 0, 1, 1, 0, 0,\n",
       "       0, 0, 0, 1, 0, 0, 0, 0, 0, 0, 0, 0, 0, 0, 0, 0, 0, 1, 1, 0, 1, 0,\n",
       "       0, 0, 0, 1, 0, 1, 0, 1, 0, 0, 0, 0, 0, 0, 0, 1, 1, 0, 0, 0, 1, 1,\n",
       "       1, 0, 1, 0, 0, 1, 0, 0, 0, 1, 0, 1, 0, 1, 1, 1, 0, 0, 0, 0, 0, 0,\n",
       "       0, 1, 0, 1, 0, 0, 0, 0, 0, 1, 1, 0, 1, 0, 0, 0, 0, 0, 0, 0, 0, 1,\n",
       "       0, 1, 0, 0, 0, 1, 0, 0, 1, 0, 0, 0, 1, 0])"
      ]
     },
     "execution_count": 34,
     "metadata": {},
     "output_type": "execute_result"
    }
   ],
   "source": [
    "with torch.no_grad():\n",
    "  preds = model(test_seq.to(device), test_mask.to(device))\n",
    "  preds = preds.detach().cpu().numpy()\n",
    "  \n",
    "preds = np.argmax(preds, axis = 1)\n",
    "preds"
   ]
  },
  {
   "cell_type": "code",
   "execution_count": 35,
   "metadata": {
    "id": "Hl2CiZ9wxg6t"
   },
   "outputs": [],
   "source": [
    "# Add predictions to dataframe\n",
    "df_test['green_content'] = preds"
   ]
  },
  {
   "cell_type": "code",
   "execution_count": 36,
   "metadata": {
    "id": "44CPw6aoyNOw"
   },
   "outputs": [],
   "source": [
    "# Save dataframe\n",
    "df_test.to_csv('Content_Prediction_BERT.csv', index=False)"
   ]
  },
  {
   "cell_type": "markdown",
   "metadata": {},
   "source": [
    "# Alternative with forcing distributions"
   ]
  },
  {
   "cell_type": "code",
   "execution_count": 37,
   "metadata": {},
   "outputs": [],
   "source": [
    "# Predictions on test set\n",
    "with torch.no_grad():\n",
    "  preds = model(test_seq.to(device), test_mask.to(device))\n",
    "  preds = preds.detach().cpu().numpy()"
   ]
  },
  {
   "cell_type": "code",
   "execution_count": 38,
   "metadata": {},
   "outputs": [],
   "source": [
    "# Percent distribution of green jobs wanted\n",
    "wanted_green_distribution = 10\n",
    "\n",
    "df_test.loc[:, 'green_content'] = 0\n",
    "df_test.loc[preds[:,1] > np.quantile(preds[:,1], 1-wanted_green_distribution/100), 'green_content'] = 1\n",
    "df_test.to_csv('Content_Prediction_BERT_fixed.csv', index=False)"
   ]
  },
  {
   "cell_type": "code",
   "execution_count": null,
   "metadata": {},
   "outputs": [],
   "source": []
  }
 ],
 "metadata": {
  "accelerator": "GPU",
  "colab": {
   "collapsed_sections": [],
   "name": "ads_BERT_content.ipynb",
   "provenance": []
  },
  "kernelspec": {
   "display_name": "Python 3 (ipykernel)",
   "language": "python",
   "name": "python3"
  },
  "language_info": {
   "codemirror_mode": {
    "name": "ipython",
    "version": 3
   },
   "file_extension": ".py",
   "mimetype": "text/x-python",
   "name": "python",
   "nbconvert_exporter": "python",
   "pygments_lexer": "ipython3",
   "version": "3.8.8"
  },
  "widgets": {
   "application/vnd.jupyter.widget-state+json": {
    "03c35987e1a84ab8ac26ae943b3cdc83": {
     "model_module": "@jupyter-widgets/base",
     "model_module_version": "1.2.0",
     "model_name": "LayoutModel",
     "state": {
      "_model_module": "@jupyter-widgets/base",
      "_model_module_version": "1.2.0",
      "_model_name": "LayoutModel",
      "_view_count": null,
      "_view_module": "@jupyter-widgets/base",
      "_view_module_version": "1.2.0",
      "_view_name": "LayoutView",
      "align_content": null,
      "align_items": null,
      "align_self": null,
      "border": null,
      "bottom": null,
      "display": null,
      "flex": null,
      "flex_flow": null,
      "grid_area": null,
      "grid_auto_columns": null,
      "grid_auto_flow": null,
      "grid_auto_rows": null,
      "grid_column": null,
      "grid_gap": null,
      "grid_row": null,
      "grid_template_areas": null,
      "grid_template_columns": null,
      "grid_template_rows": null,
      "height": null,
      "justify_content": null,
      "justify_items": null,
      "left": null,
      "margin": null,
      "max_height": null,
      "max_width": null,
      "min_height": null,
      "min_width": null,
      "object_fit": null,
      "object_position": null,
      "order": null,
      "overflow": null,
      "overflow_x": null,
      "overflow_y": null,
      "padding": null,
      "right": null,
      "top": null,
      "visibility": null,
      "width": null
     }
    },
    "12f84aa3df914dfdaee1099fcadbe949": {
     "model_module": "@jupyter-widgets/base",
     "model_module_version": "1.2.0",
     "model_name": "LayoutModel",
     "state": {
      "_model_module": "@jupyter-widgets/base",
      "_model_module_version": "1.2.0",
      "_model_name": "LayoutModel",
      "_view_count": null,
      "_view_module": "@jupyter-widgets/base",
      "_view_module_version": "1.2.0",
      "_view_name": "LayoutView",
      "align_content": null,
      "align_items": null,
      "align_self": null,
      "border": null,
      "bottom": null,
      "display": null,
      "flex": null,
      "flex_flow": null,
      "grid_area": null,
      "grid_auto_columns": null,
      "grid_auto_flow": null,
      "grid_auto_rows": null,
      "grid_column": null,
      "grid_gap": null,
      "grid_row": null,
      "grid_template_areas": null,
      "grid_template_columns": null,
      "grid_template_rows": null,
      "height": null,
      "justify_content": null,
      "justify_items": null,
      "left": null,
      "margin": null,
      "max_height": null,
      "max_width": null,
      "min_height": null,
      "min_width": null,
      "object_fit": null,
      "object_position": null,
      "order": null,
      "overflow": null,
      "overflow_x": null,
      "overflow_y": null,
      "padding": null,
      "right": null,
      "top": null,
      "visibility": null,
      "width": null
     }
    },
    "160b44de41134308afdf03d85e2068ab": {
     "model_module": "@jupyter-widgets/controls",
     "model_module_version": "1.5.0",
     "model_name": "DescriptionStyleModel",
     "state": {
      "_model_module": "@jupyter-widgets/controls",
      "_model_module_version": "1.5.0",
      "_model_name": "DescriptionStyleModel",
      "_view_count": null,
      "_view_module": "@jupyter-widgets/base",
      "_view_module_version": "1.2.0",
      "_view_name": "StyleView",
      "description_width": ""
     }
    },
    "1964334e881040e29ebf752c7634e894": {
     "model_module": "@jupyter-widgets/controls",
     "model_module_version": "1.5.0",
     "model_name": "HTMLModel",
     "state": {
      "_dom_classes": [],
      "_model_module": "@jupyter-widgets/controls",
      "_model_module_version": "1.5.0",
      "_model_name": "HTMLModel",
      "_view_count": null,
      "_view_module": "@jupyter-widgets/controls",
      "_view_module_version": "1.5.0",
      "_view_name": "HTMLView",
      "description": "",
      "description_tooltip": null,
      "layout": "IPY_MODEL_dc210c205c6b43e595c1a56d617ac0b0",
      "placeholder": "​",
      "style": "IPY_MODEL_7e3ac69e118c464aa09fc3533da7454b",
      "value": "Downloading: 100%"
     }
    },
    "1ba96257e6154195acbf7411c58bf80f": {
     "model_module": "@jupyter-widgets/controls",
     "model_module_version": "1.5.0",
     "model_name": "HTMLModel",
     "state": {
      "_dom_classes": [],
      "_model_module": "@jupyter-widgets/controls",
      "_model_module_version": "1.5.0",
      "_model_name": "HTMLModel",
      "_view_count": null,
      "_view_module": "@jupyter-widgets/controls",
      "_view_module_version": "1.5.0",
      "_view_name": "HTMLView",
      "description": "",
      "description_tooltip": null,
      "layout": "IPY_MODEL_a7925611141b403e94294e4fa1935c40",
      "placeholder": "​",
      "style": "IPY_MODEL_dcf75d9e1ec048acbfab79b930282c23",
      "value": " 226k/226k [00:00&lt;00:00, 394kB/s]"
     }
    },
    "1c3ad492cce14fe4a9e2396295fc29f8": {
     "model_module": "@jupyter-widgets/controls",
     "model_module_version": "1.5.0",
     "model_name": "DescriptionStyleModel",
     "state": {
      "_model_module": "@jupyter-widgets/controls",
      "_model_module_version": "1.5.0",
      "_model_name": "DescriptionStyleModel",
      "_view_count": null,
      "_view_module": "@jupyter-widgets/base",
      "_view_module_version": "1.2.0",
      "_view_name": "StyleView",
      "description_width": ""
     }
    },
    "2113c465c78443548aa10119af8e680f": {
     "model_module": "@jupyter-widgets/controls",
     "model_module_version": "1.5.0",
     "model_name": "HBoxModel",
     "state": {
      "_dom_classes": [],
      "_model_module": "@jupyter-widgets/controls",
      "_model_module_version": "1.5.0",
      "_model_name": "HBoxModel",
      "_view_count": null,
      "_view_module": "@jupyter-widgets/controls",
      "_view_module_version": "1.5.0",
      "_view_name": "HBoxView",
      "box_style": "",
      "children": [
       "IPY_MODEL_b2a0906cb417432cad788c4e98dcd12b",
       "IPY_MODEL_f4c81aea97d84c3d8ab13cf146acbf86",
       "IPY_MODEL_1ba96257e6154195acbf7411c58bf80f"
      ],
      "layout": "IPY_MODEL_657f94e125dc43b482b63390af12d223"
     }
    },
    "24af51d797114b179dcc994404b7d6bf": {
     "model_module": "@jupyter-widgets/base",
     "model_module_version": "1.2.0",
     "model_name": "LayoutModel",
     "state": {
      "_model_module": "@jupyter-widgets/base",
      "_model_module_version": "1.2.0",
      "_model_name": "LayoutModel",
      "_view_count": null,
      "_view_module": "@jupyter-widgets/base",
      "_view_module_version": "1.2.0",
      "_view_name": "LayoutView",
      "align_content": null,
      "align_items": null,
      "align_self": null,
      "border": null,
      "bottom": null,
      "display": null,
      "flex": null,
      "flex_flow": null,
      "grid_area": null,
      "grid_auto_columns": null,
      "grid_auto_flow": null,
      "grid_auto_rows": null,
      "grid_column": null,
      "grid_gap": null,
      "grid_row": null,
      "grid_template_areas": null,
      "grid_template_columns": null,
      "grid_template_rows": null,
      "height": null,
      "justify_content": null,
      "justify_items": null,
      "left": null,
      "margin": null,
      "max_height": null,
      "max_width": null,
      "min_height": null,
      "min_width": null,
      "object_fit": null,
      "object_position": null,
      "order": null,
      "overflow": null,
      "overflow_x": null,
      "overflow_y": null,
      "padding": null,
      "right": null,
      "top": null,
      "visibility": null,
      "width": null
     }
    },
    "29a1e6b7d1ab4b1d9c62c9d5463e4b69": {
     "model_module": "@jupyter-widgets/controls",
     "model_module_version": "1.5.0",
     "model_name": "FloatProgressModel",
     "state": {
      "_dom_classes": [],
      "_model_module": "@jupyter-widgets/controls",
      "_model_module_version": "1.5.0",
      "_model_name": "FloatProgressModel",
      "_view_count": null,
      "_view_module": "@jupyter-widgets/controls",
      "_view_module_version": "1.5.0",
      "_view_name": "ProgressView",
      "bar_style": "success",
      "description": "",
      "description_tooltip": null,
      "layout": "IPY_MODEL_8d8c7eb17c9147c893e36c7c45cdd454",
      "max": 28,
      "min": 0,
      "orientation": "horizontal",
      "style": "IPY_MODEL_64a30586d48b4222a1374ac88275fedb",
      "value": 28
     }
    },
    "2c33554b1ca64aacb2202ac57e397147": {
     "model_module": "@jupyter-widgets/controls",
     "model_module_version": "1.5.0",
     "model_name": "FloatProgressModel",
     "state": {
      "_dom_classes": [],
      "_model_module": "@jupyter-widgets/controls",
      "_model_module_version": "1.5.0",
      "_model_name": "FloatProgressModel",
      "_view_count": null,
      "_view_module": "@jupyter-widgets/controls",
      "_view_module_version": "1.5.0",
      "_view_name": "ProgressView",
      "bar_style": "success",
      "description": "",
      "description_tooltip": null,
      "layout": "IPY_MODEL_cded38dac2424a548df602dc65c4784f",
      "max": 466062,
      "min": 0,
      "orientation": "horizontal",
      "style": "IPY_MODEL_7830e709e12c4e40b98c7ed7bdf72f22",
      "value": 466062
     }
    },
    "2c38cca5ae5a44ce9b2a86668c60e094": {
     "model_module": "@jupyter-widgets/controls",
     "model_module_version": "1.5.0",
     "model_name": "HTMLModel",
     "state": {
      "_dom_classes": [],
      "_model_module": "@jupyter-widgets/controls",
      "_model_module_version": "1.5.0",
      "_model_name": "HTMLModel",
      "_view_count": null,
      "_view_module": "@jupyter-widgets/controls",
      "_view_module_version": "1.5.0",
      "_view_name": "HTMLView",
      "description": "",
      "description_tooltip": null,
      "layout": "IPY_MODEL_ffd27ec1ec03475189c79f17978d9d03",
      "placeholder": "​",
      "style": "IPY_MODEL_dbf08082bddf481c91a9e6a951065b87",
      "value": " 420M/420M [00:30&lt;00:00, 33.3MB/s]"
     }
    },
    "3c13c746d22a4472917974a0efd137ba": {
     "model_module": "@jupyter-widgets/base",
     "model_module_version": "1.2.0",
     "model_name": "LayoutModel",
     "state": {
      "_model_module": "@jupyter-widgets/base",
      "_model_module_version": "1.2.0",
      "_model_name": "LayoutModel",
      "_view_count": null,
      "_view_module": "@jupyter-widgets/base",
      "_view_module_version": "1.2.0",
      "_view_name": "LayoutView",
      "align_content": null,
      "align_items": null,
      "align_self": null,
      "border": null,
      "bottom": null,
      "display": null,
      "flex": null,
      "flex_flow": null,
      "grid_area": null,
      "grid_auto_columns": null,
      "grid_auto_flow": null,
      "grid_auto_rows": null,
      "grid_column": null,
      "grid_gap": null,
      "grid_row": null,
      "grid_template_areas": null,
      "grid_template_columns": null,
      "grid_template_rows": null,
      "height": null,
      "justify_content": null,
      "justify_items": null,
      "left": null,
      "margin": null,
      "max_height": null,
      "max_width": null,
      "min_height": null,
      "min_width": null,
      "object_fit": null,
      "object_position": null,
      "order": null,
      "overflow": null,
      "overflow_x": null,
      "overflow_y": null,
      "padding": null,
      "right": null,
      "top": null,
      "visibility": null,
      "width": null
     }
    },
    "3e457563538943cf9e53f0480b5bad13": {
     "model_module": "@jupyter-widgets/controls",
     "model_module_version": "1.5.0",
     "model_name": "HBoxModel",
     "state": {
      "_dom_classes": [],
      "_model_module": "@jupyter-widgets/controls",
      "_model_module_version": "1.5.0",
      "_model_name": "HBoxModel",
      "_view_count": null,
      "_view_module": "@jupyter-widgets/controls",
      "_view_module_version": "1.5.0",
      "_view_name": "HBoxView",
      "box_style": "",
      "children": [
       "IPY_MODEL_1964334e881040e29ebf752c7634e894",
       "IPY_MODEL_d20924391ab1443fa560ca7d88750564",
       "IPY_MODEL_bad924ffc8164206bd6c8e52d68130ab"
      ],
      "layout": "IPY_MODEL_ab3313c6976d4495b7ffa3b5faf43a69"
     }
    },
    "458ab9ee1dfc47b58a8d2800db640d24": {
     "model_module": "@jupyter-widgets/base",
     "model_module_version": "1.2.0",
     "model_name": "LayoutModel",
     "state": {
      "_model_module": "@jupyter-widgets/base",
      "_model_module_version": "1.2.0",
      "_model_name": "LayoutModel",
      "_view_count": null,
      "_view_module": "@jupyter-widgets/base",
      "_view_module_version": "1.2.0",
      "_view_name": "LayoutView",
      "align_content": null,
      "align_items": null,
      "align_self": null,
      "border": null,
      "bottom": null,
      "display": null,
      "flex": null,
      "flex_flow": null,
      "grid_area": null,
      "grid_auto_columns": null,
      "grid_auto_flow": null,
      "grid_auto_rows": null,
      "grid_column": null,
      "grid_gap": null,
      "grid_row": null,
      "grid_template_areas": null,
      "grid_template_columns": null,
      "grid_template_rows": null,
      "height": null,
      "justify_content": null,
      "justify_items": null,
      "left": null,
      "margin": null,
      "max_height": null,
      "max_width": null,
      "min_height": null,
      "min_width": null,
      "object_fit": null,
      "object_position": null,
      "order": null,
      "overflow": null,
      "overflow_x": null,
      "overflow_y": null,
      "padding": null,
      "right": null,
      "top": null,
      "visibility": null,
      "width": null
     }
    },
    "476e9f3b621e462fa8e90cf9e15fb87d": {
     "model_module": "@jupyter-widgets/controls",
     "model_module_version": "1.5.0",
     "model_name": "DescriptionStyleModel",
     "state": {
      "_model_module": "@jupyter-widgets/controls",
      "_model_module_version": "1.5.0",
      "_model_name": "DescriptionStyleModel",
      "_view_count": null,
      "_view_module": "@jupyter-widgets/base",
      "_view_module_version": "1.2.0",
      "_view_name": "StyleView",
      "description_width": ""
     }
    },
    "52a0a3b77157413a9b86106af992b9bd": {
     "model_module": "@jupyter-widgets/base",
     "model_module_version": "1.2.0",
     "model_name": "LayoutModel",
     "state": {
      "_model_module": "@jupyter-widgets/base",
      "_model_module_version": "1.2.0",
      "_model_name": "LayoutModel",
      "_view_count": null,
      "_view_module": "@jupyter-widgets/base",
      "_view_module_version": "1.2.0",
      "_view_name": "LayoutView",
      "align_content": null,
      "align_items": null,
      "align_self": null,
      "border": null,
      "bottom": null,
      "display": null,
      "flex": null,
      "flex_flow": null,
      "grid_area": null,
      "grid_auto_columns": null,
      "grid_auto_flow": null,
      "grid_auto_rows": null,
      "grid_column": null,
      "grid_gap": null,
      "grid_row": null,
      "grid_template_areas": null,
      "grid_template_columns": null,
      "grid_template_rows": null,
      "height": null,
      "justify_content": null,
      "justify_items": null,
      "left": null,
      "margin": null,
      "max_height": null,
      "max_width": null,
      "min_height": null,
      "min_width": null,
      "object_fit": null,
      "object_position": null,
      "order": null,
      "overflow": null,
      "overflow_x": null,
      "overflow_y": null,
      "padding": null,
      "right": null,
      "top": null,
      "visibility": null,
      "width": null
     }
    },
    "54c75bed593448a5b90bd046dadf7289": {
     "model_module": "@jupyter-widgets/controls",
     "model_module_version": "1.5.0",
     "model_name": "ProgressStyleModel",
     "state": {
      "_model_module": "@jupyter-widgets/controls",
      "_model_module_version": "1.5.0",
      "_model_name": "ProgressStyleModel",
      "_view_count": null,
      "_view_module": "@jupyter-widgets/base",
      "_view_module_version": "1.2.0",
      "_view_name": "StyleView",
      "bar_color": null,
      "description_width": ""
     }
    },
    "64a30586d48b4222a1374ac88275fedb": {
     "model_module": "@jupyter-widgets/controls",
     "model_module_version": "1.5.0",
     "model_name": "ProgressStyleModel",
     "state": {
      "_model_module": "@jupyter-widgets/controls",
      "_model_module_version": "1.5.0",
      "_model_name": "ProgressStyleModel",
      "_view_count": null,
      "_view_module": "@jupyter-widgets/base",
      "_view_module_version": "1.2.0",
      "_view_name": "StyleView",
      "bar_color": null,
      "description_width": ""
     }
    },
    "657f94e125dc43b482b63390af12d223": {
     "model_module": "@jupyter-widgets/base",
     "model_module_version": "1.2.0",
     "model_name": "LayoutModel",
     "state": {
      "_model_module": "@jupyter-widgets/base",
      "_model_module_version": "1.2.0",
      "_model_name": "LayoutModel",
      "_view_count": null,
      "_view_module": "@jupyter-widgets/base",
      "_view_module_version": "1.2.0",
      "_view_name": "LayoutView",
      "align_content": null,
      "align_items": null,
      "align_self": null,
      "border": null,
      "bottom": null,
      "display": null,
      "flex": null,
      "flex_flow": null,
      "grid_area": null,
      "grid_auto_columns": null,
      "grid_auto_flow": null,
      "grid_auto_rows": null,
      "grid_column": null,
      "grid_gap": null,
      "grid_row": null,
      "grid_template_areas": null,
      "grid_template_columns": null,
      "grid_template_rows": null,
      "height": null,
      "justify_content": null,
      "justify_items": null,
      "left": null,
      "margin": null,
      "max_height": null,
      "max_width": null,
      "min_height": null,
      "min_width": null,
      "object_fit": null,
      "object_position": null,
      "order": null,
      "overflow": null,
      "overflow_x": null,
      "overflow_y": null,
      "padding": null,
      "right": null,
      "top": null,
      "visibility": null,
      "width": null
     }
    },
    "6832e31d257c4f3f8ddbfa0d85a7e0b8": {
     "model_module": "@jupyter-widgets/controls",
     "model_module_version": "1.5.0",
     "model_name": "HTMLModel",
     "state": {
      "_dom_classes": [],
      "_model_module": "@jupyter-widgets/controls",
      "_model_module_version": "1.5.0",
      "_model_name": "HTMLModel",
      "_view_count": null,
      "_view_module": "@jupyter-widgets/controls",
      "_view_module_version": "1.5.0",
      "_view_name": "HTMLView",
      "description": "",
      "description_tooltip": null,
      "layout": "IPY_MODEL_b0aa6fb3b0dd423cbeb28ed6db481243",
      "placeholder": "​",
      "style": "IPY_MODEL_89607a6962d2417c9a0d4fe53fc2a3d8",
      "value": "Downloading: 100%"
     }
    },
    "7830e709e12c4e40b98c7ed7bdf72f22": {
     "model_module": "@jupyter-widgets/controls",
     "model_module_version": "1.5.0",
     "model_name": "ProgressStyleModel",
     "state": {
      "_model_module": "@jupyter-widgets/controls",
      "_model_module_version": "1.5.0",
      "_model_name": "ProgressStyleModel",
      "_view_count": null,
      "_view_module": "@jupyter-widgets/base",
      "_view_module_version": "1.2.0",
      "_view_name": "StyleView",
      "bar_color": null,
      "description_width": ""
     }
    },
    "7c15b79fb6f149a0a8a4132af272484b": {
     "model_module": "@jupyter-widgets/base",
     "model_module_version": "1.2.0",
     "model_name": "LayoutModel",
     "state": {
      "_model_module": "@jupyter-widgets/base",
      "_model_module_version": "1.2.0",
      "_model_name": "LayoutModel",
      "_view_count": null,
      "_view_module": "@jupyter-widgets/base",
      "_view_module_version": "1.2.0",
      "_view_name": "LayoutView",
      "align_content": null,
      "align_items": null,
      "align_self": null,
      "border": null,
      "bottom": null,
      "display": null,
      "flex": null,
      "flex_flow": null,
      "grid_area": null,
      "grid_auto_columns": null,
      "grid_auto_flow": null,
      "grid_auto_rows": null,
      "grid_column": null,
      "grid_gap": null,
      "grid_row": null,
      "grid_template_areas": null,
      "grid_template_columns": null,
      "grid_template_rows": null,
      "height": null,
      "justify_content": null,
      "justify_items": null,
      "left": null,
      "margin": null,
      "max_height": null,
      "max_width": null,
      "min_height": null,
      "min_width": null,
      "object_fit": null,
      "object_position": null,
      "order": null,
      "overflow": null,
      "overflow_x": null,
      "overflow_y": null,
      "padding": null,
      "right": null,
      "top": null,
      "visibility": null,
      "width": null
     }
    },
    "7d6f175022964e098654b5eec86a8b96": {
     "model_module": "@jupyter-widgets/controls",
     "model_module_version": "1.5.0",
     "model_name": "ProgressStyleModel",
     "state": {
      "_model_module": "@jupyter-widgets/controls",
      "_model_module_version": "1.5.0",
      "_model_name": "ProgressStyleModel",
      "_view_count": null,
      "_view_module": "@jupyter-widgets/base",
      "_view_module_version": "1.2.0",
      "_view_name": "StyleView",
      "bar_color": null,
      "description_width": ""
     }
    },
    "7e3ac69e118c464aa09fc3533da7454b": {
     "model_module": "@jupyter-widgets/controls",
     "model_module_version": "1.5.0",
     "model_name": "DescriptionStyleModel",
     "state": {
      "_model_module": "@jupyter-widgets/controls",
      "_model_module_version": "1.5.0",
      "_model_name": "DescriptionStyleModel",
      "_view_count": null,
      "_view_module": "@jupyter-widgets/base",
      "_view_module_version": "1.2.0",
      "_view_name": "StyleView",
      "description_width": ""
     }
    },
    "80eeefaf4a8b4348bdaac963b2e7ddca": {
     "model_module": "@jupyter-widgets/controls",
     "model_module_version": "1.5.0",
     "model_name": "HBoxModel",
     "state": {
      "_dom_classes": [],
      "_model_module": "@jupyter-widgets/controls",
      "_model_module_version": "1.5.0",
      "_model_name": "HBoxModel",
      "_view_count": null,
      "_view_module": "@jupyter-widgets/controls",
      "_view_module_version": "1.5.0",
      "_view_name": "HBoxView",
      "box_style": "",
      "children": [
       "IPY_MODEL_c71027929538456f8b9f59e0114fc4a0",
       "IPY_MODEL_813c0f413251455e8db447f3473b652e",
       "IPY_MODEL_2c38cca5ae5a44ce9b2a86668c60e094"
      ],
      "layout": "IPY_MODEL_458ab9ee1dfc47b58a8d2800db640d24"
     }
    },
    "813c0f413251455e8db447f3473b652e": {
     "model_module": "@jupyter-widgets/controls",
     "model_module_version": "1.5.0",
     "model_name": "FloatProgressModel",
     "state": {
      "_dom_classes": [],
      "_model_module": "@jupyter-widgets/controls",
      "_model_module_version": "1.5.0",
      "_model_name": "FloatProgressModel",
      "_view_count": null,
      "_view_module": "@jupyter-widgets/controls",
      "_view_module_version": "1.5.0",
      "_view_name": "ProgressView",
      "bar_style": "success",
      "description": "",
      "description_tooltip": null,
      "layout": "IPY_MODEL_3c13c746d22a4472917974a0efd137ba",
      "max": 440473133,
      "min": 0,
      "orientation": "horizontal",
      "style": "IPY_MODEL_d413e040c915483da20327e48312d991",
      "value": 440473133
     }
    },
    "86f094161db24fc5bd923d6d8c35d97a": {
     "model_module": "@jupyter-widgets/controls",
     "model_module_version": "1.5.0",
     "model_name": "HBoxModel",
     "state": {
      "_dom_classes": [],
      "_model_module": "@jupyter-widgets/controls",
      "_model_module_version": "1.5.0",
      "_model_name": "HBoxModel",
      "_view_count": null,
      "_view_module": "@jupyter-widgets/controls",
      "_view_module_version": "1.5.0",
      "_view_name": "HBoxView",
      "box_style": "",
      "children": [
       "IPY_MODEL_df3447abb6a348d9a081318c7e545939",
       "IPY_MODEL_29a1e6b7d1ab4b1d9c62c9d5463e4b69",
       "IPY_MODEL_ca98293ca49546e6886809d34085817f"
      ],
      "layout": "IPY_MODEL_c68f254eff684208b620bc5ec2486b74"
     }
    },
    "89607a6962d2417c9a0d4fe53fc2a3d8": {
     "model_module": "@jupyter-widgets/controls",
     "model_module_version": "1.5.0",
     "model_name": "DescriptionStyleModel",
     "state": {
      "_model_module": "@jupyter-widgets/controls",
      "_model_module_version": "1.5.0",
      "_model_name": "DescriptionStyleModel",
      "_view_count": null,
      "_view_module": "@jupyter-widgets/base",
      "_view_module_version": "1.2.0",
      "_view_name": "StyleView",
      "description_width": ""
     }
    },
    "8d8c7eb17c9147c893e36c7c45cdd454": {
     "model_module": "@jupyter-widgets/base",
     "model_module_version": "1.2.0",
     "model_name": "LayoutModel",
     "state": {
      "_model_module": "@jupyter-widgets/base",
      "_model_module_version": "1.2.0",
      "_model_name": "LayoutModel",
      "_view_count": null,
      "_view_module": "@jupyter-widgets/base",
      "_view_module_version": "1.2.0",
      "_view_name": "LayoutView",
      "align_content": null,
      "align_items": null,
      "align_self": null,
      "border": null,
      "bottom": null,
      "display": null,
      "flex": null,
      "flex_flow": null,
      "grid_area": null,
      "grid_auto_columns": null,
      "grid_auto_flow": null,
      "grid_auto_rows": null,
      "grid_column": null,
      "grid_gap": null,
      "grid_row": null,
      "grid_template_areas": null,
      "grid_template_columns": null,
      "grid_template_rows": null,
      "height": null,
      "justify_content": null,
      "justify_items": null,
      "left": null,
      "margin": null,
      "max_height": null,
      "max_width": null,
      "min_height": null,
      "min_width": null,
      "object_fit": null,
      "object_position": null,
      "order": null,
      "overflow": null,
      "overflow_x": null,
      "overflow_y": null,
      "padding": null,
      "right": null,
      "top": null,
      "visibility": null,
      "width": null
     }
    },
    "99f937ed02a741038307f20283b1eac6": {
     "model_module": "@jupyter-widgets/controls",
     "model_module_version": "1.5.0",
     "model_name": "HTMLModel",
     "state": {
      "_dom_classes": [],
      "_model_module": "@jupyter-widgets/controls",
      "_model_module_version": "1.5.0",
      "_model_name": "HTMLModel",
      "_view_count": null,
      "_view_module": "@jupyter-widgets/controls",
      "_view_module_version": "1.5.0",
      "_view_name": "HTMLView",
      "description": "",
      "description_tooltip": null,
      "layout": "IPY_MODEL_d58769aa551d4c4181104bb7261817b2",
      "placeholder": "​",
      "style": "IPY_MODEL_e208618987b2474da452e19ba624b200",
      "value": " 455k/455k [00:00&lt;00:00, 646kB/s]"
     }
    },
    "a7925611141b403e94294e4fa1935c40": {
     "model_module": "@jupyter-widgets/base",
     "model_module_version": "1.2.0",
     "model_name": "LayoutModel",
     "state": {
      "_model_module": "@jupyter-widgets/base",
      "_model_module_version": "1.2.0",
      "_model_name": "LayoutModel",
      "_view_count": null,
      "_view_module": "@jupyter-widgets/base",
      "_view_module_version": "1.2.0",
      "_view_name": "LayoutView",
      "align_content": null,
      "align_items": null,
      "align_self": null,
      "border": null,
      "bottom": null,
      "display": null,
      "flex": null,
      "flex_flow": null,
      "grid_area": null,
      "grid_auto_columns": null,
      "grid_auto_flow": null,
      "grid_auto_rows": null,
      "grid_column": null,
      "grid_gap": null,
      "grid_row": null,
      "grid_template_areas": null,
      "grid_template_columns": null,
      "grid_template_rows": null,
      "height": null,
      "justify_content": null,
      "justify_items": null,
      "left": null,
      "margin": null,
      "max_height": null,
      "max_width": null,
      "min_height": null,
      "min_width": null,
      "object_fit": null,
      "object_position": null,
      "order": null,
      "overflow": null,
      "overflow_x": null,
      "overflow_y": null,
      "padding": null,
      "right": null,
      "top": null,
      "visibility": null,
      "width": null
     }
    },
    "ab3313c6976d4495b7ffa3b5faf43a69": {
     "model_module": "@jupyter-widgets/base",
     "model_module_version": "1.2.0",
     "model_name": "LayoutModel",
     "state": {
      "_model_module": "@jupyter-widgets/base",
      "_model_module_version": "1.2.0",
      "_model_name": "LayoutModel",
      "_view_count": null,
      "_view_module": "@jupyter-widgets/base",
      "_view_module_version": "1.2.0",
      "_view_name": "LayoutView",
      "align_content": null,
      "align_items": null,
      "align_self": null,
      "border": null,
      "bottom": null,
      "display": null,
      "flex": null,
      "flex_flow": null,
      "grid_area": null,
      "grid_auto_columns": null,
      "grid_auto_flow": null,
      "grid_auto_rows": null,
      "grid_column": null,
      "grid_gap": null,
      "grid_row": null,
      "grid_template_areas": null,
      "grid_template_columns": null,
      "grid_template_rows": null,
      "height": null,
      "justify_content": null,
      "justify_items": null,
      "left": null,
      "margin": null,
      "max_height": null,
      "max_width": null,
      "min_height": null,
      "min_width": null,
      "object_fit": null,
      "object_position": null,
      "order": null,
      "overflow": null,
      "overflow_x": null,
      "overflow_y": null,
      "padding": null,
      "right": null,
      "top": null,
      "visibility": null,
      "width": null
     }
    },
    "b0aa6fb3b0dd423cbeb28ed6db481243": {
     "model_module": "@jupyter-widgets/base",
     "model_module_version": "1.2.0",
     "model_name": "LayoutModel",
     "state": {
      "_model_module": "@jupyter-widgets/base",
      "_model_module_version": "1.2.0",
      "_model_name": "LayoutModel",
      "_view_count": null,
      "_view_module": "@jupyter-widgets/base",
      "_view_module_version": "1.2.0",
      "_view_name": "LayoutView",
      "align_content": null,
      "align_items": null,
      "align_self": null,
      "border": null,
      "bottom": null,
      "display": null,
      "flex": null,
      "flex_flow": null,
      "grid_area": null,
      "grid_auto_columns": null,
      "grid_auto_flow": null,
      "grid_auto_rows": null,
      "grid_column": null,
      "grid_gap": null,
      "grid_row": null,
      "grid_template_areas": null,
      "grid_template_columns": null,
      "grid_template_rows": null,
      "height": null,
      "justify_content": null,
      "justify_items": null,
      "left": null,
      "margin": null,
      "max_height": null,
      "max_width": null,
      "min_height": null,
      "min_width": null,
      "object_fit": null,
      "object_position": null,
      "order": null,
      "overflow": null,
      "overflow_x": null,
      "overflow_y": null,
      "padding": null,
      "right": null,
      "top": null,
      "visibility": null,
      "width": null
     }
    },
    "b2a0906cb417432cad788c4e98dcd12b": {
     "model_module": "@jupyter-widgets/controls",
     "model_module_version": "1.5.0",
     "model_name": "HTMLModel",
     "state": {
      "_dom_classes": [],
      "_model_module": "@jupyter-widgets/controls",
      "_model_module_version": "1.5.0",
      "_model_name": "HTMLModel",
      "_view_count": null,
      "_view_module": "@jupyter-widgets/controls",
      "_view_module_version": "1.5.0",
      "_view_name": "HTMLView",
      "description": "",
      "description_tooltip": null,
      "layout": "IPY_MODEL_f1dbebc01c104dc4b4c8997b76fcdaa5",
      "placeholder": "​",
      "style": "IPY_MODEL_1c3ad492cce14fe4a9e2396295fc29f8",
      "value": "Downloading: 100%"
     }
    },
    "bad924ffc8164206bd6c8e52d68130ab": {
     "model_module": "@jupyter-widgets/controls",
     "model_module_version": "1.5.0",
     "model_name": "HTMLModel",
     "state": {
      "_dom_classes": [],
      "_model_module": "@jupyter-widgets/controls",
      "_model_module_version": "1.5.0",
      "_model_name": "HTMLModel",
      "_view_count": null,
      "_view_module": "@jupyter-widgets/controls",
      "_view_module_version": "1.5.0",
      "_view_name": "HTMLView",
      "description": "",
      "description_tooltip": null,
      "layout": "IPY_MODEL_24af51d797114b179dcc994404b7d6bf",
      "placeholder": "​",
      "style": "IPY_MODEL_160b44de41134308afdf03d85e2068ab",
      "value": " 570/570 [00:00&lt;00:00, 12.5kB/s]"
     }
    },
    "c67597c459914163bfada03bc004b793": {
     "model_module": "@jupyter-widgets/controls",
     "model_module_version": "1.5.0",
     "model_name": "HBoxModel",
     "state": {
      "_dom_classes": [],
      "_model_module": "@jupyter-widgets/controls",
      "_model_module_version": "1.5.0",
      "_model_name": "HBoxModel",
      "_view_count": null,
      "_view_module": "@jupyter-widgets/controls",
      "_view_module_version": "1.5.0",
      "_view_name": "HBoxView",
      "box_style": "",
      "children": [
       "IPY_MODEL_6832e31d257c4f3f8ddbfa0d85a7e0b8",
       "IPY_MODEL_2c33554b1ca64aacb2202ac57e397147",
       "IPY_MODEL_99f937ed02a741038307f20283b1eac6"
      ],
      "layout": "IPY_MODEL_d6e017de97ec4efcb678428edf344777"
     }
    },
    "c68f254eff684208b620bc5ec2486b74": {
     "model_module": "@jupyter-widgets/base",
     "model_module_version": "1.2.0",
     "model_name": "LayoutModel",
     "state": {
      "_model_module": "@jupyter-widgets/base",
      "_model_module_version": "1.2.0",
      "_model_name": "LayoutModel",
      "_view_count": null,
      "_view_module": "@jupyter-widgets/base",
      "_view_module_version": "1.2.0",
      "_view_name": "LayoutView",
      "align_content": null,
      "align_items": null,
      "align_self": null,
      "border": null,
      "bottom": null,
      "display": null,
      "flex": null,
      "flex_flow": null,
      "grid_area": null,
      "grid_auto_columns": null,
      "grid_auto_flow": null,
      "grid_auto_rows": null,
      "grid_column": null,
      "grid_gap": null,
      "grid_row": null,
      "grid_template_areas": null,
      "grid_template_columns": null,
      "grid_template_rows": null,
      "height": null,
      "justify_content": null,
      "justify_items": null,
      "left": null,
      "margin": null,
      "max_height": null,
      "max_width": null,
      "min_height": null,
      "min_width": null,
      "object_fit": null,
      "object_position": null,
      "order": null,
      "overflow": null,
      "overflow_x": null,
      "overflow_y": null,
      "padding": null,
      "right": null,
      "top": null,
      "visibility": null,
      "width": null
     }
    },
    "c71027929538456f8b9f59e0114fc4a0": {
     "model_module": "@jupyter-widgets/controls",
     "model_module_version": "1.5.0",
     "model_name": "HTMLModel",
     "state": {
      "_dom_classes": [],
      "_model_module": "@jupyter-widgets/controls",
      "_model_module_version": "1.5.0",
      "_model_name": "HTMLModel",
      "_view_count": null,
      "_view_module": "@jupyter-widgets/controls",
      "_view_module_version": "1.5.0",
      "_view_name": "HTMLView",
      "description": "",
      "description_tooltip": null,
      "layout": "IPY_MODEL_7c15b79fb6f149a0a8a4132af272484b",
      "placeholder": "​",
      "style": "IPY_MODEL_ed373ae45ee3480e9356e8170060fdb3",
      "value": "Downloading: 100%"
     }
    },
    "ca98293ca49546e6886809d34085817f": {
     "model_module": "@jupyter-widgets/controls",
     "model_module_version": "1.5.0",
     "model_name": "HTMLModel",
     "state": {
      "_dom_classes": [],
      "_model_module": "@jupyter-widgets/controls",
      "_model_module_version": "1.5.0",
      "_model_name": "HTMLModel",
      "_view_count": null,
      "_view_module": "@jupyter-widgets/controls",
      "_view_module_version": "1.5.0",
      "_view_name": "HTMLView",
      "description": "",
      "description_tooltip": null,
      "layout": "IPY_MODEL_52a0a3b77157413a9b86106af992b9bd",
      "placeholder": "​",
      "style": "IPY_MODEL_fbf57b698d4a4d129f8bb7009eb2e539",
      "value": " 28.0/28.0 [00:00&lt;00:00, 533B/s]"
     }
    },
    "cded38dac2424a548df602dc65c4784f": {
     "model_module": "@jupyter-widgets/base",
     "model_module_version": "1.2.0",
     "model_name": "LayoutModel",
     "state": {
      "_model_module": "@jupyter-widgets/base",
      "_model_module_version": "1.2.0",
      "_model_name": "LayoutModel",
      "_view_count": null,
      "_view_module": "@jupyter-widgets/base",
      "_view_module_version": "1.2.0",
      "_view_name": "LayoutView",
      "align_content": null,
      "align_items": null,
      "align_self": null,
      "border": null,
      "bottom": null,
      "display": null,
      "flex": null,
      "flex_flow": null,
      "grid_area": null,
      "grid_auto_columns": null,
      "grid_auto_flow": null,
      "grid_auto_rows": null,
      "grid_column": null,
      "grid_gap": null,
      "grid_row": null,
      "grid_template_areas": null,
      "grid_template_columns": null,
      "grid_template_rows": null,
      "height": null,
      "justify_content": null,
      "justify_items": null,
      "left": null,
      "margin": null,
      "max_height": null,
      "max_width": null,
      "min_height": null,
      "min_width": null,
      "object_fit": null,
      "object_position": null,
      "order": null,
      "overflow": null,
      "overflow_x": null,
      "overflow_y": null,
      "padding": null,
      "right": null,
      "top": null,
      "visibility": null,
      "width": null
     }
    },
    "d20924391ab1443fa560ca7d88750564": {
     "model_module": "@jupyter-widgets/controls",
     "model_module_version": "1.5.0",
     "model_name": "FloatProgressModel",
     "state": {
      "_dom_classes": [],
      "_model_module": "@jupyter-widgets/controls",
      "_model_module_version": "1.5.0",
      "_model_name": "FloatProgressModel",
      "_view_count": null,
      "_view_module": "@jupyter-widgets/controls",
      "_view_module_version": "1.5.0",
      "_view_name": "ProgressView",
      "bar_style": "success",
      "description": "",
      "description_tooltip": null,
      "layout": "IPY_MODEL_d9a3a5b5eb054839911e0e019a0a2907",
      "max": 570,
      "min": 0,
      "orientation": "horizontal",
      "style": "IPY_MODEL_7d6f175022964e098654b5eec86a8b96",
      "value": 570
     }
    },
    "d413e040c915483da20327e48312d991": {
     "model_module": "@jupyter-widgets/controls",
     "model_module_version": "1.5.0",
     "model_name": "ProgressStyleModel",
     "state": {
      "_model_module": "@jupyter-widgets/controls",
      "_model_module_version": "1.5.0",
      "_model_name": "ProgressStyleModel",
      "_view_count": null,
      "_view_module": "@jupyter-widgets/base",
      "_view_module_version": "1.2.0",
      "_view_name": "StyleView",
      "bar_color": null,
      "description_width": ""
     }
    },
    "d58769aa551d4c4181104bb7261817b2": {
     "model_module": "@jupyter-widgets/base",
     "model_module_version": "1.2.0",
     "model_name": "LayoutModel",
     "state": {
      "_model_module": "@jupyter-widgets/base",
      "_model_module_version": "1.2.0",
      "_model_name": "LayoutModel",
      "_view_count": null,
      "_view_module": "@jupyter-widgets/base",
      "_view_module_version": "1.2.0",
      "_view_name": "LayoutView",
      "align_content": null,
      "align_items": null,
      "align_self": null,
      "border": null,
      "bottom": null,
      "display": null,
      "flex": null,
      "flex_flow": null,
      "grid_area": null,
      "grid_auto_columns": null,
      "grid_auto_flow": null,
      "grid_auto_rows": null,
      "grid_column": null,
      "grid_gap": null,
      "grid_row": null,
      "grid_template_areas": null,
      "grid_template_columns": null,
      "grid_template_rows": null,
      "height": null,
      "justify_content": null,
      "justify_items": null,
      "left": null,
      "margin": null,
      "max_height": null,
      "max_width": null,
      "min_height": null,
      "min_width": null,
      "object_fit": null,
      "object_position": null,
      "order": null,
      "overflow": null,
      "overflow_x": null,
      "overflow_y": null,
      "padding": null,
      "right": null,
      "top": null,
      "visibility": null,
      "width": null
     }
    },
    "d6e017de97ec4efcb678428edf344777": {
     "model_module": "@jupyter-widgets/base",
     "model_module_version": "1.2.0",
     "model_name": "LayoutModel",
     "state": {
      "_model_module": "@jupyter-widgets/base",
      "_model_module_version": "1.2.0",
      "_model_name": "LayoutModel",
      "_view_count": null,
      "_view_module": "@jupyter-widgets/base",
      "_view_module_version": "1.2.0",
      "_view_name": "LayoutView",
      "align_content": null,
      "align_items": null,
      "align_self": null,
      "border": null,
      "bottom": null,
      "display": null,
      "flex": null,
      "flex_flow": null,
      "grid_area": null,
      "grid_auto_columns": null,
      "grid_auto_flow": null,
      "grid_auto_rows": null,
      "grid_column": null,
      "grid_gap": null,
      "grid_row": null,
      "grid_template_areas": null,
      "grid_template_columns": null,
      "grid_template_rows": null,
      "height": null,
      "justify_content": null,
      "justify_items": null,
      "left": null,
      "margin": null,
      "max_height": null,
      "max_width": null,
      "min_height": null,
      "min_width": null,
      "object_fit": null,
      "object_position": null,
      "order": null,
      "overflow": null,
      "overflow_x": null,
      "overflow_y": null,
      "padding": null,
      "right": null,
      "top": null,
      "visibility": null,
      "width": null
     }
    },
    "d9a3a5b5eb054839911e0e019a0a2907": {
     "model_module": "@jupyter-widgets/base",
     "model_module_version": "1.2.0",
     "model_name": "LayoutModel",
     "state": {
      "_model_module": "@jupyter-widgets/base",
      "_model_module_version": "1.2.0",
      "_model_name": "LayoutModel",
      "_view_count": null,
      "_view_module": "@jupyter-widgets/base",
      "_view_module_version": "1.2.0",
      "_view_name": "LayoutView",
      "align_content": null,
      "align_items": null,
      "align_self": null,
      "border": null,
      "bottom": null,
      "display": null,
      "flex": null,
      "flex_flow": null,
      "grid_area": null,
      "grid_auto_columns": null,
      "grid_auto_flow": null,
      "grid_auto_rows": null,
      "grid_column": null,
      "grid_gap": null,
      "grid_row": null,
      "grid_template_areas": null,
      "grid_template_columns": null,
      "grid_template_rows": null,
      "height": null,
      "justify_content": null,
      "justify_items": null,
      "left": null,
      "margin": null,
      "max_height": null,
      "max_width": null,
      "min_height": null,
      "min_width": null,
      "object_fit": null,
      "object_position": null,
      "order": null,
      "overflow": null,
      "overflow_x": null,
      "overflow_y": null,
      "padding": null,
      "right": null,
      "top": null,
      "visibility": null,
      "width": null
     }
    },
    "dbf08082bddf481c91a9e6a951065b87": {
     "model_module": "@jupyter-widgets/controls",
     "model_module_version": "1.5.0",
     "model_name": "DescriptionStyleModel",
     "state": {
      "_model_module": "@jupyter-widgets/controls",
      "_model_module_version": "1.5.0",
      "_model_name": "DescriptionStyleModel",
      "_view_count": null,
      "_view_module": "@jupyter-widgets/base",
      "_view_module_version": "1.2.0",
      "_view_name": "StyleView",
      "description_width": ""
     }
    },
    "dc210c205c6b43e595c1a56d617ac0b0": {
     "model_module": "@jupyter-widgets/base",
     "model_module_version": "1.2.0",
     "model_name": "LayoutModel",
     "state": {
      "_model_module": "@jupyter-widgets/base",
      "_model_module_version": "1.2.0",
      "_model_name": "LayoutModel",
      "_view_count": null,
      "_view_module": "@jupyter-widgets/base",
      "_view_module_version": "1.2.0",
      "_view_name": "LayoutView",
      "align_content": null,
      "align_items": null,
      "align_self": null,
      "border": null,
      "bottom": null,
      "display": null,
      "flex": null,
      "flex_flow": null,
      "grid_area": null,
      "grid_auto_columns": null,
      "grid_auto_flow": null,
      "grid_auto_rows": null,
      "grid_column": null,
      "grid_gap": null,
      "grid_row": null,
      "grid_template_areas": null,
      "grid_template_columns": null,
      "grid_template_rows": null,
      "height": null,
      "justify_content": null,
      "justify_items": null,
      "left": null,
      "margin": null,
      "max_height": null,
      "max_width": null,
      "min_height": null,
      "min_width": null,
      "object_fit": null,
      "object_position": null,
      "order": null,
      "overflow": null,
      "overflow_x": null,
      "overflow_y": null,
      "padding": null,
      "right": null,
      "top": null,
      "visibility": null,
      "width": null
     }
    },
    "dcf75d9e1ec048acbfab79b930282c23": {
     "model_module": "@jupyter-widgets/controls",
     "model_module_version": "1.5.0",
     "model_name": "DescriptionStyleModel",
     "state": {
      "_model_module": "@jupyter-widgets/controls",
      "_model_module_version": "1.5.0",
      "_model_name": "DescriptionStyleModel",
      "_view_count": null,
      "_view_module": "@jupyter-widgets/base",
      "_view_module_version": "1.2.0",
      "_view_name": "StyleView",
      "description_width": ""
     }
    },
    "df3447abb6a348d9a081318c7e545939": {
     "model_module": "@jupyter-widgets/controls",
     "model_module_version": "1.5.0",
     "model_name": "HTMLModel",
     "state": {
      "_dom_classes": [],
      "_model_module": "@jupyter-widgets/controls",
      "_model_module_version": "1.5.0",
      "_model_name": "HTMLModel",
      "_view_count": null,
      "_view_module": "@jupyter-widgets/controls",
      "_view_module_version": "1.5.0",
      "_view_name": "HTMLView",
      "description": "",
      "description_tooltip": null,
      "layout": "IPY_MODEL_12f84aa3df914dfdaee1099fcadbe949",
      "placeholder": "​",
      "style": "IPY_MODEL_476e9f3b621e462fa8e90cf9e15fb87d",
      "value": "Downloading: 100%"
     }
    },
    "e208618987b2474da452e19ba624b200": {
     "model_module": "@jupyter-widgets/controls",
     "model_module_version": "1.5.0",
     "model_name": "DescriptionStyleModel",
     "state": {
      "_model_module": "@jupyter-widgets/controls",
      "_model_module_version": "1.5.0",
      "_model_name": "DescriptionStyleModel",
      "_view_count": null,
      "_view_module": "@jupyter-widgets/base",
      "_view_module_version": "1.2.0",
      "_view_name": "StyleView",
      "description_width": ""
     }
    },
    "ed373ae45ee3480e9356e8170060fdb3": {
     "model_module": "@jupyter-widgets/controls",
     "model_module_version": "1.5.0",
     "model_name": "DescriptionStyleModel",
     "state": {
      "_model_module": "@jupyter-widgets/controls",
      "_model_module_version": "1.5.0",
      "_model_name": "DescriptionStyleModel",
      "_view_count": null,
      "_view_module": "@jupyter-widgets/base",
      "_view_module_version": "1.2.0",
      "_view_name": "StyleView",
      "description_width": ""
     }
    },
    "f1dbebc01c104dc4b4c8997b76fcdaa5": {
     "model_module": "@jupyter-widgets/base",
     "model_module_version": "1.2.0",
     "model_name": "LayoutModel",
     "state": {
      "_model_module": "@jupyter-widgets/base",
      "_model_module_version": "1.2.0",
      "_model_name": "LayoutModel",
      "_view_count": null,
      "_view_module": "@jupyter-widgets/base",
      "_view_module_version": "1.2.0",
      "_view_name": "LayoutView",
      "align_content": null,
      "align_items": null,
      "align_self": null,
      "border": null,
      "bottom": null,
      "display": null,
      "flex": null,
      "flex_flow": null,
      "grid_area": null,
      "grid_auto_columns": null,
      "grid_auto_flow": null,
      "grid_auto_rows": null,
      "grid_column": null,
      "grid_gap": null,
      "grid_row": null,
      "grid_template_areas": null,
      "grid_template_columns": null,
      "grid_template_rows": null,
      "height": null,
      "justify_content": null,
      "justify_items": null,
      "left": null,
      "margin": null,
      "max_height": null,
      "max_width": null,
      "min_height": null,
      "min_width": null,
      "object_fit": null,
      "object_position": null,
      "order": null,
      "overflow": null,
      "overflow_x": null,
      "overflow_y": null,
      "padding": null,
      "right": null,
      "top": null,
      "visibility": null,
      "width": null
     }
    },
    "f4c81aea97d84c3d8ab13cf146acbf86": {
     "model_module": "@jupyter-widgets/controls",
     "model_module_version": "1.5.0",
     "model_name": "FloatProgressModel",
     "state": {
      "_dom_classes": [],
      "_model_module": "@jupyter-widgets/controls",
      "_model_module_version": "1.5.0",
      "_model_name": "FloatProgressModel",
      "_view_count": null,
      "_view_module": "@jupyter-widgets/controls",
      "_view_module_version": "1.5.0",
      "_view_name": "ProgressView",
      "bar_style": "success",
      "description": "",
      "description_tooltip": null,
      "layout": "IPY_MODEL_03c35987e1a84ab8ac26ae943b3cdc83",
      "max": 231508,
      "min": 0,
      "orientation": "horizontal",
      "style": "IPY_MODEL_54c75bed593448a5b90bd046dadf7289",
      "value": 231508
     }
    },
    "fbf57b698d4a4d129f8bb7009eb2e539": {
     "model_module": "@jupyter-widgets/controls",
     "model_module_version": "1.5.0",
     "model_name": "DescriptionStyleModel",
     "state": {
      "_model_module": "@jupyter-widgets/controls",
      "_model_module_version": "1.5.0",
      "_model_name": "DescriptionStyleModel",
      "_view_count": null,
      "_view_module": "@jupyter-widgets/base",
      "_view_module_version": "1.2.0",
      "_view_name": "StyleView",
      "description_width": ""
     }
    },
    "ffd27ec1ec03475189c79f17978d9d03": {
     "model_module": "@jupyter-widgets/base",
     "model_module_version": "1.2.0",
     "model_name": "LayoutModel",
     "state": {
      "_model_module": "@jupyter-widgets/base",
      "_model_module_version": "1.2.0",
      "_model_name": "LayoutModel",
      "_view_count": null,
      "_view_module": "@jupyter-widgets/base",
      "_view_module_version": "1.2.0",
      "_view_name": "LayoutView",
      "align_content": null,
      "align_items": null,
      "align_self": null,
      "border": null,
      "bottom": null,
      "display": null,
      "flex": null,
      "flex_flow": null,
      "grid_area": null,
      "grid_auto_columns": null,
      "grid_auto_flow": null,
      "grid_auto_rows": null,
      "grid_column": null,
      "grid_gap": null,
      "grid_row": null,
      "grid_template_areas": null,
      "grid_template_columns": null,
      "grid_template_rows": null,
      "height": null,
      "justify_content": null,
      "justify_items": null,
      "left": null,
      "margin": null,
      "max_height": null,
      "max_width": null,
      "min_height": null,
      "min_width": null,
      "object_fit": null,
      "object_position": null,
      "order": null,
      "overflow": null,
      "overflow_x": null,
      "overflow_y": null,
      "padding": null,
      "right": null,
      "top": null,
      "visibility": null,
      "width": null
     }
    }
   }
  }
 },
 "nbformat": 4,
 "nbformat_minor": 1
}
