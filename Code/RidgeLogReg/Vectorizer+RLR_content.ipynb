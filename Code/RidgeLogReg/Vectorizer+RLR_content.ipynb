{
 "cells": [
  {
   "cell_type": "code",
   "execution_count": 1,
   "metadata": {
    "colab": {
     "base_uri": "https://localhost:8080/"
    },
    "id": "KAIsdTFdtaMa",
    "outputId": "54431293-736f-4f33-d658-05b383c1ffc3"
   },
   "outputs": [],
   "source": [
    "# If using google drive, unocmment these 2 lines for accessing your myDrive folder\n",
    "#from google.colab import drive\n",
    "#drive.mount('/content/drive/')"
   ]
  },
  {
   "cell_type": "markdown",
   "metadata": {
    "id": "RadE1--HovmO"
   },
   "source": [
    "# Import libraries"
   ]
  },
  {
   "cell_type": "code",
   "execution_count": 2,
   "metadata": {
    "id": "Zoyu5p92uWiC"
   },
   "outputs": [],
   "source": [
    "import pandas as pd\n",
    "import warnings; warnings.simplefilter('ignore')\n",
    "import random\n",
    "import numpy as np\n",
    "from numpy.random import seed as random_seed\n",
    "from numpy.random import shuffle as random_shuffle\n",
    "import matplotlib.pyplot as plt\n",
    "%matplotlib inline  \n",
    "\n",
    "# NLP libraries\n",
    "import spacy\n",
    "\n",
    "# scikit imports\n",
    "import sklearn\n",
    "from sklearn.feature_extraction.text import CountVectorizer\n",
    "from sklearn.model_selection import cross_val_score\n",
    "from sklearn.linear_model import LogisticRegression\n",
    "from sklearn.utils import shuffle\n",
    "\n",
    "# Setting a seed to reproduce\n",
    "seed = 42\n",
    "random.seed(seed)\n",
    "np.random.seed(seed)\n",
    "\n",
    "%load_ext autoreload\n",
    "%autoreload 2\n",
    "\n",
    "# Enter here your local path to labelled data\n",
    "PATH = ''"
   ]
  },
  {
   "cell_type": "code",
   "execution_count": 3,
   "metadata": {
    "id": "3P93nPd2vE8v"
   },
   "outputs": [],
   "source": [
    "# Initialize the Spacy analyzer in English\n",
    "nlp = spacy.load('en_core_web_sm')"
   ]
  },
  {
   "cell_type": "code",
   "execution_count": 4,
   "metadata": {
    "colab": {
     "base_uri": "https://localhost:8080/",
     "height": 206
    },
    "id": "OMcREOjEvMAF",
    "outputId": "4649062a-0435-4281-91ad-dd757db3d1dd"
   },
   "outputs": [
    {
     "data": {
      "text/html": [
       "<div>\n",
       "<style scoped>\n",
       "    .dataframe tbody tr th:only-of-type {\n",
       "        vertical-align: middle;\n",
       "    }\n",
       "\n",
       "    .dataframe tbody tr th {\n",
       "        vertical-align: top;\n",
       "    }\n",
       "\n",
       "    .dataframe thead th {\n",
       "        text-align: right;\n",
       "    }\n",
       "</style>\n",
       "<table border=\"1\" class=\"dataframe\">\n",
       "  <thead>\n",
       "    <tr style=\"text-align: right;\">\n",
       "      <th></th>\n",
       "      <th>Unnamed: 0</th>\n",
       "      <th>content_no_custom_words</th>\n",
       "      <th>green_content</th>\n",
       "    </tr>\n",
       "  </thead>\n",
       "  <tbody>\n",
       "    <tr>\n",
       "      <th>0</th>\n",
       "      <td>0</td>\n",
       "      <td>betriebsmitarbeiter/in   betriebsmitarbeiter/i...</td>\n",
       "      <td>0.0</td>\n",
       "    </tr>\n",
       "    <tr>\n",
       "      <th>1</th>\n",
       "      <td>1</td>\n",
       "      <td>responsibilities: provides health care and ass...</td>\n",
       "      <td>1.0</td>\n",
       "    </tr>\n",
       "    <tr>\n",
       "      <th>2</th>\n",
       "      <td>2</td>\n",
       "      <td>work with us  what matters most to us? high le...</td>\n",
       "      <td>1.0</td>\n",
       "    </tr>\n",
       "    <tr>\n",
       "      <th>3</th>\n",
       "      <td>3</td>\n",
       "      <td>the requirement for this job are as follows: -...</td>\n",
       "      <td>0.0</td>\n",
       "    </tr>\n",
       "    <tr>\n",
       "      <th>4</th>\n",
       "      <td>4</td>\n",
       "      <td>qualifikationenaufgaben  several years’ experi...</td>\n",
       "      <td>0.0</td>\n",
       "    </tr>\n",
       "  </tbody>\n",
       "</table>\n",
       "</div>"
      ],
      "text/plain": [
       "   Unnamed: 0                            content_no_custom_words  \\\n",
       "0           0  betriebsmitarbeiter/in   betriebsmitarbeiter/i...   \n",
       "1           1  responsibilities: provides health care and ass...   \n",
       "2           2  work with us  what matters most to us? high le...   \n",
       "3           3  the requirement for this job are as follows: -...   \n",
       "4           4  qualifikationenaufgaben  several years’ experi...   \n",
       "\n",
       "   green_content  \n",
       "0            0.0  \n",
       "1            1.0  \n",
       "2            1.0  \n",
       "3            0.0  \n",
       "4            0.0  "
      ]
     },
     "execution_count": 4,
     "metadata": {},
     "output_type": "execute_result"
    }
   ],
   "source": [
    "# Loading train data\n",
    "df_train = pd.read_csv(PATH + \"Content_Train_Label.csv\")\n",
    "df_train.head()"
   ]
  },
  {
   "cell_type": "code",
   "execution_count": 5,
   "metadata": {
    "colab": {
     "base_uri": "https://localhost:8080/",
     "height": 206
    },
    "id": "DsUQzYWFzRNw",
    "outputId": "d209d3a6-b439-49bf-9dc9-5567745859f7"
   },
   "outputs": [
    {
     "data": {
      "text/html": [
       "<div>\n",
       "<style scoped>\n",
       "    .dataframe tbody tr th:only-of-type {\n",
       "        vertical-align: middle;\n",
       "    }\n",
       "\n",
       "    .dataframe tbody tr th {\n",
       "        vertical-align: top;\n",
       "    }\n",
       "\n",
       "    .dataframe thead th {\n",
       "        text-align: right;\n",
       "    }\n",
       "</style>\n",
       "<table border=\"1\" class=\"dataframe\">\n",
       "  <thead>\n",
       "    <tr style=\"text-align: right;\">\n",
       "      <th></th>\n",
       "      <th>content_no_custom_words</th>\n",
       "      <th>green_content</th>\n",
       "    </tr>\n",
       "  </thead>\n",
       "  <tbody>\n",
       "    <tr>\n",
       "      <th>0</th>\n",
       "      <td>this is your opportunity to join swiss re grou...</td>\n",
       "      <td>0</td>\n",
       "    </tr>\n",
       "    <tr>\n",
       "      <th>1</th>\n",
       "      <td>chauffeur b (nur für pensionierte)   chauffeur...</td>\n",
       "      <td>0</td>\n",
       "    </tr>\n",
       "    <tr>\n",
       "      <th>2</th>\n",
       "      <td>shire is the leading global biotechnology comp...</td>\n",
       "      <td>1</td>\n",
       "    </tr>\n",
       "    <tr>\n",
       "      <th>3</th>\n",
       "      <td>empa is the interdisciplinary research and ser...</td>\n",
       "      <td>0</td>\n",
       "    </tr>\n",
       "    <tr>\n",
       "      <th>4</th>\n",
       "      <td>ausdauernder betriebsmitarbeiter   ausdauernde...</td>\n",
       "      <td>0</td>\n",
       "    </tr>\n",
       "  </tbody>\n",
       "</table>\n",
       "</div>"
      ],
      "text/plain": [
       "                             content_no_custom_words  green_content\n",
       "0  this is your opportunity to join swiss re grou...              0\n",
       "1  chauffeur b (nur für pensionierte)   chauffeur...              0\n",
       "2  shire is the leading global biotechnology comp...              1\n",
       "3  empa is the interdisciplinary research and ser...              0\n",
       "4  ausdauernder betriebsmitarbeiter   ausdauernde...              0"
      ]
     },
     "execution_count": 5,
     "metadata": {},
     "output_type": "execute_result"
    }
   ],
   "source": [
    "# Loading validation data\n",
    "df_validate = pd.read_csv(PATH + \"Content_Validation_Label.csv\")\n",
    "df_validate.head()"
   ]
  },
  {
   "cell_type": "code",
   "execution_count": 6,
   "metadata": {
    "colab": {
     "base_uri": "https://localhost:8080/",
     "height": 310
    },
    "id": "_rE8WNm5ncCO",
    "outputId": "3a4ef852-8864-4e47-9cbd-8f411db72185"
   },
   "outputs": [
    {
     "data": {
      "text/html": [
       "<div>\n",
       "<style scoped>\n",
       "    .dataframe tbody tr th:only-of-type {\n",
       "        vertical-align: middle;\n",
       "    }\n",
       "\n",
       "    .dataframe tbody tr th {\n",
       "        vertical-align: top;\n",
       "    }\n",
       "\n",
       "    .dataframe thead th {\n",
       "        text-align: right;\n",
       "    }\n",
       "</style>\n",
       "<table border=\"1\" class=\"dataframe\">\n",
       "  <thead>\n",
       "    <tr style=\"text-align: right;\">\n",
       "      <th></th>\n",
       "      <th>title</th>\n",
       "      <th>content_no_custom_words</th>\n",
       "      <th>title_tokens</th>\n",
       "      <th>content_tokens</th>\n",
       "      <th>manual green</th>\n",
       "    </tr>\n",
       "  </thead>\n",
       "  <tbody>\n",
       "    <tr>\n",
       "      <th>0</th>\n",
       "      <td>Business Process Engineers / Software Entwickl...</td>\n",
       "      <td>business process engineers / software entwickl...</td>\n",
       "      <td>['business', 'process', 'engineer', 'software'...</td>\n",
       "      <td>['business', 'process', 'engineer', 'software'...</td>\n",
       "      <td>0</td>\n",
       "    </tr>\n",
       "    <tr>\n",
       "      <th>1</th>\n",
       "      <td>Kranführer/in mit SUVA Ausweis</td>\n",
       "      <td>kranführer/in mit suva ausweis   kranführer/in...</td>\n",
       "      <td>['kranführer', 'suva', 'ausweis']</td>\n",
       "      <td>['kranführer', 'suva', 'ausweis', 'kranführer'...</td>\n",
       "      <td>0</td>\n",
       "    </tr>\n",
       "    <tr>\n",
       "      <th>2</th>\n",
       "      <td>Sachbearbeiter/in Visa</td>\n",
       "      <td>sachbearbeiter/in visa   sachbearbeiter/in vis...</td>\n",
       "      <td>['sachbearbeiter', 'visa']</td>\n",
       "      <td>['sachbearbeiter', 'visa', 'sachbearbeiter', '...</td>\n",
       "      <td>0</td>\n",
       "    </tr>\n",
       "    <tr>\n",
       "      <th>3</th>\n",
       "      <td>Soft Commodity Trading Jr Operator</td>\n",
       "      <td>the junior operator will be in charge of: - ma...</td>\n",
       "      <td>['soft', 'commodity', 'trading', 'operator']</td>\n",
       "      <td>['junior', 'operator', 'charge', 'manage', 'bu...</td>\n",
       "      <td>0</td>\n",
       "    </tr>\n",
       "    <tr>\n",
       "      <th>4</th>\n",
       "      <td>Software Trainer</td>\n",
       "      <td>software trainer details job title software tr...</td>\n",
       "      <td>['software', 'trainer']</td>\n",
       "      <td>['software', 'trainer', 'detail', 'title', 'so...</td>\n",
       "      <td>0</td>\n",
       "    </tr>\n",
       "  </tbody>\n",
       "</table>\n",
       "</div>"
      ],
      "text/plain": [
       "                                               title  \\\n",
       "0  Business Process Engineers / Software Entwickl...   \n",
       "1                     Kranführer/in mit SUVA Ausweis   \n",
       "2                             Sachbearbeiter/in Visa   \n",
       "3                 Soft Commodity Trading Jr Operator   \n",
       "4                                   Software Trainer   \n",
       "\n",
       "                             content_no_custom_words  \\\n",
       "0  business process engineers / software entwickl...   \n",
       "1  kranführer/in mit suva ausweis   kranführer/in...   \n",
       "2  sachbearbeiter/in visa   sachbearbeiter/in vis...   \n",
       "3  the junior operator will be in charge of: - ma...   \n",
       "4  software trainer details job title software tr...   \n",
       "\n",
       "                                        title_tokens  \\\n",
       "0  ['business', 'process', 'engineer', 'software'...   \n",
       "1                  ['kranführer', 'suva', 'ausweis']   \n",
       "2                         ['sachbearbeiter', 'visa']   \n",
       "3       ['soft', 'commodity', 'trading', 'operator']   \n",
       "4                            ['software', 'trainer']   \n",
       "\n",
       "                                      content_tokens  manual green  \n",
       "0  ['business', 'process', 'engineer', 'software'...             0  \n",
       "1  ['kranführer', 'suva', 'ausweis', 'kranführer'...             0  \n",
       "2  ['sachbearbeiter', 'visa', 'sachbearbeiter', '...             0  \n",
       "3  ['junior', 'operator', 'charge', 'manage', 'bu...             0  \n",
       "4  ['software', 'trainer', 'detail', 'title', 'so...             0  "
      ]
     },
     "execution_count": 6,
     "metadata": {},
     "output_type": "execute_result"
    }
   ],
   "source": [
    "# Loading test data\n",
    "df_test = pd.read_csv(PATH + \"Test_Final.csv\")\n",
    "df_test.head()"
   ]
  },
  {
   "cell_type": "markdown",
   "metadata": {},
   "source": [
    "### Assembling all words to create a corpus"
   ]
  },
  {
   "cell_type": "code",
   "execution_count": 7,
   "metadata": {
    "id": "60mc_cvZ0xrT"
   },
   "outputs": [],
   "source": [
    "# Transform dataset to list\n",
    "list_corpus_train      = df_train['content_no_custom_words'].tolist()\n",
    "list_corpus_val        = df_validate['content_no_custom_words'].tolist()\n",
    "list_corpus_test       = df_test['content_no_custom_words'].tolist()\n",
    "\n",
    "# Adding all lists together\n",
    "corpus_total           = list_corpus_train + list_corpus_val + list_corpus_test\n",
    "\n",
    "# Define CountVectorizer\n",
    "vectorizer             = CountVectorizer()\n",
    "X_TrainValidateandTest = vectorizer.fit_transform(corpus_total)\n",
    "values                 = vectorizer.get_feature_names()"
   ]
  },
  {
   "cell_type": "markdown",
   "metadata": {},
   "source": [
    "### Split into train, validation and test"
   ]
  },
  {
   "cell_type": "code",
   "execution_count": 8,
   "metadata": {
    "id": "16PrSWJFbWyU"
   },
   "outputs": [],
   "source": [
    "# Train\n",
    "index_stop_train     = df_train.shape[0]\n",
    "X_train              = X_TrainValidateandTest[0:index_stop_train]\n",
    "\n",
    "# Validation\n",
    "index_start_validate = df_train.shape[0]\n",
    "index_stop_validate  = df_train.shape[0] + df_validate.shape[0]\n",
    "X_validate           = X_TrainValidateandTest[index_start_validate:index_stop_validate]\n",
    "\n",
    "# Test\n",
    "index_start_test     = df_train.shape[0] + df_validate.shape[0]\n",
    "index_stop_test      = X_TrainValidateandTest.shape[0]\n",
    "X_test               = X_TrainValidateandTest[index_start_test:index_stop_test]"
   ]
  },
  {
   "cell_type": "code",
   "execution_count": 9,
   "metadata": {
    "id": "eT16bPQ3ejx3"
   },
   "outputs": [],
   "source": [
    "# Prepare Y \n",
    "Y_train    = df_train['green_content'].astype(int)\n",
    "Y_validate = df_validate['green_content'].astype(int)\n",
    "Y_test    = df_test['manual green'].astype(int)"
   ]
  },
  {
   "cell_type": "code",
   "execution_count": 10,
   "metadata": {
    "colab": {
     "base_uri": "https://localhost:8080/"
    },
    "id": "Ibz2jZASTjaN",
    "outputId": "25f6e01a-564e-404b-efcc-1a6cf1f5bbf1"
   },
   "outputs": [
    {
     "name": "stdout",
     "output_type": "stream",
     "text": [
      "(18176, 38120) (18176,) (300, 38120) (300,) (300, 38120)\n"
     ]
    }
   ],
   "source": [
    "# Verifying the dimensions\n",
    "print(X_train.shape, Y_train.shape, X_validate.shape, Y_validate.shape, X_test.shape)"
   ]
  },
  {
   "cell_type": "markdown",
   "metadata": {
    "id": "ubSDj3U4_dzA"
   },
   "source": [
    "### Let's fit the regularized logistic regression. We will crossvalidate the regularization parameter on the training set."
   ]
  },
  {
   "cell_type": "code",
   "execution_count": 11,
   "metadata": {
    "id": "P4Rx-vHd_djn"
   },
   "outputs": [],
   "source": [
    "# Create empty list to store scores\n",
    "accs = []\n",
    "\n",
    "# The grid of regularization parameter \n",
    "grid = np.linspace(0.005,10,100)\n",
    "\n",
    "for c in grid:\n",
    "    # Initialize the classifier\n",
    "    model = LogisticRegression(random_state=0, solver='lbfgs', C = c)\n",
    "    model.fit(X_train, Y_train)\n",
    "    scores = model.score(X_validate, Y_validate)\n",
    "    accs.append(np.mean(scores))"
   ]
  },
  {
   "cell_type": "markdown",
   "metadata": {},
   "source": [
    "#### Plot crossvalidation accuracy over regularization parameter"
   ]
  },
  {
   "cell_type": "code",
   "execution_count": 12,
   "metadata": {
    "colab": {
     "base_uri": "https://localhost:8080/",
     "height": 308
    },
    "id": "X5wu_p67_kM8",
    "outputId": "fbf30741-78ff-49e1-eef0-525a8bb56a89"
   },
   "outputs": [
    {
     "data": {
      "text/plain": [
       "Text(0, 0.5, 'Crossvalidation accuracy')"
      ]
     },
     "execution_count": 12,
     "metadata": {},
     "output_type": "execute_result"
    },
    {
     "data": {
      "image/png": "[encoded data removed]",
      "text/plain": [
       "<Figure size 432x288 with 1 Axes>"
      ]
     },
     "metadata": {
      "needs_background": "light"
     },
     "output_type": "display_data"
    }
   ],
   "source": [
    "plt.plot(accs)\n",
    "plt.xticks(range(len(grid)), grid)\n",
    "plt.xlabel('Regularization parameter \\n (Low - strong regularization, High - weak regularization)')\n",
    "plt.ylabel('Crossvalidation accuracy')"
   ]
  },
  {
   "cell_type": "markdown",
   "metadata": {},
   "source": [
    "### Printing the most common words caracterizing greenness"
   ]
  },
  {
   "cell_type": "code",
   "execution_count": 13,
   "metadata": {
    "colab": {
     "base_uri": "https://localhost:8080/"
    },
    "id": "rlzx_8-eBJkg",
    "outputId": "e9b3c028-35a3-4ffe-c377-539bc841a02d"
   },
   "outputs": [
    {
     "name": "stdout",
     "output_type": "stream",
     "text": [
      "['science' 'recycling' 'hospital' 'sustainable' 'pharmaceutical'\n",
      " 'medicine' 'ecosystem' 'environmental' 'health' 'biotechnology' 'trained'\n",
      " 'train' 'renewable' 'medical' 'biomedical' 'pharma' 'pharmaceuticals'\n",
      " 'rail' 'nature' 'natural']\n"
     ]
    }
   ],
   "source": [
    "coefs     = model.coef_[0]\n",
    "top_three = np.argpartition(coefs, -20)[-20:]\n",
    "\n",
    "print(np.array(vectorizer.get_feature_names())[top_three])"
   ]
  },
  {
   "cell_type": "markdown",
   "metadata": {
    "id": "a6Tldh-EA0mK"
   },
   "source": [
    "### Let's train again, on the entire training set, with the chosen regularization parameter. We will test on the test set"
   ]
  },
  {
   "cell_type": "code",
   "execution_count": 14,
   "metadata": {
    "id": "ynJR0w9CfkzS"
   },
   "outputs": [
    {
     "data": {
      "text/plain": [
       "array([0, 0, 0, 0, 0, 0, 0, 1, 0, 0, 0, 0, 0, 0, 0, 0, 0, 0, 0, 1, 1, 0,\n",
       "       0, 0, 0, 1, 0, 0, 0, 0, 0, 0, 0, 0, 1, 0, 0, 0, 0, 0, 0, 0, 0, 0,\n",
       "       0, 0, 0, 0, 1, 0, 0, 0, 0, 0, 0, 1, 0, 1, 0, 0, 0, 0, 0, 0, 0, 0,\n",
       "       0, 0, 1, 0, 0, 0, 0, 0, 1, 1, 1, 0, 1, 1, 0, 0, 0, 0, 0, 1, 0, 0,\n",
       "       0, 0, 0, 0, 0, 0, 1, 0, 0, 0, 0, 0, 0, 0, 1, 0, 1, 0, 0, 0, 0, 0,\n",
       "       0, 1, 0, 0, 0, 0, 0, 1, 1, 0, 0, 0, 1, 0, 0, 0, 0, 0, 0, 1, 1, 0,\n",
       "       0, 1, 0, 0, 0, 0, 0, 0, 1, 0, 0, 1, 0, 0, 0, 0, 0, 0, 0, 0, 0, 0,\n",
       "       0, 0, 1, 0, 0, 0, 0, 0, 0, 1, 0, 0, 0, 0, 1, 0, 0, 0, 1, 0, 0, 0,\n",
       "       0, 0, 1, 0, 1, 0, 0, 1, 0, 0, 0, 0, 0, 0, 1, 0, 0, 0, 1, 1, 0, 1,\n",
       "       0, 0, 0, 0, 0, 0, 0, 0, 0, 0, 0, 0, 0, 0, 0, 0, 0, 1, 0, 0, 1, 0,\n",
       "       0, 0, 0, 1, 0, 1, 0, 1, 0, 0, 0, 0, 1, 0, 0, 1, 1, 0, 0, 0, 1, 1,\n",
       "       1, 0, 1, 0, 0, 1, 0, 0, 0, 1, 0, 0, 0, 0, 1, 1, 0, 0, 1, 0, 0, 0,\n",
       "       0, 1, 1, 1, 0, 0, 0, 0, 1, 1, 1, 0, 0, 0, 0, 0, 0, 0, 0, 0, 0, 0,\n",
       "       0, 1, 0, 0, 0, 1, 0, 0, 1, 0, 0, 0, 1, 0])"
      ]
     },
     "execution_count": 14,
     "metadata": {},
     "output_type": "execute_result"
    }
   ],
   "source": [
    "# Predictions on test set\n",
    "y_pred = model.predict(X_test)\n",
    "y_pred"
   ]
  },
  {
   "cell_type": "code",
   "execution_count": 15,
   "metadata": {
    "id": "9jVqHk5Dfnbl"
   },
   "outputs": [],
   "source": [
    "df_test['content_prediction'] = y_pred\n",
    "df_test.to_csv(PATH + 'Content_Prediction_VectRLR.csv', index=False)"
   ]
  },
  {
   "cell_type": "markdown",
   "metadata": {},
   "source": [
    "### Plot confusion matrix"
   ]
  },
  {
   "cell_type": "code",
   "execution_count": 16,
   "metadata": {},
   "outputs": [
    {
     "data": {
      "text/plain": [
       "<sklearn.metrics._plot.confusion_matrix.ConfusionMatrixDisplay at 0x7f81aeacc3a0>"
      ]
     },
     "execution_count": 16,
     "metadata": {},
     "output_type": "execute_result"
    },
    {
     "data": {
      "image/png": "[encoded data removed]",
      "text/plain": [
       "<Figure size 432x288 with 2 Axes>"
      ]
     },
     "metadata": {
      "needs_background": "light"
     },
     "output_type": "display_data"
    }
   ],
   "source": [
    "from sklearn.metrics import confusion_matrix, ConfusionMatrixDisplay\n",
    "# Predicting on validation set\n",
    "val_preds = model.predict(X_validate)\n",
    "\n",
    "# Confusion matrix\n",
    "disp = ConfusionMatrixDisplay(confusion_matrix=confusion_matrix(Y_validate, val_preds), display_labels=np.unique(Y_validate))\n",
    "disp.plot()"
   ]
  },
  {
   "cell_type": "markdown",
   "metadata": {},
   "source": [
    "## Alternative by fixing the class distribution"
   ]
  },
  {
   "cell_type": "code",
   "execution_count": 17,
   "metadata": {},
   "outputs": [],
   "source": [
    "# Percent distribution of green jobs wanted\n",
    "wanted_green_distribution = 10\n",
    "\n",
    "y_pred = model.predict_proba(X_test)\n",
    "df_test.loc[:, 'content_prediction'] = 0\n",
    "df_test.loc[y_pred[:,1] > np.quantile(y_pred[:,1], 1-wanted_green_distribution/100), 'content_prediction'] = 1"
   ]
  },
  {
   "cell_type": "code",
   "execution_count": 18,
   "metadata": {},
   "outputs": [],
   "source": [
    "df_test.to_csv(PATH + 'Content_Prediction_VectRLR_fixed.csv', index=False)"
   ]
  },
  {
   "cell_type": "code",
   "execution_count": null,
   "metadata": {},
   "outputs": [],
   "source": []
  }
 ],
 "metadata": {
  "colab": {
   "collapsed_sections": [],
   "name": "Vectorizer+RLR_content.ipynb",
   "provenance": []
  },
  "kernelspec": {
   "display_name": "Python 3 (ipykernel)",
   "language": "python",
   "name": "python3"
  },
  "language_info": {
   "codemirror_mode": {
    "name": "ipython",
    "version": 3
   },
   "file_extension": ".py",
   "mimetype": "text/x-python",
   "name": "python",
   "nbconvert_exporter": "python",
   "pygments_lexer": "ipython3",
   "version": "3.8.8"
  }
 },
 "nbformat": 4,
 "nbformat_minor": 1
}
