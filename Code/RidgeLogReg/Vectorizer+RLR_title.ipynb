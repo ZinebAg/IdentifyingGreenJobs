{
 "cells": [
  {
   "cell_type": "code",
   "execution_count": 1,
   "metadata": {
    "colab": {
     "base_uri": "https://localhost:8080/"
    },
    "id": "KAIsdTFdtaMa",
    "outputId": "fe6aec27-9631-4e9a-e4c9-cea160b9d928"
   },
   "outputs": [],
   "source": [
    "# If using google drive, unocmment these 2 lines for accessing your myDrive folder\n",
    "#from google.colab import drive\n",
    "#drive.mount('/content/drive/')"
   ]
  },
  {
   "cell_type": "code",
   "execution_count": 2,
   "metadata": {
    "id": "Zoyu5p92uWiC"
   },
   "outputs": [],
   "source": [
    "import pandas as pd\n",
    "import warnings; warnings.simplefilter('ignore')\n",
    "import random\n",
    "import numpy as np\n",
    "from numpy.random import seed as random_seed\n",
    "from numpy.random import shuffle as random_shuffle\n",
    "import matplotlib.pyplot as plt\n",
    "%matplotlib inline  \n",
    "\n",
    "# NLP libraries\n",
    "import spacy\n",
    "\n",
    "# scikit imports\n",
    "import sklearn\n",
    "from sklearn.feature_extraction.text import CountVectorizer\n",
    "from sklearn.model_selection import cross_val_score\n",
    "from sklearn.linear_model import LogisticRegression\n",
    "from sklearn.utils import shuffle\n",
    "\n",
    "# Setting a seed to reproduce\n",
    "seed = 42\n",
    "random.seed(seed)\n",
    "np.random.seed(seed)\n",
    "\n",
    "%load_ext autoreload\n",
    "%autoreload 2\n",
    "\n",
    "# Enter here your local path to labelled data\n",
    "PATH = ''"
   ]
  },
  {
   "cell_type": "code",
   "execution_count": 3,
   "metadata": {
    "id": "3P93nPd2vE8v"
   },
   "outputs": [],
   "source": [
    "# Initialize the Spacy analyzer in English\n",
    "nlp = spacy.load('en_core_web_sm')"
   ]
  },
  {
   "cell_type": "code",
   "execution_count": 4,
   "metadata": {
    "colab": {
     "base_uri": "https://localhost:8080/",
     "height": 206
    },
    "id": "OMcREOjEvMAF",
    "outputId": "e264ea30-b370-4154-c2ac-1d1eaad81abc"
   },
   "outputs": [
    {
     "data": {
      "text/html": [
       "<div>\n",
       "<style scoped>\n",
       "    .dataframe tbody tr th:only-of-type {\n",
       "        vertical-align: middle;\n",
       "    }\n",
       "\n",
       "    .dataframe tbody tr th {\n",
       "        vertical-align: top;\n",
       "    }\n",
       "\n",
       "    .dataframe thead th {\n",
       "        text-align: right;\n",
       "    }\n",
       "</style>\n",
       "<table border=\"1\" class=\"dataframe\">\n",
       "  <thead>\n",
       "    <tr style=\"text-align: right;\">\n",
       "      <th></th>\n",
       "      <th>Unnamed: 0</th>\n",
       "      <th>title</th>\n",
       "      <th>green_title</th>\n",
       "    </tr>\n",
       "  </thead>\n",
       "  <tbody>\n",
       "    <tr>\n",
       "      <th>0</th>\n",
       "      <td>0</td>\n",
       "      <td>Senior Search Partner Manager</td>\n",
       "      <td>0</td>\n",
       "    </tr>\n",
       "    <tr>\n",
       "      <th>1</th>\n",
       "      <td>1</td>\n",
       "      <td>Head of Proposals</td>\n",
       "      <td>0</td>\n",
       "    </tr>\n",
       "    <tr>\n",
       "      <th>2</th>\n",
       "      <td>2</td>\n",
       "      <td>EURO Broadcast Venue Manager</td>\n",
       "      <td>0</td>\n",
       "    </tr>\n",
       "    <tr>\n",
       "      <th>3</th>\n",
       "      <td>3</td>\n",
       "      <td>(m/f) TEMP - Receptionist</td>\n",
       "      <td>2</td>\n",
       "    </tr>\n",
       "    <tr>\n",
       "      <th>4</th>\n",
       "      <td>4</td>\n",
       "      <td>Corporate Accountant  Tempo Mission  Sun system</td>\n",
       "      <td>2</td>\n",
       "    </tr>\n",
       "  </tbody>\n",
       "</table>\n",
       "</div>"
      ],
      "text/plain": [
       "   Unnamed: 0                                              title  green_title\n",
       "0           0                      Senior Search Partner Manager            0\n",
       "1           1                                  Head of Proposals            0\n",
       "2           2                       EURO Broadcast Venue Manager            0\n",
       "3           3                          (m/f) TEMP - Receptionist            2\n",
       "4           4  Corporate Accountant  Tempo Mission  Sun system            2"
      ]
     },
     "execution_count": 4,
     "metadata": {},
     "output_type": "execute_result"
    }
   ],
   "source": [
    "# Loading train data\n",
    "df_train = pd.read_csv(PATH + \"Title_Train_Label.csv\")\n",
    "# Making sure the green_content is not a string but an integer\n",
    "df_train['green_title'] = df_train['green_title'].astype(int).replace({-1: 2})\n",
    "df_train.head()"
   ]
  },
  {
   "cell_type": "code",
   "execution_count": 5,
   "metadata": {
    "colab": {
     "base_uri": "https://localhost:8080/",
     "height": 206
    },
    "id": "DsUQzYWFzRNw",
    "outputId": "8de3b7a2-bece-4f48-c3f6-43b842569aaf"
   },
   "outputs": [
    {
     "data": {
      "text/html": [
       "<div>\n",
       "<style scoped>\n",
       "    .dataframe tbody tr th:only-of-type {\n",
       "        vertical-align: middle;\n",
       "    }\n",
       "\n",
       "    .dataframe tbody tr th {\n",
       "        vertical-align: top;\n",
       "    }\n",
       "\n",
       "    .dataframe thead th {\n",
       "        text-align: right;\n",
       "    }\n",
       "</style>\n",
       "<table border=\"1\" class=\"dataframe\">\n",
       "  <thead>\n",
       "    <tr style=\"text-align: right;\">\n",
       "      <th></th>\n",
       "      <th>title</th>\n",
       "      <th>title_tokens</th>\n",
       "      <th>green_title</th>\n",
       "    </tr>\n",
       "  </thead>\n",
       "  <tbody>\n",
       "    <tr>\n",
       "      <th>0</th>\n",
       "      <td>Betriebsmitarbeiter/in</td>\n",
       "      <td>['betriebsmitarbeiter']</td>\n",
       "      <td>2</td>\n",
       "    </tr>\n",
       "    <tr>\n",
       "      <th>1</th>\n",
       "      <td>Infirmière Camp d'été</td>\n",
       "      <td>['infirmière', 'camp', \"d'été\"]</td>\n",
       "      <td>1</td>\n",
       "    </tr>\n",
       "    <tr>\n",
       "      <th>2</th>\n",
       "      <td>Customer Service Industrialisation Manager (m/w)</td>\n",
       "      <td>['customer', 'service', 'industrialisation', '...</td>\n",
       "      <td>0</td>\n",
       "    </tr>\n",
       "    <tr>\n",
       "      <th>3</th>\n",
       "      <td>HR-Manager with particular focus on change-man...</td>\n",
       "      <td>['manager', 'particular', 'focus', 'change', '...</td>\n",
       "      <td>2</td>\n",
       "    </tr>\n",
       "    <tr>\n",
       "      <th>4</th>\n",
       "      <td>Java Backend Developer - Business Rule Develop...</td>\n",
       "      <td>['java', 'backend', 'developer', 'business', '...</td>\n",
       "      <td>2</td>\n",
       "    </tr>\n",
       "  </tbody>\n",
       "</table>\n",
       "</div>"
      ],
      "text/plain": [
       "                                               title  \\\n",
       "0                             Betriebsmitarbeiter/in   \n",
       "1                              Infirmière Camp d'été   \n",
       "2   Customer Service Industrialisation Manager (m/w)   \n",
       "3  HR-Manager with particular focus on change-man...   \n",
       "4  Java Backend Developer - Business Rule Develop...   \n",
       "\n",
       "                                        title_tokens  green_title  \n",
       "0                            ['betriebsmitarbeiter']            2  \n",
       "1                    ['infirmière', 'camp', \"d'été\"]            1  \n",
       "2  ['customer', 'service', 'industrialisation', '...            0  \n",
       "3  ['manager', 'particular', 'focus', 'change', '...            2  \n",
       "4  ['java', 'backend', 'developer', 'business', '...            2  "
      ]
     },
     "execution_count": 5,
     "metadata": {},
     "output_type": "execute_result"
    }
   ],
   "source": [
    "# Loading validation data\n",
    "df_validate = pd.read_csv(PATH + \"Title_Validation_Label.csv\")\n",
    "# Making sure the green_content is not a string but an integer\n",
    "df_validate['green_title'] = df_validate['green_title'].astype(int).replace({-1: 2})\n",
    "df_validate.head()"
   ]
  },
  {
   "cell_type": "code",
   "execution_count": 6,
   "metadata": {
    "colab": {
     "base_uri": "https://localhost:8080/",
     "height": 310
    },
    "id": "M1jcYI1bjQjz",
    "outputId": "abd8f140-cfc4-4b3c-c6c3-69f04fd1f9dc"
   },
   "outputs": [
    {
     "data": {
      "text/html": [
       "<div>\n",
       "<style scoped>\n",
       "    .dataframe tbody tr th:only-of-type {\n",
       "        vertical-align: middle;\n",
       "    }\n",
       "\n",
       "    .dataframe tbody tr th {\n",
       "        vertical-align: top;\n",
       "    }\n",
       "\n",
       "    .dataframe thead th {\n",
       "        text-align: right;\n",
       "    }\n",
       "</style>\n",
       "<table border=\"1\" class=\"dataframe\">\n",
       "  <thead>\n",
       "    <tr style=\"text-align: right;\">\n",
       "      <th></th>\n",
       "      <th>title</th>\n",
       "      <th>content_no_custom_words</th>\n",
       "      <th>title_tokens</th>\n",
       "      <th>content_tokens</th>\n",
       "      <th>manual green</th>\n",
       "    </tr>\n",
       "  </thead>\n",
       "  <tbody>\n",
       "    <tr>\n",
       "      <th>0</th>\n",
       "      <td>Business Process Engineers / Software Entwickl...</td>\n",
       "      <td>business process engineers / software entwickl...</td>\n",
       "      <td>['business', 'process', 'engineer', 'software'...</td>\n",
       "      <td>['business', 'process', 'engineer', 'software'...</td>\n",
       "      <td>0</td>\n",
       "    </tr>\n",
       "    <tr>\n",
       "      <th>1</th>\n",
       "      <td>Kranführer/in mit SUVA Ausweis</td>\n",
       "      <td>kranführer/in mit suva ausweis   kranführer/in...</td>\n",
       "      <td>['kranführer', 'suva', 'ausweis']</td>\n",
       "      <td>['kranführer', 'suva', 'ausweis', 'kranführer'...</td>\n",
       "      <td>0</td>\n",
       "    </tr>\n",
       "    <tr>\n",
       "      <th>2</th>\n",
       "      <td>Sachbearbeiter/in Visa</td>\n",
       "      <td>sachbearbeiter/in visa   sachbearbeiter/in vis...</td>\n",
       "      <td>['sachbearbeiter', 'visa']</td>\n",
       "      <td>['sachbearbeiter', 'visa', 'sachbearbeiter', '...</td>\n",
       "      <td>0</td>\n",
       "    </tr>\n",
       "    <tr>\n",
       "      <th>3</th>\n",
       "      <td>Soft Commodity Trading Jr Operator</td>\n",
       "      <td>the junior operator will be in charge of: - ma...</td>\n",
       "      <td>['soft', 'commodity', 'trading', 'operator']</td>\n",
       "      <td>['junior', 'operator', 'charge', 'manage', 'bu...</td>\n",
       "      <td>0</td>\n",
       "    </tr>\n",
       "    <tr>\n",
       "      <th>4</th>\n",
       "      <td>Software Trainer</td>\n",
       "      <td>software trainer details job title software tr...</td>\n",
       "      <td>['software', 'trainer']</td>\n",
       "      <td>['software', 'trainer', 'detail', 'title', 'so...</td>\n",
       "      <td>0</td>\n",
       "    </tr>\n",
       "  </tbody>\n",
       "</table>\n",
       "</div>"
      ],
      "text/plain": [
       "                                               title  \\\n",
       "0  Business Process Engineers / Software Entwickl...   \n",
       "1                     Kranführer/in mit SUVA Ausweis   \n",
       "2                             Sachbearbeiter/in Visa   \n",
       "3                 Soft Commodity Trading Jr Operator   \n",
       "4                                   Software Trainer   \n",
       "\n",
       "                             content_no_custom_words  \\\n",
       "0  business process engineers / software entwickl...   \n",
       "1  kranführer/in mit suva ausweis   kranführer/in...   \n",
       "2  sachbearbeiter/in visa   sachbearbeiter/in vis...   \n",
       "3  the junior operator will be in charge of: - ma...   \n",
       "4  software trainer details job title software tr...   \n",
       "\n",
       "                                        title_tokens  \\\n",
       "0  ['business', 'process', 'engineer', 'software'...   \n",
       "1                  ['kranführer', 'suva', 'ausweis']   \n",
       "2                         ['sachbearbeiter', 'visa']   \n",
       "3       ['soft', 'commodity', 'trading', 'operator']   \n",
       "4                            ['software', 'trainer']   \n",
       "\n",
       "                                      content_tokens  manual green  \n",
       "0  ['business', 'process', 'engineer', 'software'...             0  \n",
       "1  ['kranführer', 'suva', 'ausweis', 'kranführer'...             0  \n",
       "2  ['sachbearbeiter', 'visa', 'sachbearbeiter', '...             0  \n",
       "3  ['junior', 'operator', 'charge', 'manage', 'bu...             0  \n",
       "4  ['software', 'trainer', 'detail', 'title', 'so...             0  "
      ]
     },
     "execution_count": 6,
     "metadata": {},
     "output_type": "execute_result"
    }
   ],
   "source": [
    "df_test = pd.read_csv(PATH + \"Test_Final.csv\")\n",
    "df_test.head()"
   ]
  },
  {
   "cell_type": "markdown",
   "metadata": {},
   "source": [
    "### Assembling all words to create a corpus"
   ]
  },
  {
   "cell_type": "code",
   "execution_count": 7,
   "metadata": {},
   "outputs": [],
   "source": [
    "# Transform dataset to list\n",
    "list_corpus_train      = df_train['title'].tolist()\n",
    "list_corpus_val        = df_validate['title'].tolist()\n",
    "list_corpus_test       = df_test['title'].tolist()\n",
    "\n",
    "# Adding all lists together\n",
    "corpus_total           = list_corpus_train + list_corpus_val + list_corpus_test\n",
    "\n",
    "# Define CountVectorizer\n",
    "vectorizer             = CountVectorizer()\n",
    "X_TrainValidateandTest = vectorizer.fit_transform(corpus_total)\n",
    "values                 = vectorizer.get_feature_names()"
   ]
  },
  {
   "cell_type": "markdown",
   "metadata": {},
   "source": [
    "### Split into train, validation and test"
   ]
  },
  {
   "cell_type": "code",
   "execution_count": 8,
   "metadata": {
    "id": "16PrSWJFbWyU"
   },
   "outputs": [],
   "source": [
    "# Train\n",
    "index_stop_train     = df_train.shape[0]\n",
    "X_train              = X_TrainValidateandTest[0:index_stop_train]\n",
    "\n",
    "# Validation\n",
    "index_start_validate = df_train.shape[0]\n",
    "index_stop_validate  = df_train.shape[0] + df_validate.shape[0]\n",
    "X_validate           = X_TrainValidateandTest[index_start_validate:index_stop_validate]\n",
    "\n",
    "# Test\n",
    "index_start_test     = df_train.shape[0] + df_validate.shape[0]\n",
    "index_stop_test      = X_TrainValidateandTest.shape[0]\n",
    "X_test               = X_TrainValidateandTest[index_start_test:index_stop_test]"
   ]
  },
  {
   "cell_type": "code",
   "execution_count": 9,
   "metadata": {
    "id": "eT16bPQ3ejx3"
   },
   "outputs": [],
   "source": [
    "# Prepare Y \n",
    "Y_train    = df_train['green_title'].astype(int)\n",
    "Y_validate = df_validate['green_title'].astype(int) \n",
    "Y_test     = df_test['manual green'].astype(int)"
   ]
  },
  {
   "cell_type": "code",
   "execution_count": 10,
   "metadata": {
    "colab": {
     "base_uri": "https://localhost:8080/"
    },
    "id": "Ibz2jZASTjaN",
    "outputId": "eb8b30cb-cb99-46fa-baf1-ec68f7e92da2"
   },
   "outputs": [
    {
     "name": "stdout",
     "output_type": "stream",
     "text": [
      "(16193, 7001) (16193,) (534, 7001) (534,) (300, 7001) (300,)\n"
     ]
    }
   ],
   "source": [
    "# Verifying the dimensions\n",
    "print(X_train.shape, Y_train.shape, X_validate.shape, Y_validate.shape, X_test.shape, Y_test.shape)"
   ]
  },
  {
   "cell_type": "markdown",
   "metadata": {
    "id": "ubSDj3U4_dzA"
   },
   "source": [
    "### Let's fit the regularized logistic regression. We will crossvalidate the regularization parameter on the training set."
   ]
  },
  {
   "cell_type": "code",
   "execution_count": 11,
   "metadata": {
    "colab": {
     "base_uri": "https://localhost:8080/"
    },
    "id": "P4Rx-vHd_djn",
    "outputId": "e3a8c2d9-3d2e-43f1-9792-c0395f2c6ea6"
   },
   "outputs": [],
   "source": [
    "# Create empty list to store scores\n",
    "accs = []\n",
    "\n",
    "# The grid of regularization parameter \n",
    "grid = np.linspace(0.005,10,100)\n",
    "\n",
    "for c in grid:\n",
    "    # Initialize the classifier\n",
    "    model = LogisticRegression(random_state=0, solver='lbfgs', C = c)\n",
    "    model.fit(X_train, Y_train)\n",
    "    scores = model.score(X_validate, Y_validate)\n",
    "    accs.append(np.mean(scores))"
   ]
  },
  {
   "cell_type": "markdown",
   "metadata": {},
   "source": [
    "#### Plot crossvalidation accuracy over regularization parameter"
   ]
  },
  {
   "cell_type": "code",
   "execution_count": 12,
   "metadata": {
    "colab": {
     "base_uri": "https://localhost:8080/",
     "height": 308
    },
    "id": "X5wu_p67_kM8",
    "outputId": "81371b40-f201-4ed2-e4fd-d5ac1f491122"
   },
   "outputs": [
    {
     "data": {
      "text/plain": [
       "Text(0, 0.5, 'Crossvalidation accuracy')"
      ]
     },
     "execution_count": 12,
     "metadata": {},
     "output_type": "execute_result"
    },
    {
     "data": {
      "image/png": "[encoded data removed]",
      "text/plain": [
       "<Figure size 432x288 with 1 Axes>"
      ]
     },
     "metadata": {
      "needs_background": "light"
     },
     "output_type": "display_data"
    }
   ],
   "source": [
    "plt.plot(accs)\n",
    "plt.xticks(range(len(grid)), grid)\n",
    "plt.xlabel('Regularization parameter \\n (Low - strong regularization, High - weak regularization)')\n",
    "plt.ylabel('Crossvalidation accuracy')"
   ]
  },
  {
   "cell_type": "markdown",
   "metadata": {},
   "source": [
    "### Printing the most common words caracterizing greenness"
   ]
  },
  {
   "cell_type": "code",
   "execution_count": 13,
   "metadata": {
    "colab": {
     "base_uri": "https://localhost:8080/"
    },
    "id": "rlzx_8-eBJkg",
    "outputId": "c3fcb286-617d-4dfc-ccd9-fe733cf7ccac"
   },
   "outputs": [
    {
     "name": "stdout",
     "output_type": "stream",
     "text": [
      "['metabolic' 'vorarbeiter' 'physicist' 'regional' 'bi' 'dpt' 'cns' '40'\n",
      " 'biologielaborant' 'actuar' 'metabolism' 'fachmitarbeiterin' 'imaging'\n",
      " 'bereich' 'formulation' 'betriebschemiker' 'trials' 'bio' 'newoem'\n",
      " 'congo']\n"
     ]
    }
   ],
   "source": [
    "coefs     = model.coef_[0]\n",
    "top_three = np.argpartition(coefs, -20)[-20:]\n",
    "\n",
    "print(np.array(vectorizer.get_feature_names())[top_three])"
   ]
  },
  {
   "cell_type": "markdown",
   "metadata": {},
   "source": [
    "### Printing the most common words caracterizing non-greenness"
   ]
  },
  {
   "cell_type": "code",
   "execution_count": 14,
   "metadata": {
    "colab": {
     "base_uri": "https://localhost:8080/"
    },
    "id": "6vRtNAI3gHai",
    "outputId": "99864254-5b35-4f3d-a8d5-325ca3d92991"
   },
   "outputs": [
    {
     "name": "stdout",
     "output_type": "stream",
     "text": [
      "['bank' 'broker' 'clerk' 'oil' 'investment' 'receptionist'\n",
      " 'administrative' 'financial' 'finance' 'auditor' 'commerce' 'secretary'\n",
      " 'actuary' 'marketing' 'einkauf' 'tax' 'software' 'accountant' 'insurance'\n",
      " 'credit']\n"
     ]
    }
   ],
   "source": [
    "coefs     = model.coef_[2]\n",
    "top_three = np.argpartition(coefs, -20)[-20:]\n",
    "\n",
    "print(np.array(vectorizer.get_feature_names())[top_three])"
   ]
  },
  {
   "cell_type": "markdown",
   "metadata": {
    "id": "a6Tldh-EA0mK"
   },
   "source": [
    "### Let's train again, on the entire training set, with the chosen regularization parameter. We will test on the test set"
   ]
  },
  {
   "cell_type": "code",
   "execution_count": 15,
   "metadata": {
    "id": "ynJR0w9CfkzS"
   },
   "outputs": [
    {
     "data": {
      "text/plain": [
       "array([2, 0, 0, 0, 2, 0, 0, 0, 0, 0, 0, 1, 0, 0, 0, 2, 0, 0, 0, 1, 0, 0,\n",
       "       0, 0, 0, 0, 0, 0, 0, 0, 0, 0, 0, 0, 0, 0, 2, 0, 0, 0, 0, 0, 0, 0,\n",
       "       0, 0, 2, 2, 0, 0, 2, 2, 0, 0, 0, 2, 0, 1, 2, 0, 0, 0, 0, 2, 0, 0,\n",
       "       0, 0, 0, 0, 0, 0, 0, 0, 0, 1, 1, 0, 0, 0, 0, 2, 2, 0, 0, 0, 0, 0,\n",
       "       0, 0, 0, 0, 0, 2, 0, 0, 0, 0, 0, 0, 0, 0, 0, 0, 0, 0, 2, 0, 0, 0,\n",
       "       0, 0, 0, 0, 0, 0, 0, 1, 0, 2, 0, 0, 0, 0, 2, 2, 0, 0, 2, 2, 0, 0,\n",
       "       0, 0, 2, 0, 0, 0, 0, 2, 0, 0, 2, 0, 0, 0, 0, 0, 2, 0, 0, 0, 0, 0,\n",
       "       0, 0, 0, 0, 0, 0, 0, 0, 0, 0, 0, 0, 2, 0, 1, 2, 0, 0, 0, 0, 0, 0,\n",
       "       0, 0, 0, 0, 1, 0, 0, 1, 0, 2, 2, 0, 0, 0, 0, 0, 0, 0, 0, 0, 0, 0,\n",
       "       0, 0, 0, 0, 0, 0, 0, 0, 2, 0, 2, 2, 0, 2, 0, 0, 0, 0, 1, 0, 1, 2,\n",
       "       0, 0, 0, 1, 2, 0, 0, 2, 0, 0, 0, 0, 0, 0, 2, 0, 0, 0, 0, 2, 0, 0,\n",
       "       0, 0, 0, 0, 0, 0, 0, 0, 0, 1, 0, 2, 0, 0, 0, 0, 0, 0, 0, 2, 2, 2,\n",
       "       0, 0, 0, 1, 0, 0, 0, 2, 0, 2, 0, 2, 0, 0, 0, 0, 0, 0, 0, 0, 0, 0,\n",
       "       2, 1, 0, 2, 0, 0, 2, 0, 0, 0, 0, 0, 0, 0])"
      ]
     },
     "execution_count": 15,
     "metadata": {},
     "output_type": "execute_result"
    }
   ],
   "source": [
    "# Predictions on test set\n",
    "y_pred = model.predict(X_test)\n",
    "y_pred"
   ]
  },
  {
   "cell_type": "code",
   "execution_count": 16,
   "metadata": {
    "id": "9jVqHk5Dfnbl"
   },
   "outputs": [
    {
     "data": {
      "text/html": [
       "<div>\n",
       "<style scoped>\n",
       "    .dataframe tbody tr th:only-of-type {\n",
       "        vertical-align: middle;\n",
       "    }\n",
       "\n",
       "    .dataframe tbody tr th {\n",
       "        vertical-align: top;\n",
       "    }\n",
       "\n",
       "    .dataframe thead th {\n",
       "        text-align: right;\n",
       "    }\n",
       "</style>\n",
       "<table border=\"1\" class=\"dataframe\">\n",
       "  <thead>\n",
       "    <tr style=\"text-align: right;\">\n",
       "      <th></th>\n",
       "      <th>title</th>\n",
       "      <th>content_no_custom_words</th>\n",
       "      <th>title_tokens</th>\n",
       "      <th>content_tokens</th>\n",
       "      <th>manual green</th>\n",
       "      <th>title_prediction</th>\n",
       "    </tr>\n",
       "  </thead>\n",
       "  <tbody>\n",
       "    <tr>\n",
       "      <th>0</th>\n",
       "      <td>Business Process Engineers / Software Entwickl...</td>\n",
       "      <td>business process engineers / software entwickl...</td>\n",
       "      <td>['business', 'process', 'engineer', 'software'...</td>\n",
       "      <td>['business', 'process', 'engineer', 'software'...</td>\n",
       "      <td>0</td>\n",
       "      <td>-1</td>\n",
       "    </tr>\n",
       "    <tr>\n",
       "      <th>1</th>\n",
       "      <td>Kranführer/in mit SUVA Ausweis</td>\n",
       "      <td>kranführer/in mit suva ausweis   kranführer/in...</td>\n",
       "      <td>['kranführer', 'suva', 'ausweis']</td>\n",
       "      <td>['kranführer', 'suva', 'ausweis', 'kranführer'...</td>\n",
       "      <td>0</td>\n",
       "      <td>0</td>\n",
       "    </tr>\n",
       "    <tr>\n",
       "      <th>2</th>\n",
       "      <td>Sachbearbeiter/in Visa</td>\n",
       "      <td>sachbearbeiter/in visa   sachbearbeiter/in vis...</td>\n",
       "      <td>['sachbearbeiter', 'visa']</td>\n",
       "      <td>['sachbearbeiter', 'visa', 'sachbearbeiter', '...</td>\n",
       "      <td>0</td>\n",
       "      <td>0</td>\n",
       "    </tr>\n",
       "    <tr>\n",
       "      <th>3</th>\n",
       "      <td>Soft Commodity Trading Jr Operator</td>\n",
       "      <td>the junior operator will be in charge of: - ma...</td>\n",
       "      <td>['soft', 'commodity', 'trading', 'operator']</td>\n",
       "      <td>['junior', 'operator', 'charge', 'manage', 'bu...</td>\n",
       "      <td>0</td>\n",
       "      <td>0</td>\n",
       "    </tr>\n",
       "    <tr>\n",
       "      <th>4</th>\n",
       "      <td>Software Trainer</td>\n",
       "      <td>software trainer details job title software tr...</td>\n",
       "      <td>['software', 'trainer']</td>\n",
       "      <td>['software', 'trainer', 'detail', 'title', 'so...</td>\n",
       "      <td>0</td>\n",
       "      <td>-1</td>\n",
       "    </tr>\n",
       "  </tbody>\n",
       "</table>\n",
       "</div>"
      ],
      "text/plain": [
       "                                               title  \\\n",
       "0  Business Process Engineers / Software Entwickl...   \n",
       "1                     Kranführer/in mit SUVA Ausweis   \n",
       "2                             Sachbearbeiter/in Visa   \n",
       "3                 Soft Commodity Trading Jr Operator   \n",
       "4                                   Software Trainer   \n",
       "\n",
       "                             content_no_custom_words  \\\n",
       "0  business process engineers / software entwickl...   \n",
       "1  kranführer/in mit suva ausweis   kranführer/in...   \n",
       "2  sachbearbeiter/in visa   sachbearbeiter/in vis...   \n",
       "3  the junior operator will be in charge of: - ma...   \n",
       "4  software trainer details job title software tr...   \n",
       "\n",
       "                                        title_tokens  \\\n",
       "0  ['business', 'process', 'engineer', 'software'...   \n",
       "1                  ['kranführer', 'suva', 'ausweis']   \n",
       "2                         ['sachbearbeiter', 'visa']   \n",
       "3       ['soft', 'commodity', 'trading', 'operator']   \n",
       "4                            ['software', 'trainer']   \n",
       "\n",
       "                                      content_tokens  manual green  \\\n",
       "0  ['business', 'process', 'engineer', 'software'...             0   \n",
       "1  ['kranführer', 'suva', 'ausweis', 'kranführer'...             0   \n",
       "2  ['sachbearbeiter', 'visa', 'sachbearbeiter', '...             0   \n",
       "3  ['junior', 'operator', 'charge', 'manage', 'bu...             0   \n",
       "4  ['software', 'trainer', 'detail', 'title', 'so...             0   \n",
       "\n",
       "   title_prediction  \n",
       "0                -1  \n",
       "1                 0  \n",
       "2                 0  \n",
       "3                 0  \n",
       "4                -1  "
      ]
     },
     "execution_count": 16,
     "metadata": {},
     "output_type": "execute_result"
    }
   ],
   "source": [
    "df_test['title_prediction'] = y_pred\n",
    "df_test['title_prediction'] = df_test['title_prediction'].replace({2:-1})\n",
    "df_test.to_csv(PATH + 'Title_Prediction_VectRLR.csv', index=False)\n",
    "df_test.head()"
   ]
  },
  {
   "cell_type": "markdown",
   "metadata": {},
   "source": [
    "### Plot confusion matrix"
   ]
  },
  {
   "cell_type": "code",
   "execution_count": 17,
   "metadata": {},
   "outputs": [
    {
     "data": {
      "text/plain": [
       "<sklearn.metrics._plot.confusion_matrix.ConfusionMatrixDisplay at 0x7fd6da391af0>"
      ]
     },
     "execution_count": 17,
     "metadata": {},
     "output_type": "execute_result"
    },
    {
     "data": {
      "image/png": "[encoded data removed]",
      "text/plain": [
       "<Figure size 432x288 with 2 Axes>"
      ]
     },
     "metadata": {
      "needs_background": "light"
     },
     "output_type": "display_data"
    }
   ],
   "source": [
    "from sklearn.metrics import confusion_matrix, ConfusionMatrixDisplay\n",
    "# Predicting on validation set\n",
    "val_preds = model.predict(X_validate)\n",
    "\n",
    "# Changing labels back from 2 to -1\n",
    "val_preds = np.where(val_preds == 2, -1, val_preds)\n",
    "Y_validate = np.where(Y_validate == 2, -1, Y_validate)\n",
    "\n",
    "# Confusion matrix\n",
    "disp = ConfusionMatrixDisplay(confusion_matrix=confusion_matrix(Y_validate, val_preds), display_labels=np.unique(val_preds))\n",
    "disp.plot()"
   ]
  },
  {
   "cell_type": "markdown",
   "metadata": {},
   "source": [
    "# Alternative by fixing the class distribution"
   ]
  },
  {
   "cell_type": "code",
   "execution_count": 18,
   "metadata": {},
   "outputs": [],
   "source": [
    "# Percent distribution of green jobs wanted\n",
    "wanted_green_distribution = 5\n",
    "wanted_not_green_distribution = 10\n",
    "\n",
    "y_pred = model.predict_proba(X_test)\n",
    "df_test.loc[:, 'title_prediction'] = 0\n",
    "df_test.loc[y_pred[:,1] > np.quantile(y_pred[:,1], 1-wanted_green_distribution/100), 'title_prediction'] = 1\n",
    "df_test.loc[y_pred[:,2] > np.quantile(y_pred[:,2], 1-wanted_not_green_distribution/100), 'title_prediction'] = -1"
   ]
  },
  {
   "cell_type": "code",
   "execution_count": 19,
   "metadata": {},
   "outputs": [],
   "source": [
    "df_test.to_csv(PATH + 'Title_Prediction_VectRLR_fixed.csv', index=False)"
   ]
  },
  {
   "cell_type": "code",
   "execution_count": 20,
   "metadata": {},
   "outputs": [
    {
     "data": {
      "text/plain": [
       "array([ 0,  0,  0,  0,  0, -1,  0,  0,  0,  0,  0,  0,  0,  0,  0,  0,  1,\n",
       "        0,  0,  0,  0,  0,  0,  0,  0, -1,  0,  1,  0,  0,  0,  0,  0,  0,\n",
       "        0,  0,  0,  0,  0,  0,  0,  0, -1,  0,  0,  0,  0,  0,  0, -1, -1,\n",
       "        0,  0,  0,  0,  0,  0,  0,  0,  0,  0,  0,  0,  0,  0,  0,  0,  0,\n",
       "        0,  0,  1,  0,  0,  0,  0,  0,  0,  0,  0,  0,  0,  0,  0,  0,  0,\n",
       "        0,  0, -1,  0,  0,  0,  0,  0, -1,  0, -1,  0,  0, -1,  0,  0,  0,\n",
       "        0,  0,  0, -1, -1,  0,  0,  0,  0,  0,  0,  0, -1, -1,  0,  0,  0,\n",
       "        0,  0,  0,  0,  0,  0,  0, -1,  0,  0, -1,  0,  0,  0,  0,  0,  0,\n",
       "        0, -1,  0, -1,  0,  0,  0,  0,  0,  0,  0, -1, -1,  0,  0,  0,  1,\n",
       "        0, -1,  0,  0, -1, -1, -1,  0, -1,  0,  0,  0,  0, -1, -1,  0,  1,\n",
       "       -1, -1,  0,  0,  0,  0,  1,  0,  0,  0,  0,  0,  0,  0, -1,  0,  0,\n",
       "        0,  1,  0,  0, -1,  0,  0,  0, -1,  0,  0,  0,  0,  0,  0, -1,  0,\n",
       "        0, -1,  0, -1,  0,  0,  0, -1,  0,  0,  0,  0, -1,  0,  0,  0, -1,\n",
       "        0, -1,  0,  0,  0,  0,  0,  0, -1, -1,  0,  0,  0, -1,  0,  0,  0,\n",
       "        0,  0,  0, -1,  1,  0,  0,  0,  0,  0,  0,  0,  0,  0,  0,  1,  0,\n",
       "        0,  0,  0,  0,  0,  0, -1,  0,  0,  0,  0,  0,  0, -1,  0,  0,  0,\n",
       "        0,  0, -1,  0,  0,  0,  0,  0,  0,  0,  0,  0,  0,  0, -1,  0,  0,\n",
       "       -1,  0,  0, -1, -1,  0,  0,  0, -1,  0,  0,  0,  1, -1,  0,  0,  0,\n",
       "        0,  0,  0,  0,  0,  0, -1,  0, -1,  0,  0, -1,  0,  0,  0, -1,  0,\n",
       "        0,  0,  0,  0,  0,  0,  0,  0,  0,  0, -1,  0,  0, -1,  0,  0,  0,\n",
       "        0,  1,  0,  1,  0,  0,  0,  1,  0,  0,  1,  0,  0,  0,  0,  0,  0,\n",
       "        0,  0,  0,  1,  0,  0,  0,  0,  0,  0,  0,  0,  0, -1, -1,  0,  0,\n",
       "        0,  0,  0,  0,  0, -1,  0,  0,  0,  0,  0,  0,  0,  0,  0,  0,  0,\n",
       "        0,  0,  1,  0,  0,  0,  0,  0,  0,  0,  0,  0,  0,  0,  0,  0,  0,\n",
       "        1,  0,  0,  0,  0,  0,  0,  0,  0,  0, -1, -1, -1,  0, -1, -1,  0,\n",
       "        0,  0,  0,  0, -1,  0,  0,  0,  0, -1,  0,  0,  0,  0,  0,  0, -1,\n",
       "        0,  0,  0,  0, -1,  0, -1,  0,  0,  0,  0,  0,  0,  0,  0,  0, -1,\n",
       "        0,  0,  0,  0,  0,  0,  0,  0, -1,  0,  0,  0,  0,  0,  0,  0,  0,\n",
       "        0,  0,  0,  0,  0,  0,  0,  0, -1,  0,  0, -1,  0,  0,  0,  0,  0,\n",
       "        0,  0,  0,  0,  0,  0, -1,  0, -1,  0, -1, -1,  0, -1,  0,  0,  0,\n",
       "       -1,  0,  0,  0,  0,  0,  0,  0,  0,  0, -1, -1,  0,  0,  0,  1, -1,\n",
       "        0, -1,  0, -1,  0, -1,  0])"
      ]
     },
     "execution_count": 20,
     "metadata": {},
     "output_type": "execute_result"
    }
   ],
   "source": [
    "val_preds"
   ]
  },
  {
   "cell_type": "code",
   "execution_count": 21,
   "metadata": {},
   "outputs": [
    {
     "data": {
      "text/plain": [
       "array([-1,  1,  0, -1, -1,  0, -1,  0,  0,  0,  1,  0,  0,  0,  0, -1,  1,\n",
       "        0,  1,  0,  0,  0,  0,  0,  0,  0,  0,  0,  0,  0,  1,  0,  1,  0,\n",
       "        0,  0,  0,  1,  0, -1,  0,  0,  0,  0,  0,  0,  0,  0,  0,  0,  0,\n",
       "        0,  0,  0,  0,  0,  0,  0,  0, -1, -1,  0,  0,  0,  0,  0,  0,  0,\n",
       "       -1,  0,  1,  0,  0,  1,  1,  0,  0,  0,  0,  0,  0,  0,  1,  0,  0,\n",
       "        0,  0,  0,  0,  0,  0,  0,  0,  0,  0, -1,  0,  0, -1,  0, -1, -1,\n",
       "       -1,  0,  0, -1,  0,  0,  0,  0,  0,  0,  0,  0,  0,  0,  0,  0,  0,\n",
       "        0,  0, -1,  0,  0, -1,  0,  0,  0,  0,  0,  0,  0, -1,  0,  0,  0,\n",
       "        0,  0,  0, -1,  0,  0,  1,  1,  0,  0,  0,  0,  0,  0,  0,  0,  1,\n",
       "        0,  0,  0,  0,  0, -1,  0,  0, -1, -1,  0,  0,  0,  0,  0, -1,  1,\n",
       "       -1,  0,  0,  0,  0,  0,  0,  0,  0,  0,  0,  0,  0,  0,  0,  0,  0,\n",
       "        0,  1,  0,  0,  0,  1,  0,  0,  0,  0,  0,  0,  0,  0,  0,  0,  0,\n",
       "        0,  0,  0,  0,  1,  0,  0,  0,  0,  0,  0,  1,  0, -1,  0, -1, -1,\n",
       "        0, -1, -1,  0,  0,  0,  0,  0,  0,  0,  0,  0,  0,  0,  0,  0,  0,\n",
       "        0,  0,  0,  0,  1,  0,  0,  0,  0,  0,  0, -1,  0,  0,  0,  1,  0,\n",
       "        0,  0,  0,  0,  0,  0,  0,  0,  0,  0,  0, -1,  0, -1, -1, -1,  0,\n",
       "        0,  0,  0,  0,  0,  0,  0,  0, -1,  0,  0,  0,  0,  0,  0,  0,  0,\n",
       "        0,  0,  0,  0, -1,  0,  0,  0, -1,  0,  0,  0,  1,  0,  0,  0,  0,\n",
       "        0,  0,  0, -1, -1,  0,  0,  0, -1,  0,  0, -1,  0,  0,  0, -1,  0,\n",
       "        0,  0,  0,  0,  0,  0,  0, -1,  0,  0, -1,  0,  0, -1,  0, -1,  0,\n",
       "        0,  0, -1,  1,  0,  0,  0,  1,  0,  0,  1,  0,  0,  0,  0,  0,  0,\n",
       "       -1,  0,  0,  1,  0,  0,  0,  0,  0,  0,  0,  0,  0, -1,  0,  0,  0,\n",
       "       -1,  0,  0,  0,  0,  0,  0, -1, -1, -1,  0,  0,  0,  0,  0,  0,  1,\n",
       "        0,  0,  1,  0,  0,  0,  0,  0,  0, -1,  0,  0,  0, -1, -1,  0,  0,\n",
       "        1,  0,  0,  0,  0,  0,  0, -1,  0,  0,  0, -1, -1,  0,  0,  0,  0,\n",
       "       -1,  0,  0,  0, -1,  0,  0,  0,  0, -1,  0, -1,  0,  0,  0,  0,  0,\n",
       "        0,  0,  0, -1, -1,  0, -1,  0,  0,  0,  0,  0,  0,  0,  0,  0, -1,\n",
       "        0,  0,  0,  0,  0,  0,  0,  0,  0,  0,  0,  0, -1, -1, -1,  0,  0,\n",
       "       -1,  0, -1,  0,  0,  0,  0,  0,  0, -1, -1, -1, -1,  0,  0,  0,  0,\n",
       "        0, -1, -1, -1,  0, -1, -1,  0,  0,  0, -1, -1,  0, -1,  0,  0,  0,\n",
       "        0, -1,  0,  0,  0,  1,  0,  0,  0,  0, -1,  0,  0, -1, -1,  1, -1,\n",
       "        0, -1,  0,  0, -1, -1,  0])"
      ]
     },
     "execution_count": 21,
     "metadata": {},
     "output_type": "execute_result"
    }
   ],
   "source": [
    "Y_validate"
   ]
  },
  {
   "cell_type": "code",
   "execution_count": null,
   "metadata": {},
   "outputs": [],
   "source": []
  }
 ],
 "metadata": {
  "accelerator": "GPU",
  "colab": {
   "collapsed_sections": [],
   "name": "Vectorizer+RLR_title.ipynb",
   "provenance": []
  },
  "kernelspec": {
   "display_name": "Python 3 (ipykernel)",
   "language": "python",
   "name": "python3"
  },
  "language_info": {
   "codemirror_mode": {
    "name": "ipython",
    "version": 3
   },
   "file_extension": ".py",
   "mimetype": "text/x-python",
   "name": "python",
   "nbconvert_exporter": "python",
   "pygments_lexer": "ipython3",
   "version": "3.8.8"
  }
 },
 "nbformat": 4,
 "nbformat_minor": 1
}
