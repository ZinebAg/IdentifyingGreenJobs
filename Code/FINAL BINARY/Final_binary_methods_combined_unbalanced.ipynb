{
 "cells": [
  {
   "cell_type": "code",
   "execution_count": 1,
   "id": "-xfNslmg4aqu",
   "metadata": {
    "colab": {
     "base_uri": "https://localhost:8080/"
    },
    "executionInfo": {
     "elapsed": 19292,
     "status": "ok",
     "timestamp": 1639558500712,
     "user": {
      "displayName": "Zineb A",
      "photoUrl": "https://lh3.googleusercontent.com/a/default-user=s64",
      "userId": "11350239444074573694"
     },
     "user_tz": -60
    },
    "id": "-xfNslmg4aqu",
    "outputId": "736e3cc7-354a-435d-e76a-70c06eb7953f"
   },
   "outputs": [],
   "source": [
    "# mounting the google drive to get the needed data, need to either store \n",
    "#the data in drive to work with it or work locally (not on collab) ditch this line and work with local files\n",
    "#from google.colab import drive\n",
    "#drive.mount('/content/drive/')"
   ]
  },
  {
   "cell_type": "code",
   "execution_count": 2,
   "id": "71c3d07e",
   "metadata": {
    "executionInfo": {
     "elapsed": 785,
     "status": "ok",
     "timestamp": 1639558514580,
     "user": {
      "displayName": "Zineb A",
      "photoUrl": "https://lh3.googleusercontent.com/a/default-user=s64",
      "userId": "11350239444074573694"
     },
     "user_tz": -60
    },
    "id": "71c3d07e"
   },
   "outputs": [],
   "source": [
    "import pandas as pd\n",
    "import numpy as np\n",
    "from sklearn.metrics import classification_report, confusion_matrix, ConfusionMatrixDisplay"
   ]
  },
  {
   "cell_type": "markdown",
   "id": "u_S8CDnwCC7e",
   "metadata": {
    "id": "u_S8CDnwCC7e"
   },
   "source": [
    "Loading all the predictions done in the previous steps:"
   ]
  },
  {
   "cell_type": "code",
   "execution_count": 3,
   "id": "e96ef02e",
   "metadata": {},
   "outputs": [],
   "source": [
    "# May have to change the path for your local path\n",
    "#PATH = '/content/drive/MyDrive/ML4Science/FINAL/FinalDatasets/Predictions/'\n",
    "PATH = ''"
   ]
  },
  {
   "cell_type": "code",
   "execution_count": 4,
   "id": "9d27f139",
   "metadata": {},
   "outputs": [
    {
     "data": {
      "text/html": [
       "<div>\n",
       "<style scoped>\n",
       "    .dataframe tbody tr th:only-of-type {\n",
       "        vertical-align: middle;\n",
       "    }\n",
       "\n",
       "    .dataframe tbody tr th {\n",
       "        vertical-align: top;\n",
       "    }\n",
       "\n",
       "    .dataframe thead th {\n",
       "        text-align: right;\n",
       "    }\n",
       "</style>\n",
       "<table border=\"1\" class=\"dataframe\">\n",
       "  <thead>\n",
       "    <tr style=\"text-align: right;\">\n",
       "      <th></th>\n",
       "      <th>title</th>\n",
       "      <th>content_no_custom_words</th>\n",
       "      <th>title_tokens</th>\n",
       "      <th>content_tokens</th>\n",
       "      <th>manual green</th>\n",
       "      <th>title_prediction</th>\n",
       "    </tr>\n",
       "  </thead>\n",
       "  <tbody>\n",
       "    <tr>\n",
       "      <th>0</th>\n",
       "      <td>Business Process Engineers / Software Entwickl...</td>\n",
       "      <td>business process engineers / software entwickl...</td>\n",
       "      <td>['business', 'process', 'engineer', 'software'...</td>\n",
       "      <td>['business', 'process', 'engineer', 'software'...</td>\n",
       "      <td>0</td>\n",
       "      <td>-1</td>\n",
       "    </tr>\n",
       "    <tr>\n",
       "      <th>1</th>\n",
       "      <td>Kranführer/in mit SUVA Ausweis</td>\n",
       "      <td>kranführer/in mit suva ausweis   kranführer/in...</td>\n",
       "      <td>['kranführer', 'suva', 'ausweis']</td>\n",
       "      <td>['kranführer', 'suva', 'ausweis', 'kranführer'...</td>\n",
       "      <td>0</td>\n",
       "      <td>0</td>\n",
       "    </tr>\n",
       "  </tbody>\n",
       "</table>\n",
       "</div>"
      ],
      "text/plain": [
       "                                               title  \\\n",
       "0  Business Process Engineers / Software Entwickl...   \n",
       "1                     Kranführer/in mit SUVA Ausweis   \n",
       "\n",
       "                             content_no_custom_words  \\\n",
       "0  business process engineers / software entwickl...   \n",
       "1  kranführer/in mit suva ausweis   kranführer/in...   \n",
       "\n",
       "                                        title_tokens  \\\n",
       "0  ['business', 'process', 'engineer', 'software'...   \n",
       "1                  ['kranführer', 'suva', 'ausweis']   \n",
       "\n",
       "                                      content_tokens  manual green  \\\n",
       "0  ['business', 'process', 'engineer', 'software'...             0   \n",
       "1  ['kranführer', 'suva', 'ausweis', 'kranführer'...             0   \n",
       "\n",
       "   title_prediction  \n",
       "0                -1  \n",
       "1                 0  "
      ]
     },
     "execution_count": 4,
     "metadata": {},
     "output_type": "execute_result"
    }
   ],
   "source": [
    "Title_pred_RLR = pd.read_csv(PATH + 'Title_Prediction_VectRLR.csv')\n",
    "Title_pred_RLR.head(2)"
   ]
  },
  {
   "cell_type": "code",
   "execution_count": 5,
   "id": "ec0a7424",
   "metadata": {
    "colab": {
     "base_uri": "https://localhost:8080/",
     "height": 276
    },
    "executionInfo": {
     "elapsed": 1656,
     "status": "ok",
     "timestamp": 1639558517343,
     "user": {
      "displayName": "Zineb A",
      "photoUrl": "https://lh3.googleusercontent.com/a/default-user=s64",
      "userId": "11350239444074573694"
     },
     "user_tz": -60
    },
    "id": "ec0a7424",
    "outputId": "e2517ef9-3647-48ab-c488-6916eb5738c0"
   },
   "outputs": [
    {
     "data": {
      "text/html": [
       "<div>\n",
       "<style scoped>\n",
       "    .dataframe tbody tr th:only-of-type {\n",
       "        vertical-align: middle;\n",
       "    }\n",
       "\n",
       "    .dataframe tbody tr th {\n",
       "        vertical-align: top;\n",
       "    }\n",
       "\n",
       "    .dataframe thead th {\n",
       "        text-align: right;\n",
       "    }\n",
       "</style>\n",
       "<table border=\"1\" class=\"dataframe\">\n",
       "  <thead>\n",
       "    <tr style=\"text-align: right;\">\n",
       "      <th></th>\n",
       "      <th>title</th>\n",
       "      <th>content_no_custom_words</th>\n",
       "      <th>title_tokens</th>\n",
       "      <th>content_tokens</th>\n",
       "      <th>manual green</th>\n",
       "      <th>title_prediction</th>\n",
       "    </tr>\n",
       "  </thead>\n",
       "  <tbody>\n",
       "    <tr>\n",
       "      <th>0</th>\n",
       "      <td>Business Process Engineers / Software Entwickl...</td>\n",
       "      <td>business process engineers / software entwickl...</td>\n",
       "      <td>['business', 'process', 'engineer', 'software'...</td>\n",
       "      <td>['business', 'process', 'engineer', 'software'...</td>\n",
       "      <td>0</td>\n",
       "      <td>0</td>\n",
       "    </tr>\n",
       "    <tr>\n",
       "      <th>1</th>\n",
       "      <td>Kranführer/in mit SUVA Ausweis</td>\n",
       "      <td>kranführer/in mit suva ausweis   kranführer/in...</td>\n",
       "      <td>['kranführer', 'suva', 'ausweis']</td>\n",
       "      <td>['kranführer', 'suva', 'ausweis', 'kranführer'...</td>\n",
       "      <td>0</td>\n",
       "      <td>0</td>\n",
       "    </tr>\n",
       "  </tbody>\n",
       "</table>\n",
       "</div>"
      ],
      "text/plain": [
       "                                               title  \\\n",
       "0  Business Process Engineers / Software Entwickl...   \n",
       "1                     Kranführer/in mit SUVA Ausweis   \n",
       "\n",
       "                             content_no_custom_words  \\\n",
       "0  business process engineers / software entwickl...   \n",
       "1  kranführer/in mit suva ausweis   kranführer/in...   \n",
       "\n",
       "                                        title_tokens  \\\n",
       "0  ['business', 'process', 'engineer', 'software'...   \n",
       "1                  ['kranführer', 'suva', 'ausweis']   \n",
       "\n",
       "                                      content_tokens  manual green  \\\n",
       "0  ['business', 'process', 'engineer', 'software'...             0   \n",
       "1  ['kranführer', 'suva', 'ausweis', 'kranführer'...             0   \n",
       "\n",
       "   title_prediction  \n",
       "0                 0  \n",
       "1                 0  "
      ]
     },
     "execution_count": 5,
     "metadata": {},
     "output_type": "execute_result"
    }
   ],
   "source": [
    "Title_pred_RLR_fixed = pd.read_csv(PATH + 'Title_Prediction_VectRLR_fixed.csv')\n",
    "Title_pred_RLR_fixed.head(2)"
   ]
  },
  {
   "cell_type": "code",
   "execution_count": 6,
   "id": "5BqmRkj75Wid",
   "metadata": {
    "colab": {
     "base_uri": "https://localhost:8080/",
     "height": 310
    },
    "executionInfo": {
     "elapsed": 63,
     "status": "ok",
     "timestamp": 1639558517346,
     "user": {
      "displayName": "Zineb A",
      "photoUrl": "https://lh3.googleusercontent.com/a/default-user=s64",
      "userId": "11350239444074573694"
     },
     "user_tz": -60
    },
    "id": "5BqmRkj75Wid",
    "outputId": "87bc060e-6177-4991-ab65-367bb5b0828a"
   },
   "outputs": [
    {
     "data": {
      "text/html": [
       "<div>\n",
       "<style scoped>\n",
       "    .dataframe tbody tr th:only-of-type {\n",
       "        vertical-align: middle;\n",
       "    }\n",
       "\n",
       "    .dataframe tbody tr th {\n",
       "        vertical-align: top;\n",
       "    }\n",
       "\n",
       "    .dataframe thead th {\n",
       "        text-align: right;\n",
       "    }\n",
       "</style>\n",
       "<table border=\"1\" class=\"dataframe\">\n",
       "  <thead>\n",
       "    <tr style=\"text-align: right;\">\n",
       "      <th></th>\n",
       "      <th>title</th>\n",
       "      <th>content_no_custom_words</th>\n",
       "      <th>title_tokens</th>\n",
       "      <th>content_tokens</th>\n",
       "      <th>manual green</th>\n",
       "      <th>sentence</th>\n",
       "      <th>title_prediction</th>\n",
       "    </tr>\n",
       "  </thead>\n",
       "  <tbody>\n",
       "    <tr>\n",
       "      <th>0</th>\n",
       "      <td>Business Process Engineers / Software Entwickl...</td>\n",
       "      <td>business process engineers / software entwickl...</td>\n",
       "      <td>['business', 'process', 'engineer', 'software'...</td>\n",
       "      <td>['business', 'process', 'engineer', 'software'...</td>\n",
       "      <td>0</td>\n",
       "      <td>Business Process Engineers / Software Entwickl...</td>\n",
       "      <td>0.0</td>\n",
       "    </tr>\n",
       "    <tr>\n",
       "      <th>1</th>\n",
       "      <td>Kranführer/in mit SUVA Ausweis</td>\n",
       "      <td>kranführer/in mit suva ausweis   kranführer/in...</td>\n",
       "      <td>['kranführer', 'suva', 'ausweis']</td>\n",
       "      <td>['kranführer', 'suva', 'ausweis', 'kranführer'...</td>\n",
       "      <td>0</td>\n",
       "      <td>Kranführer/in mit SUVA Ausweis</td>\n",
       "      <td>0.0</td>\n",
       "    </tr>\n",
       "  </tbody>\n",
       "</table>\n",
       "</div>"
      ],
      "text/plain": [
       "                                               title  \\\n",
       "0  Business Process Engineers / Software Entwickl...   \n",
       "1                     Kranführer/in mit SUVA Ausweis   \n",
       "\n",
       "                             content_no_custom_words  \\\n",
       "0  business process engineers / software entwickl...   \n",
       "1  kranführer/in mit suva ausweis   kranführer/in...   \n",
       "\n",
       "                                        title_tokens  \\\n",
       "0  ['business', 'process', 'engineer', 'software'...   \n",
       "1                  ['kranführer', 'suva', 'ausweis']   \n",
       "\n",
       "                                      content_tokens  manual green  \\\n",
       "0  ['business', 'process', 'engineer', 'software'...             0   \n",
       "1  ['kranführer', 'suva', 'ausweis', 'kranführer'...             0   \n",
       "\n",
       "                                            sentence  title_prediction  \n",
       "0  Business Process Engineers / Software Entwickl...               0.0  \n",
       "1                     Kranführer/in mit SUVA Ausweis               0.0  "
      ]
     },
     "execution_count": 6,
     "metadata": {},
     "output_type": "execute_result"
    }
   ],
   "source": [
    "Title_pred_CNN = pd.read_csv(PATH + 'Title_Prediction_VectCNN.csv')\n",
    "Title_pred_CNN.head(2)"
   ]
  },
  {
   "cell_type": "code",
   "execution_count": 7,
   "id": "ON3zLTed5W2B",
   "metadata": {
    "colab": {
     "base_uri": "https://localhost:8080/",
     "height": 206
    },
    "executionInfo": {
     "elapsed": 576,
     "status": "ok",
     "timestamp": 1639558518319,
     "user": {
      "displayName": "Zineb A",
      "photoUrl": "https://lh3.googleusercontent.com/a/default-user=s64",
      "userId": "11350239444074573694"
     },
     "user_tz": -60
    },
    "id": "ON3zLTed5W2B",
    "outputId": "3c5903d8-c8f9-4e9b-a0e9-c213b85fe00b",
    "scrolled": true
   },
   "outputs": [
    {
     "data": {
      "text/html": [
       "<div>\n",
       "<style scoped>\n",
       "    .dataframe tbody tr th:only-of-type {\n",
       "        vertical-align: middle;\n",
       "    }\n",
       "\n",
       "    .dataframe tbody tr th {\n",
       "        vertical-align: top;\n",
       "    }\n",
       "\n",
       "    .dataframe thead th {\n",
       "        text-align: right;\n",
       "    }\n",
       "</style>\n",
       "<table border=\"1\" class=\"dataframe\">\n",
       "  <thead>\n",
       "    <tr style=\"text-align: right;\">\n",
       "      <th></th>\n",
       "      <th>title</th>\n",
       "      <th>manual green</th>\n",
       "      <th>title_prediction</th>\n",
       "    </tr>\n",
       "  </thead>\n",
       "  <tbody>\n",
       "    <tr>\n",
       "      <th>0</th>\n",
       "      <td>Business Process Engineers / Software Entwickl...</td>\n",
       "      <td>0</td>\n",
       "      <td>-1</td>\n",
       "    </tr>\n",
       "    <tr>\n",
       "      <th>1</th>\n",
       "      <td>Kranführer/in mit SUVA Ausweis</td>\n",
       "      <td>0</td>\n",
       "      <td>0</td>\n",
       "    </tr>\n",
       "  </tbody>\n",
       "</table>\n",
       "</div>"
      ],
      "text/plain": [
       "                                               title  manual green  \\\n",
       "0  Business Process Engineers / Software Entwickl...             0   \n",
       "1                     Kranführer/in mit SUVA Ausweis             0   \n",
       "\n",
       "   title_prediction  \n",
       "0                -1  \n",
       "1                 0  "
      ]
     },
     "execution_count": 7,
     "metadata": {},
     "output_type": "execute_result"
    }
   ],
   "source": [
    "Title_pred_BERT = pd.read_csv(PATH + 'Title_Prediction_BERT.csv')\n",
    "Title_pred_BERT = Title_pred_BERT.rename(columns={\"green_title\": \"title_prediction\"})\n",
    "Title_pred_BERT.head(2)"
   ]
  },
  {
   "cell_type": "code",
   "execution_count": 8,
   "id": "7986a3e5",
   "metadata": {
    "colab": {
     "base_uri": "https://localhost:8080/",
     "height": 293
    },
    "executionInfo": {
     "elapsed": 671,
     "status": "ok",
     "timestamp": 1639558519469,
     "user": {
      "displayName": "Zineb A",
      "photoUrl": "https://lh3.googleusercontent.com/a/default-user=s64",
      "userId": "11350239444074573694"
     },
     "user_tz": -60
    },
    "id": "Ir8cei715W97",
    "outputId": "5d011d63-b849-41a3-e5c6-af1720092cc4"
   },
   "outputs": [
    {
     "data": {
      "text/html": [
       "<div>\n",
       "<style scoped>\n",
       "    .dataframe tbody tr th:only-of-type {\n",
       "        vertical-align: middle;\n",
       "    }\n",
       "\n",
       "    .dataframe tbody tr th {\n",
       "        vertical-align: top;\n",
       "    }\n",
       "\n",
       "    .dataframe thead th {\n",
       "        text-align: right;\n",
       "    }\n",
       "</style>\n",
       "<table border=\"1\" class=\"dataframe\">\n",
       "  <thead>\n",
       "    <tr style=\"text-align: right;\">\n",
       "      <th></th>\n",
       "      <th>title</th>\n",
       "      <th>content_no_custom_words</th>\n",
       "      <th>title_tokens</th>\n",
       "      <th>content_tokens</th>\n",
       "      <th>manual green</th>\n",
       "      <th>content_prediction</th>\n",
       "    </tr>\n",
       "  </thead>\n",
       "  <tbody>\n",
       "    <tr>\n",
       "      <th>0</th>\n",
       "      <td>Business Process Engineers / Software Entwickl...</td>\n",
       "      <td>business process engineers / software entwickl...</td>\n",
       "      <td>['business', 'process', 'engineer', 'software'...</td>\n",
       "      <td>['business', 'process', 'engineer', 'software'...</td>\n",
       "      <td>0</td>\n",
       "      <td>0</td>\n",
       "    </tr>\n",
       "    <tr>\n",
       "      <th>1</th>\n",
       "      <td>Kranführer/in mit SUVA Ausweis</td>\n",
       "      <td>kranführer/in mit suva ausweis   kranführer/in...</td>\n",
       "      <td>['kranführer', 'suva', 'ausweis']</td>\n",
       "      <td>['kranführer', 'suva', 'ausweis', 'kranführer'...</td>\n",
       "      <td>0</td>\n",
       "      <td>0</td>\n",
       "    </tr>\n",
       "  </tbody>\n",
       "</table>\n",
       "</div>"
      ],
      "text/plain": [
       "                                               title  \\\n",
       "0  Business Process Engineers / Software Entwickl...   \n",
       "1                     Kranführer/in mit SUVA Ausweis   \n",
       "\n",
       "                             content_no_custom_words  \\\n",
       "0  business process engineers / software entwickl...   \n",
       "1  kranführer/in mit suva ausweis   kranführer/in...   \n",
       "\n",
       "                                        title_tokens  \\\n",
       "0  ['business', 'process', 'engineer', 'software'...   \n",
       "1                  ['kranführer', 'suva', 'ausweis']   \n",
       "\n",
       "                                      content_tokens  manual green  \\\n",
       "0  ['business', 'process', 'engineer', 'software'...             0   \n",
       "1  ['kranführer', 'suva', 'ausweis', 'kranführer'...             0   \n",
       "\n",
       "   content_prediction  \n",
       "0                   0  \n",
       "1                   0  "
      ]
     },
     "execution_count": 8,
     "metadata": {},
     "output_type": "execute_result"
    }
   ],
   "source": [
    "Content_pred_RLR = pd.read_csv(PATH + 'Content_Prediction_VectRLR.csv')\n",
    "Content_pred_RLR.head(2)"
   ]
  },
  {
   "cell_type": "code",
   "execution_count": 9,
   "id": "Ir8cei715W97",
   "metadata": {
    "colab": {
     "base_uri": "https://localhost:8080/",
     "height": 293
    },
    "executionInfo": {
     "elapsed": 671,
     "status": "ok",
     "timestamp": 1639558519469,
     "user": {
      "displayName": "Zineb A",
      "photoUrl": "https://lh3.googleusercontent.com/a/default-user=s64",
      "userId": "11350239444074573694"
     },
     "user_tz": -60
    },
    "id": "Ir8cei715W97",
    "outputId": "5d011d63-b849-41a3-e5c6-af1720092cc4"
   },
   "outputs": [
    {
     "data": {
      "text/html": [
       "<div>\n",
       "<style scoped>\n",
       "    .dataframe tbody tr th:only-of-type {\n",
       "        vertical-align: middle;\n",
       "    }\n",
       "\n",
       "    .dataframe tbody tr th {\n",
       "        vertical-align: top;\n",
       "    }\n",
       "\n",
       "    .dataframe thead th {\n",
       "        text-align: right;\n",
       "    }\n",
       "</style>\n",
       "<table border=\"1\" class=\"dataframe\">\n",
       "  <thead>\n",
       "    <tr style=\"text-align: right;\">\n",
       "      <th></th>\n",
       "      <th>title</th>\n",
       "      <th>content_no_custom_words</th>\n",
       "      <th>title_tokens</th>\n",
       "      <th>content_tokens</th>\n",
       "      <th>manual green</th>\n",
       "      <th>content_prediction</th>\n",
       "    </tr>\n",
       "  </thead>\n",
       "  <tbody>\n",
       "    <tr>\n",
       "      <th>0</th>\n",
       "      <td>Business Process Engineers / Software Entwickl...</td>\n",
       "      <td>business process engineers / software entwickl...</td>\n",
       "      <td>['business', 'process', 'engineer', 'software'...</td>\n",
       "      <td>['business', 'process', 'engineer', 'software'...</td>\n",
       "      <td>0</td>\n",
       "      <td>0</td>\n",
       "    </tr>\n",
       "    <tr>\n",
       "      <th>1</th>\n",
       "      <td>Kranführer/in mit SUVA Ausweis</td>\n",
       "      <td>kranführer/in mit suva ausweis   kranführer/in...</td>\n",
       "      <td>['kranführer', 'suva', 'ausweis']</td>\n",
       "      <td>['kranführer', 'suva', 'ausweis', 'kranführer'...</td>\n",
       "      <td>0</td>\n",
       "      <td>0</td>\n",
       "    </tr>\n",
       "  </tbody>\n",
       "</table>\n",
       "</div>"
      ],
      "text/plain": [
       "                                               title  \\\n",
       "0  Business Process Engineers / Software Entwickl...   \n",
       "1                     Kranführer/in mit SUVA Ausweis   \n",
       "\n",
       "                             content_no_custom_words  \\\n",
       "0  business process engineers / software entwickl...   \n",
       "1  kranführer/in mit suva ausweis   kranführer/in...   \n",
       "\n",
       "                                        title_tokens  \\\n",
       "0  ['business', 'process', 'engineer', 'software'...   \n",
       "1                  ['kranführer', 'suva', 'ausweis']   \n",
       "\n",
       "                                      content_tokens  manual green  \\\n",
       "0  ['business', 'process', 'engineer', 'software'...             0   \n",
       "1  ['kranführer', 'suva', 'ausweis', 'kranführer'...             0   \n",
       "\n",
       "   content_prediction  \n",
       "0                   0  \n",
       "1                   0  "
      ]
     },
     "execution_count": 9,
     "metadata": {},
     "output_type": "execute_result"
    }
   ],
   "source": [
    "Content_pred_RLR_fixed = pd.read_csv(PATH + 'Content_Prediction_VectRLR_fixed.csv')\n",
    "Content_pred_RLR.head(2)"
   ]
  },
  {
   "cell_type": "code",
   "execution_count": 10,
   "id": "OG3oEOvG5XFB",
   "metadata": {
    "colab": {
     "base_uri": "https://localhost:8080/",
     "height": 310
    },
    "executionInfo": {
     "elapsed": 613,
     "status": "ok",
     "timestamp": 1639558520424,
     "user": {
      "displayName": "Zineb A",
      "photoUrl": "https://lh3.googleusercontent.com/a/default-user=s64",
      "userId": "11350239444074573694"
     },
     "user_tz": -60
    },
    "id": "OG3oEOvG5XFB",
    "outputId": "b62d2931-4722-43e8-ca2e-5868b6dbf1a1"
   },
   "outputs": [
    {
     "data": {
      "text/html": [
       "<div>\n",
       "<style scoped>\n",
       "    .dataframe tbody tr th:only-of-type {\n",
       "        vertical-align: middle;\n",
       "    }\n",
       "\n",
       "    .dataframe tbody tr th {\n",
       "        vertical-align: top;\n",
       "    }\n",
       "\n",
       "    .dataframe thead th {\n",
       "        text-align: right;\n",
       "    }\n",
       "</style>\n",
       "<table border=\"1\" class=\"dataframe\">\n",
       "  <thead>\n",
       "    <tr style=\"text-align: right;\">\n",
       "      <th></th>\n",
       "      <th>title</th>\n",
       "      <th>content_no_custom_words</th>\n",
       "      <th>title_tokens</th>\n",
       "      <th>content_tokens</th>\n",
       "      <th>manual green</th>\n",
       "      <th>sentence</th>\n",
       "      <th>content_prediction</th>\n",
       "    </tr>\n",
       "  </thead>\n",
       "  <tbody>\n",
       "    <tr>\n",
       "      <th>0</th>\n",
       "      <td>Business Process Engineers / Software Entwickl...</td>\n",
       "      <td>business process engineers / software entwickl...</td>\n",
       "      <td>['business', 'process', 'engineer', 'software'...</td>\n",
       "      <td>['business', 'process', 'engineer', 'software'...</td>\n",
       "      <td>0</td>\n",
       "      <td>business process engineers / software entwickl...</td>\n",
       "      <td>0.0</td>\n",
       "    </tr>\n",
       "    <tr>\n",
       "      <th>1</th>\n",
       "      <td>Kranführer/in mit SUVA Ausweis</td>\n",
       "      <td>kranführer/in mit suva ausweis   kranführer/in...</td>\n",
       "      <td>['kranführer', 'suva', 'ausweis']</td>\n",
       "      <td>['kranführer', 'suva', 'ausweis', 'kranführer'...</td>\n",
       "      <td>0</td>\n",
       "      <td>kranführer/in mit suva ausweis   kranführer/in...</td>\n",
       "      <td>0.0</td>\n",
       "    </tr>\n",
       "  </tbody>\n",
       "</table>\n",
       "</div>"
      ],
      "text/plain": [
       "                                               title  \\\n",
       "0  Business Process Engineers / Software Entwickl...   \n",
       "1                     Kranführer/in mit SUVA Ausweis   \n",
       "\n",
       "                             content_no_custom_words  \\\n",
       "0  business process engineers / software entwickl...   \n",
       "1  kranführer/in mit suva ausweis   kranführer/in...   \n",
       "\n",
       "                                        title_tokens  \\\n",
       "0  ['business', 'process', 'engineer', 'software'...   \n",
       "1                  ['kranführer', 'suva', 'ausweis']   \n",
       "\n",
       "                                      content_tokens  manual green  \\\n",
       "0  ['business', 'process', 'engineer', 'software'...             0   \n",
       "1  ['kranführer', 'suva', 'ausweis', 'kranführer'...             0   \n",
       "\n",
       "                                            sentence  content_prediction  \n",
       "0  business process engineers / software entwickl...                 0.0  \n",
       "1  kranführer/in mit suva ausweis   kranführer/in...                 0.0  "
      ]
     },
     "execution_count": 10,
     "metadata": {},
     "output_type": "execute_result"
    }
   ],
   "source": [
    "Content_pred_CNN = pd.read_csv(PATH + 'Content_Prediction_VectCNN.csv')\n",
    "Content_pred_CNN.head(2)"
   ]
  },
  {
   "cell_type": "code",
   "execution_count": 11,
   "id": "DDv8PbpI5XNP",
   "metadata": {
    "colab": {
     "base_uri": "https://localhost:8080/",
     "height": 206
    },
    "executionInfo": {
     "elapsed": 864,
     "status": "ok",
     "timestamp": 1639558527489,
     "user": {
      "displayName": "Zineb A",
      "photoUrl": "https://lh3.googleusercontent.com/a/default-user=s64",
      "userId": "11350239444074573694"
     },
     "user_tz": -60
    },
    "id": "DDv8PbpI5XNP",
    "outputId": "04cb3130-c457-47f4-aff3-bfe393420ab7"
   },
   "outputs": [
    {
     "data": {
      "text/html": [
       "<div>\n",
       "<style scoped>\n",
       "    .dataframe tbody tr th:only-of-type {\n",
       "        vertical-align: middle;\n",
       "    }\n",
       "\n",
       "    .dataframe tbody tr th {\n",
       "        vertical-align: top;\n",
       "    }\n",
       "\n",
       "    .dataframe thead th {\n",
       "        text-align: right;\n",
       "    }\n",
       "</style>\n",
       "<table border=\"1\" class=\"dataframe\">\n",
       "  <thead>\n",
       "    <tr style=\"text-align: right;\">\n",
       "      <th></th>\n",
       "      <th>content_no_custom_words</th>\n",
       "      <th>content_prediction</th>\n",
       "    </tr>\n",
       "  </thead>\n",
       "  <tbody>\n",
       "    <tr>\n",
       "      <th>0</th>\n",
       "      <td>business process engineers / software entwickl...</td>\n",
       "      <td>0</td>\n",
       "    </tr>\n",
       "    <tr>\n",
       "      <th>1</th>\n",
       "      <td>kranführer/in mit suva ausweis   kranführer/in...</td>\n",
       "      <td>0</td>\n",
       "    </tr>\n",
       "  </tbody>\n",
       "</table>\n",
       "</div>"
      ],
      "text/plain": [
       "                             content_no_custom_words  content_prediction\n",
       "0  business process engineers / software entwickl...                   0\n",
       "1  kranführer/in mit suva ausweis   kranführer/in...                   0"
      ]
     },
     "execution_count": 11,
     "metadata": {},
     "output_type": "execute_result"
    }
   ],
   "source": [
    "Content_pred_BERT = pd.read_csv(PATH + 'Content_Prediction_BERT.csv')\n",
    "Content_pred_BERT = Content_pred_BERT.rename(columns={\"green_content\": \"content_prediction\"})\n",
    "Content_pred_BERT.head(2)"
   ]
  },
  {
   "cell_type": "markdown",
   "id": "612f3acf",
   "metadata": {},
   "source": [
    "## Merging dataframes"
   ]
  },
  {
   "cell_type": "markdown",
   "id": "383e34f0",
   "metadata": {},
   "source": [
    "### Using twice the same method for title and content"
   ]
  },
  {
   "cell_type": "code",
   "execution_count": 12,
   "id": "IDPgsRs75XVB",
   "metadata": {
    "colab": {
     "base_uri": "https://localhost:8080/",
     "height": 206
    },
    "executionInfo": {
     "elapsed": 15,
     "status": "ok",
     "timestamp": 1639558528077,
     "user": {
      "displayName": "Zineb A",
      "photoUrl": "https://lh3.googleusercontent.com/a/default-user=s64",
      "userId": "11350239444074573694"
     },
     "user_tz": -60
    },
    "id": "IDPgsRs75XVB",
    "outputId": "2c6fecbe-a0cf-4825-a613-d24a7181e7b4"
   },
   "outputs": [],
   "source": [
    "Pred_CNN_CNN            = pd.merge(left=Title_pred_CNN[['title', 'title_prediction']], right=Content_pred_CNN[['content_no_custom_words','content_prediction','manual green']], left_index=True, right_index=True)\n",
    "Pred_RLR_RLR            = pd.merge(left=Title_pred_RLR[['title', 'title_prediction']], right=Content_pred_RLR[['content_no_custom_words','content_prediction','manual green']], left_index=True, right_index=True)\n",
    "Pred_RLR_RLR_unbalanced = pd.merge(left=Title_pred_RLR_fixed[['title', 'title_prediction']], right=Content_pred_RLR_fixed[['content_no_custom_words','content_prediction','manual green']], left_index=True, right_index=True)\n",
    "Pred_BERT_BERT          = pd.merge(left=Title_pred_BERT[['title', 'title_prediction','manual green']], right=Content_pred_BERT[['content_no_custom_words','content_prediction']], left_index=True, right_index=True)"
   ]
  },
  {
   "cell_type": "markdown",
   "id": "ba06db95",
   "metadata": {},
   "source": [
    "### Mixing methods for title and content"
   ]
  },
  {
   "cell_type": "markdown",
   "id": "1ecca30f",
   "metadata": {},
   "source": [
    "#### Title : CNN / Content : RLR or BERT"
   ]
  },
  {
   "cell_type": "code",
   "execution_count": 13,
   "id": "15692725",
   "metadata": {},
   "outputs": [],
   "source": [
    "Pred_CNN_RLR = pd.merge(left=Title_pred_CNN[['title', 'title_prediction']], right=Content_pred_RLR[['content_no_custom_words','content_prediction','manual green']], left_index=True, right_index=True)\n",
    "Pred_CNN_BERT = pd.merge(left=Title_pred_CNN[['title', 'title_prediction', 'manual green']], right=Content_pred_BERT[['content_no_custom_words','content_prediction']], left_index=True, right_index=True)"
   ]
  },
  {
   "cell_type": "markdown",
   "id": "e2ad8e1c",
   "metadata": {},
   "source": [
    "#### Title : RLR / Content : CNN or BERT"
   ]
  },
  {
   "cell_type": "code",
   "execution_count": 14,
   "id": "25015f80",
   "metadata": {},
   "outputs": [],
   "source": [
    "Pred_RLR_CNN = pd.merge(left=Title_pred_RLR[['title', 'title_prediction']], right=Content_pred_CNN[['content_no_custom_words','content_prediction','manual green']], left_index=True, right_index=True)\n",
    "Pred_RLR_BERT = pd.merge(left=Title_pred_RLR[['title', 'title_prediction','manual green']], right=Content_pred_BERT[['content_no_custom_words','content_prediction']], left_index=True, right_index=True)"
   ]
  },
  {
   "cell_type": "markdown",
   "id": "aa21d031",
   "metadata": {},
   "source": [
    "#### Title : BERT / Content :  CNN or RLR"
   ]
  },
  {
   "cell_type": "code",
   "execution_count": 15,
   "id": "a6782204",
   "metadata": {
    "colab": {
     "base_uri": "https://localhost:8080/",
     "height": 206
    },
    "executionInfo": {
     "elapsed": 261,
     "status": "ok",
     "timestamp": 1639558539785,
     "user": {
      "displayName": "Zineb A",
      "photoUrl": "https://lh3.googleusercontent.com/a/default-user=s64",
      "userId": "11350239444074573694"
     },
     "user_tz": -60
    },
    "id": "d4WTgXeo5xT-",
    "outputId": "7ff4b21c-b5e5-4378-b42d-54c41cc3c01e",
    "scrolled": true
   },
   "outputs": [],
   "source": [
    "Pred_BERT_CNN = pd.merge(left=Title_pred_BERT[['title', 'title_prediction','manual green']], right=Content_pred_CNN[['content_no_custom_words','content_prediction']], left_index=True, right_index=True)\n",
    "Pred_BERT_RLR = pd.merge(left=Title_pred_BERT[['title', 'title_prediction','manual green']], right=Content_pred_RLR[['content_no_custom_words','content_prediction']], left_index=True, right_index=True)\n"
   ]
  },
  {
   "cell_type": "markdown",
   "id": "3BrNXkEJCKnz",
   "metadata": {
    "id": "3BrNXkEJCKnz"
   },
   "source": [
    "## Combining our results into one binary feature:"
   ]
  },
  {
   "cell_type": "code",
   "execution_count": 16,
   "id": "96d5cfb1",
   "metadata": {
    "executionInfo": {
     "elapsed": 226,
     "status": "ok",
     "timestamp": 1639558542198,
     "user": {
      "displayName": "Zineb A",
      "photoUrl": "https://lh3.googleusercontent.com/a/default-user=s64",
      "userId": "11350239444074573694"
     },
     "user_tz": -60
    },
    "id": "96d5cfb1"
   },
   "outputs": [],
   "source": [
    "# function that does the combination:\n",
    "def Combine_binary(df_test):\n",
    "  df_test.loc[:,'model_green'] = 0\n",
    "  for idx in df_test.index:\n",
    "    if df_test.loc[idx,'title_prediction'] == -1:\n",
    "        df_test.loc[idx,'model_green'] = 0\n",
    "    elif (df_test.loc[idx,'title_prediction'] == 0 and df_test.loc[idx,'content_prediction'] == 0):\n",
    "        df_test.loc[idx,'model_green'] = 0\n",
    "    else:\n",
    "        df_test.loc[idx,'model_green'] = 1\n",
    "  return(df_test)\n"
   ]
  },
  {
   "cell_type": "code",
   "execution_count": 17,
   "id": "dxl-MxsdBYgx",
   "metadata": {
    "executionInfo": {
     "elapsed": 522,
     "status": "ok",
     "timestamp": 1639558544022,
     "user": {
      "displayName": "Zineb A",
      "photoUrl": "https://lh3.googleusercontent.com/a/default-user=s64",
      "userId": "11350239444074573694"
     },
     "user_tz": -60
    },
    "id": "dxl-MxsdBYgx"
   },
   "outputs": [],
   "source": [
    "# adding the final classification as a feature:\n",
    "\n",
    "Pred_CNN_CNN            = Combine_binary(Pred_CNN_CNN)\n",
    "Pred_RLR_RLR            = Combine_binary(Pred_RLR_RLR)\n",
    "Pred_RLR_RLR_unbalanced = Combine_binary(Pred_RLR_RLR)\n",
    "Pred_BERT_BERT          = Combine_binary(Pred_BERT_BERT)\n",
    "\n",
    "Pred_CNN_RLR            = Combine_binary(Pred_CNN_RLR)\n",
    "Pred_CNN_BERT           = Combine_binary(Pred_CNN_BERT)\n",
    "Pred_RLR_CNN            = Combine_binary(Pred_RLR_CNN)\n",
    "Pred_RLR_BERT           = Combine_binary(Pred_RLR_BERT)\n",
    "Pred_BERT_CNN           = Combine_binary(Pred_BERT_CNN)\n",
    "Pred_BERT_RLR           = Combine_binary(Pred_BERT_RLR)"
   ]
  },
  {
   "cell_type": "markdown",
   "id": "480c4894",
   "metadata": {
    "id": "l2JEX-oZCWl3"
   },
   "source": [
    "## Metrics results for the three methods and six mixing methods:"
   ]
  },
  {
   "cell_type": "markdown",
   "id": "1e39e83a",
   "metadata": {},
   "source": [
    "### Same method for title and content"
   ]
  },
  {
   "cell_type": "code",
   "execution_count": 18,
   "id": "0b42f8d1",
   "metadata": {
    "colab": {
     "base_uri": "https://localhost:8080/"
    },
    "executionInfo": {
     "elapsed": 228,
     "status": "ok",
     "timestamp": 1639558549086,
     "user": {
      "displayName": "Zineb A",
      "photoUrl": "https://lh3.googleusercontent.com/a/default-user=s64",
      "userId": "11350239444074573694"
     },
     "user_tz": -60
    },
    "id": "d2d1d56b",
    "outputId": "da14ff11-a1d5-4853-d08b-553b18b7d72e"
   },
   "outputs": [
    {
     "name": "stdout",
     "output_type": "stream",
     "text": [
      "Title: RLR / Content : RLR \n",
      "               precision    recall  f1-score   support\n",
      "\n",
      "           0       1.00      0.88      0.93       268\n",
      "           1       0.49      0.97      0.65        32\n",
      "\n",
      "    accuracy                           0.89       300\n",
      "   macro avg       0.74      0.92      0.79       300\n",
      "weighted avg       0.94      0.89      0.90       300\n",
      "\n"
     ]
    }
   ],
   "source": [
    "print(\"Title: RLR / Content : RLR \\n\", classification_report(y_true=Pred_RLR_RLR['manual green'], y_pred=Pred_RLR_RLR['model_green']))\n"
   ]
  },
  {
   "cell_type": "code",
   "execution_count": 19,
   "id": "9c0330b2",
   "metadata": {
    "colab": {
     "base_uri": "https://localhost:8080/"
    },
    "executionInfo": {
     "elapsed": 228,
     "status": "ok",
     "timestamp": 1639558549086,
     "user": {
      "displayName": "Zineb A",
      "photoUrl": "https://lh3.googleusercontent.com/a/default-user=s64",
      "userId": "11350239444074573694"
     },
     "user_tz": -60
    },
    "id": "d2d1d56b",
    "outputId": "da14ff11-a1d5-4853-d08b-553b18b7d72e"
   },
   "outputs": [
    {
     "name": "stdout",
     "output_type": "stream",
     "text": [
      "Title: RLR_unbalanced / Content : RLR_unbalanced \n",
      "               precision    recall  f1-score   support\n",
      "\n",
      "           0       1.00      0.88      0.93       268\n",
      "           1       0.49      0.97      0.65        32\n",
      "\n",
      "    accuracy                           0.89       300\n",
      "   macro avg       0.74      0.92      0.79       300\n",
      "weighted avg       0.94      0.89      0.90       300\n",
      "\n"
     ]
    }
   ],
   "source": [
    "print(\"Title: RLR_unbalanced / Content : RLR_unbalanced \\n\", classification_report(y_true=Pred_RLR_RLR_unbalanced['manual green'], y_pred=Pred_RLR_RLR_unbalanced['model_green']))\n"
   ]
  },
  {
   "cell_type": "code",
   "execution_count": 20,
   "id": "x42bNitaBtqY",
   "metadata": {
    "colab": {
     "base_uri": "https://localhost:8080/"
    },
    "executionInfo": {
     "elapsed": 349,
     "status": "ok",
     "timestamp": 1639558547188,
     "user": {
      "displayName": "Zineb A",
      "photoUrl": "https://lh3.googleusercontent.com/a/default-user=s64",
      "userId": "11350239444074573694"
     },
     "user_tz": -60
    },
    "id": "x42bNitaBtqY",
    "outputId": "96e1e363-71bd-44b5-fae6-4b87d64c5ca4"
   },
   "outputs": [
    {
     "name": "stdout",
     "output_type": "stream",
     "text": [
      "Title: CNN / Content : CNN \n",
      "               precision    recall  f1-score   support\n",
      "\n",
      "           0       0.90      0.88      0.89       268\n",
      "           1       0.17      0.22      0.19        32\n",
      "\n",
      "    accuracy                           0.81       300\n",
      "   macro avg       0.54      0.55      0.54       300\n",
      "weighted avg       0.83      0.81      0.82       300\n",
      "\n"
     ]
    }
   ],
   "source": [
    "print(\"Title: CNN / Content : CNN \\n\", classification_report(y_true=Pred_CNN_CNN['manual green'], y_pred=Pred_CNN_CNN['model_green']))\n"
   ]
  },
  {
   "cell_type": "code",
   "execution_count": 21,
   "id": "6f991ebc",
   "metadata": {
    "colab": {
     "base_uri": "https://localhost:8080/"
    },
    "executionInfo": {
     "elapsed": 5,
     "status": "ok",
     "timestamp": 1639558545350,
     "user": {
      "displayName": "Zineb A",
      "photoUrl": "https://lh3.googleusercontent.com/a/default-user=s64",
      "userId": "11350239444074573694"
     },
     "user_tz": -60
    },
    "id": "C9WB3UqLBtYm",
    "outputId": "1f970e7d-5e20-4c3f-cfb3-299793e0889c"
   },
   "outputs": [
    {
     "name": "stdout",
     "output_type": "stream",
     "text": [
      "Title: BERT / Content : BERT \n",
      "               precision    recall  f1-score   support\n",
      "\n",
      "           0       0.97      0.88      0.92       268\n",
      "           1       0.43      0.75      0.55        32\n",
      "\n",
      "    accuracy                           0.87       300\n",
      "   macro avg       0.70      0.82      0.73       300\n",
      "weighted avg       0.91      0.87      0.88       300\n",
      "\n"
     ]
    }
   ],
   "source": [
    "print(\"Title: BERT / Content : BERT \\n\", classification_report(y_true=Pred_BERT_BERT['manual green'], y_pred=Pred_BERT_BERT['model_green']))\n"
   ]
  },
  {
   "cell_type": "markdown",
   "id": "4e353cd0",
   "metadata": {},
   "source": [
    "### Mixing methods"
   ]
  },
  {
   "cell_type": "code",
   "execution_count": 22,
   "id": "97f7c97e",
   "metadata": {
    "colab": {
     "base_uri": "https://localhost:8080/"
    },
    "executionInfo": {
     "elapsed": 228,
     "status": "ok",
     "timestamp": 1639558549086,
     "user": {
      "displayName": "Zineb A",
      "photoUrl": "https://lh3.googleusercontent.com/a/default-user=s64",
      "userId": "11350239444074573694"
     },
     "user_tz": -60
    },
    "id": "d2d1d56b",
    "outputId": "da14ff11-a1d5-4853-d08b-553b18b7d72e",
    "scrolled": true
   },
   "outputs": [
    {
     "name": "stdout",
     "output_type": "stream",
     "text": [
      "Title: RLR / Content : CNN \n",
      "               precision    recall  f1-score   support\n",
      "\n",
      "           0       0.93      0.87      0.90       268\n",
      "           1       0.30      0.47      0.37        32\n",
      "\n",
      "    accuracy                           0.83       300\n",
      "   macro avg       0.62      0.67      0.63       300\n",
      "weighted avg       0.86      0.83      0.84       300\n",
      "\n"
     ]
    }
   ],
   "source": [
    "print(\"Title: RLR / Content : CNN \\n\", classification_report(y_true=Pred_RLR_CNN['manual green'], y_pred=Pred_RLR_CNN['model_green']))\n"
   ]
  },
  {
   "cell_type": "code",
   "execution_count": 23,
   "id": "1224bcf5",
   "metadata": {
    "colab": {
     "base_uri": "https://localhost:8080/"
    },
    "executionInfo": {
     "elapsed": 228,
     "status": "ok",
     "timestamp": 1639558549086,
     "user": {
      "displayName": "Zineb A",
      "photoUrl": "https://lh3.googleusercontent.com/a/default-user=s64",
      "userId": "11350239444074573694"
     },
     "user_tz": -60
    },
    "id": "d2d1d56b",
    "outputId": "da14ff11-a1d5-4853-d08b-553b18b7d72e",
    "scrolled": false
   },
   "outputs": [
    {
     "name": "stdout",
     "output_type": "stream",
     "text": [
      "Title: RLR / Content : BERT \n",
      "               precision    recall  f1-score   support\n",
      "\n",
      "           0       0.98      0.88      0.93       268\n",
      "           1       0.47      0.88      0.62        32\n",
      "\n",
      "    accuracy                           0.88       300\n",
      "   macro avg       0.73      0.88      0.77       300\n",
      "weighted avg       0.93      0.88      0.90       300\n",
      "\n"
     ]
    }
   ],
   "source": [
    "print(\"Title: RLR / Content : BERT \\n\", classification_report(y_true=Pred_RLR_BERT['manual green'], y_pred=Pred_RLR_BERT['model_green']))\n"
   ]
  },
  {
   "cell_type": "code",
   "execution_count": 24,
   "id": "084ee4c4",
   "metadata": {},
   "outputs": [
    {
     "name": "stdout",
     "output_type": "stream",
     "text": [
      "Title: CNN / Content : RLR \n",
      "               precision    recall  f1-score   support\n",
      "\n",
      "           0       0.98      0.90      0.94       268\n",
      "           1       0.49      0.81      0.61        32\n",
      "\n",
      "    accuracy                           0.89       300\n",
      "   macro avg       0.73      0.86      0.77       300\n",
      "weighted avg       0.92      0.89      0.90       300\n",
      "\n"
     ]
    }
   ],
   "source": [
    "print(\"Title: CNN / Content : RLR \\n\", classification_report(y_true=Pred_CNN_RLR['manual green'], y_pred=Pred_CNN_RLR['model_green']))\n"
   ]
  },
  {
   "cell_type": "code",
   "execution_count": 25,
   "id": "14096386",
   "metadata": {},
   "outputs": [
    {
     "name": "stdout",
     "output_type": "stream",
     "text": [
      "Title: CNN / Content : BERT \n",
      "               precision    recall  f1-score   support\n",
      "\n",
      "           0       0.96      0.89      0.92       268\n",
      "           1       0.42      0.69      0.52        32\n",
      "\n",
      "    accuracy                           0.87       300\n",
      "   macro avg       0.69      0.79      0.72       300\n",
      "weighted avg       0.90      0.87      0.88       300\n",
      "\n"
     ]
    }
   ],
   "source": [
    "print(\"Title: CNN / Content : BERT \\n\", classification_report(y_true=Pred_CNN_BERT['manual green'], y_pred=Pred_CNN_BERT['model_green']))\n"
   ]
  },
  {
   "cell_type": "code",
   "execution_count": 26,
   "id": "9c3be7ee",
   "metadata": {
    "colab": {
     "base_uri": "https://localhost:8080/"
    },
    "executionInfo": {
     "elapsed": 228,
     "status": "ok",
     "timestamp": 1639558549086,
     "user": {
      "displayName": "Zineb A",
      "photoUrl": "https://lh3.googleusercontent.com/a/default-user=s64",
      "userId": "11350239444074573694"
     },
     "user_tz": -60
    },
    "id": "d2d1d56b",
    "outputId": "da14ff11-a1d5-4853-d08b-553b18b7d72e",
    "scrolled": true
   },
   "outputs": [
    {
     "name": "stdout",
     "output_type": "stream",
     "text": [
      "Title: BERT / Content : RLR \n",
      "               precision    recall  f1-score   support\n",
      "\n",
      "           0       0.98      0.87      0.92       268\n",
      "           1       0.44      0.84      0.57        32\n",
      "\n",
      "    accuracy                           0.87       300\n",
      "   macro avg       0.71      0.86      0.75       300\n",
      "weighted avg       0.92      0.87      0.88       300\n",
      "\n"
     ]
    }
   ],
   "source": [
    "print(\"Title: BERT / Content : RLR \\n\", classification_report(y_true=Pred_BERT_RLR['manual green'], y_pred=Pred_BERT_RLR['model_green']))\n"
   ]
  },
  {
   "cell_type": "code",
   "execution_count": 27,
   "id": "70069a14",
   "metadata": {
    "colab": {
     "base_uri": "https://localhost:8080/"
    },
    "executionInfo": {
     "elapsed": 228,
     "status": "ok",
     "timestamp": 1639558549086,
     "user": {
      "displayName": "Zineb A",
      "photoUrl": "https://lh3.googleusercontent.com/a/default-user=s64",
      "userId": "11350239444074573694"
     },
     "user_tz": -60
    },
    "id": "d2d1d56b",
    "outputId": "da14ff11-a1d5-4853-d08b-553b18b7d72e",
    "scrolled": true
   },
   "outputs": [
    {
     "name": "stdout",
     "output_type": "stream",
     "text": [
      "Title: BERT / Content : CNN \n",
      "               precision    recall  f1-score   support\n",
      "\n",
      "           0       0.94      0.87      0.90       268\n",
      "           1       0.33      0.56      0.42        32\n",
      "\n",
      "    accuracy                           0.83       300\n",
      "   macro avg       0.64      0.71      0.66       300\n",
      "weighted avg       0.88      0.83      0.85       300\n",
      "\n"
     ]
    }
   ],
   "source": [
    "print(\"Title: BERT / Content : CNN \\n\", classification_report(y_true=Pred_BERT_CNN['manual green'], y_pred=Pred_BERT_CNN['model_green']))\n"
   ]
  },
  {
   "cell_type": "markdown",
   "id": "DVzvfzsFCpA0",
   "metadata": {
    "id": "DVzvfzsFCpA0"
   },
   "source": [
    "## Plotting the confusion matrix for the predictions:"
   ]
  },
  {
   "cell_type": "code",
   "execution_count": 28,
   "id": "4ff8acb0",
   "metadata": {
    "colab": {
     "base_uri": "https://localhost:8080/",
     "height": 178
    },
    "executionInfo": {
     "elapsed": 241,
     "status": "ok",
     "timestamp": 1639558555114,
     "user": {
      "displayName": "Zineb A",
      "photoUrl": "https://lh3.googleusercontent.com/a/default-user=s64",
      "userId": "11350239444074573694"
     },
     "user_tz": -60
    },
    "id": "b57UkamRB6En",
    "outputId": "1cb35818-4c65-4b0c-f3b9-aeaa9898feef"
   },
   "outputs": [
    {
     "name": "stdout",
     "output_type": "stream",
     "text": [
      "Title: RLR / Content : RLR \n",
      "\n"
     ]
    },
    {
     "data": {
      "text/plain": [
       "<sklearn.metrics._plot.confusion_matrix.ConfusionMatrixDisplay at 0x7faabcb6e670>"
      ]
     },
     "execution_count": 28,
     "metadata": {},
     "output_type": "execute_result"
    },
    {
     "data": {
      "image/png": "[encoded data removed]",
      "text/plain": [
       "<Figure size 432x288 with 2 Axes>"
      ]
     },
     "metadata": {
      "needs_background": "light"
     },
     "output_type": "display_data"
    }
   ],
   "source": [
    "# confusion matrix\n",
    "print(\"Title: RLR / Content : RLR \\n\")\n",
    "disp = ConfusionMatrixDisplay(confusion_matrix=confusion_matrix(Pred_RLR_RLR['manual green'], Pred_RLR_RLR['model_green']))\n",
    "disp.plot()"
   ]
  },
  {
   "cell_type": "code",
   "execution_count": 29,
   "id": "6c6155b7",
   "metadata": {
    "colab": {
     "base_uri": "https://localhost:8080/",
     "height": 178
    },
    "executionInfo": {
     "elapsed": 241,
     "status": "ok",
     "timestamp": 1639558555114,
     "user": {
      "displayName": "Zineb A",
      "photoUrl": "https://lh3.googleusercontent.com/a/default-user=s64",
      "userId": "11350239444074573694"
     },
     "user_tz": -60
    },
    "id": "b57UkamRB6En",
    "outputId": "1cb35818-4c65-4b0c-f3b9-aeaa9898feef"
   },
   "outputs": [
    {
     "name": "stdout",
     "output_type": "stream",
     "text": [
      "Title: RLR_unbalanced / Content : RLR_unbalanced \n",
      "\n"
     ]
    },
    {
     "data": {
      "text/plain": [
       "<sklearn.metrics._plot.confusion_matrix.ConfusionMatrixDisplay at 0x7faabe70efa0>"
      ]
     },
     "execution_count": 29,
     "metadata": {},
     "output_type": "execute_result"
    },
    {
     "data": {
      "image/png": "[encoded data removed]",
      "text/plain": [
       "<Figure size 432x288 with 2 Axes>"
      ]
     },
     "metadata": {
      "needs_background": "light"
     },
     "output_type": "display_data"
    }
   ],
   "source": [
    "# confusion matrix\n",
    "print(\"Title: RLR_unbalanced / Content : RLR_unbalanced \\n\")\n",
    "disp = ConfusionMatrixDisplay(confusion_matrix=confusion_matrix(Pred_RLR_RLR_unbalanced['manual green'], Pred_RLR_RLR_unbalanced['model_green']))\n",
    "disp.plot()"
   ]
  },
  {
   "cell_type": "code",
   "execution_count": 30,
   "id": "76f31e0b",
   "metadata": {
    "colab": {
     "base_uri": "https://localhost:8080/",
     "height": 178
    },
    "executionInfo": {
     "elapsed": 8,
     "status": "ok",
     "timestamp": 1639558552871,
     "user": {
      "displayName": "Zineb A",
      "photoUrl": "https://lh3.googleusercontent.com/a/default-user=s64",
      "userId": "11350239444074573694"
     },
     "user_tz": -60
    },
    "id": "76f31e0b",
    "outputId": "a9f65a45-c2fc-4207-8ce0-0da0da2a5b0e"
   },
   "outputs": [
    {
     "name": "stdout",
     "output_type": "stream",
     "text": [
      "Title: CNN / Content : CNN \n",
      "\n"
     ]
    },
    {
     "data": {
      "text/plain": [
       "<sklearn.metrics._plot.confusion_matrix.ConfusionMatrixDisplay at 0x7faabe70ec40>"
      ]
     },
     "execution_count": 30,
     "metadata": {},
     "output_type": "execute_result"
    },
    {
     "data": {
      "image/png": "[encoded data removed]",
      "text/plain": [
       "<Figure size 432x288 with 2 Axes>"
      ]
     },
     "metadata": {
      "needs_background": "light"
     },
     "output_type": "display_data"
    }
   ],
   "source": [
    "# confusion matrix\n",
    "print(\"Title: CNN / Content : CNN \\n\")\n",
    "disp = ConfusionMatrixDisplay(confusion_matrix=confusion_matrix(Pred_CNN_CNN['manual green'], Pred_CNN_CNN['model_green']))\n",
    "disp.plot()"
   ]
  },
  {
   "cell_type": "code",
   "execution_count": 31,
   "id": "8765e2b3",
   "metadata": {},
   "outputs": [
    {
     "name": "stdout",
     "output_type": "stream",
     "text": [
      "Title: BERT / Content : BERT \n",
      "\n"
     ]
    },
    {
     "data": {
      "text/plain": [
       "<sklearn.metrics._plot.confusion_matrix.ConfusionMatrixDisplay at 0x7faabe765220>"
      ]
     },
     "execution_count": 31,
     "metadata": {},
     "output_type": "execute_result"
    },
    {
     "data": {
      "image/png": "[encoded data removed]",
      "text/plain": [
       "<Figure size 432x288 with 2 Axes>"
      ]
     },
     "metadata": {
      "needs_background": "light"
     },
     "output_type": "display_data"
    }
   ],
   "source": [
    "# confusion matrix\n",
    "print(\"Title: BERT / Content : BERT \\n\")\n",
    "disp = ConfusionMatrixDisplay(confusion_matrix=confusion_matrix(Pred_BERT_BERT['manual green'], Pred_BERT_BERT['model_green']))\n",
    "disp.plot()"
   ]
  },
  {
   "cell_type": "code",
   "execution_count": 32,
   "id": "2b50e88e",
   "metadata": {},
   "outputs": [
    {
     "name": "stdout",
     "output_type": "stream",
     "text": [
      "Title: RLR / Content : CNN \n",
      "\n"
     ]
    },
    {
     "data": {
      "text/plain": [
       "<sklearn.metrics._plot.confusion_matrix.ConfusionMatrixDisplay at 0x7faabd779fd0>"
      ]
     },
     "execution_count": 32,
     "metadata": {},
     "output_type": "execute_result"
    },
    {
     "data": {
      "image/png": "[encoded data removed]",
      "text/plain": [
       "<Figure size 432x288 with 2 Axes>"
      ]
     },
     "metadata": {
      "needs_background": "light"
     },
     "output_type": "display_data"
    }
   ],
   "source": [
    "# confusion matrix\n",
    "print(\"Title: RLR / Content : CNN \\n\")\n",
    "disp = ConfusionMatrixDisplay(confusion_matrix=confusion_matrix(Pred_RLR_CNN['manual green'], Pred_RLR_CNN['model_green']))\n",
    "disp.plot()"
   ]
  },
  {
   "cell_type": "code",
   "execution_count": 33,
   "id": "9bf7255a",
   "metadata": {},
   "outputs": [
    {
     "name": "stdout",
     "output_type": "stream",
     "text": [
      "Title: RLR / Content : BERT \n",
      "\n"
     ]
    },
    {
     "data": {
      "text/plain": [
       "<sklearn.metrics._plot.confusion_matrix.ConfusionMatrixDisplay at 0x7faabd78cd90>"
      ]
     },
     "execution_count": 33,
     "metadata": {},
     "output_type": "execute_result"
    },
    {
     "data": {
      "image/png": "[encoded data removed]",
      "text/plain": [
       "<Figure size 432x288 with 2 Axes>"
      ]
     },
     "metadata": {
      "needs_background": "light"
     },
     "output_type": "display_data"
    }
   ],
   "source": [
    "# confusion matrix\n",
    "print(\"Title: RLR / Content : BERT \\n\")\n",
    "disp = ConfusionMatrixDisplay(confusion_matrix=confusion_matrix(Pred_RLR_BERT['manual green'], Pred_RLR_BERT['model_green']))\n",
    "disp.plot()"
   ]
  },
  {
   "cell_type": "code",
   "execution_count": 34,
   "id": "b226933b",
   "metadata": {},
   "outputs": [
    {
     "name": "stdout",
     "output_type": "stream",
     "text": [
      "Title: CNN / Content : RLR \n",
      "\n"
     ]
    },
    {
     "data": {
      "text/plain": [
       "<sklearn.metrics._plot.confusion_matrix.ConfusionMatrixDisplay at 0x7faabe5513a0>"
      ]
     },
     "execution_count": 34,
     "metadata": {},
     "output_type": "execute_result"
    },
    {
     "data": {
      "image/png": "[encoded data removed]",
      "text/plain": [
       "<Figure size 432x288 with 2 Axes>"
      ]
     },
     "metadata": {
      "needs_background": "light"
     },
     "output_type": "display_data"
    }
   ],
   "source": [
    "# confusion matrix\n",
    "print(\"Title: CNN / Content : RLR \\n\")\n",
    "disp = ConfusionMatrixDisplay(confusion_matrix=confusion_matrix(Pred_CNN_RLR['manual green'], Pred_CNN_RLR['model_green']))\n",
    "disp.plot()"
   ]
  },
  {
   "cell_type": "code",
   "execution_count": 35,
   "id": "44861bb2",
   "metadata": {},
   "outputs": [
    {
     "name": "stdout",
     "output_type": "stream",
     "text": [
      "Title: CNN / Content : BERT \n",
      "\n"
     ]
    },
    {
     "data": {
      "text/plain": [
       "<sklearn.metrics._plot.confusion_matrix.ConfusionMatrixDisplay at 0x7faabe430ee0>"
      ]
     },
     "execution_count": 35,
     "metadata": {},
     "output_type": "execute_result"
    },
    {
     "data": {
      "image/png": "[encoded data removed]",
      "text/plain": [
       "<Figure size 432x288 with 2 Axes>"
      ]
     },
     "metadata": {
      "needs_background": "light"
     },
     "output_type": "display_data"
    }
   ],
   "source": [
    "# confusion matrix\n",
    "print(\"Title: CNN / Content : BERT \\n\")\n",
    "disp = ConfusionMatrixDisplay(confusion_matrix=confusion_matrix(Pred_CNN_BERT['manual green'], Pred_CNN_BERT['model_green']))\n",
    "disp.plot()"
   ]
  },
  {
   "cell_type": "code",
   "execution_count": 36,
   "id": "7706de9e",
   "metadata": {},
   "outputs": [
    {
     "name": "stdout",
     "output_type": "stream",
     "text": [
      "Title: BERT / Content : RLR \n",
      "\n"
     ]
    },
    {
     "data": {
      "text/plain": [
       "<sklearn.metrics._plot.confusion_matrix.ConfusionMatrixDisplay at 0x7faabe2db940>"
      ]
     },
     "execution_count": 36,
     "metadata": {},
     "output_type": "execute_result"
    },
    {
     "data": {
      "image/png": "[encoded data removed]",
      "text/plain": [
       "<Figure size 432x288 with 2 Axes>"
      ]
     },
     "metadata": {
      "needs_background": "light"
     },
     "output_type": "display_data"
    }
   ],
   "source": [
    "# confusion matrix\n",
    "print(\"Title: BERT / Content : RLR \\n\")\n",
    "disp = ConfusionMatrixDisplay(confusion_matrix=confusion_matrix(Pred_BERT_RLR['manual green'], Pred_BERT_RLR['model_green']))\n",
    "disp.plot()"
   ]
  },
  {
   "cell_type": "code",
   "execution_count": 37,
   "id": "59e43955",
   "metadata": {},
   "outputs": [
    {
     "name": "stdout",
     "output_type": "stream",
     "text": [
      "Title: BERT / Content : CNN \n",
      "\n"
     ]
    },
    {
     "data": {
      "text/plain": [
       "<sklearn.metrics._plot.confusion_matrix.ConfusionMatrixDisplay at 0x7faabd67f9d0>"
      ]
     },
     "execution_count": 37,
     "metadata": {},
     "output_type": "execute_result"
    },
    {
     "data": {
      "image/png": "[encoded data removed]",
      "text/plain": [
       "<Figure size 432x288 with 2 Axes>"
      ]
     },
     "metadata": {
      "needs_background": "light"
     },
     "output_type": "display_data"
    }
   ],
   "source": [
    "# confusion matrix\n",
    "print(\"Title: BERT / Content : CNN \\n\")\n",
    "disp = ConfusionMatrixDisplay(confusion_matrix=confusion_matrix(Pred_BERT_CNN['manual green'], Pred_BERT_CNN['model_green']))\n",
    "disp.plot()"
   ]
  },
  {
   "cell_type": "markdown",
   "id": "f3b77c93",
   "metadata": {},
   "source": [
    "## Merging all predictions into a unique dataframe"
   ]
  },
  {
   "cell_type": "code",
   "execution_count": 38,
   "id": "pRe_E_zsSaYZ",
   "metadata": {
    "colab": {
     "base_uri": "https://localhost:8080/",
     "height": 206
    },
    "executionInfo": {
     "elapsed": 252,
     "status": "ok",
     "timestamp": 1639558607685,
     "user": {
      "displayName": "Zineb A",
      "photoUrl": "https://lh3.googleusercontent.com/a/default-user=s64",
      "userId": "11350239444074573694"
     },
     "user_tz": -60
    },
    "id": "pRe_E_zsSaYZ",
    "outputId": "67353066-6c0f-462f-83f0-c83b704aa6dd"
   },
   "outputs": [
    {
     "data": {
      "text/html": [
       "<div>\n",
       "<style scoped>\n",
       "    .dataframe tbody tr th:only-of-type {\n",
       "        vertical-align: middle;\n",
       "    }\n",
       "\n",
       "    .dataframe tbody tr th {\n",
       "        vertical-align: top;\n",
       "    }\n",
       "\n",
       "    .dataframe thead th {\n",
       "        text-align: right;\n",
       "    }\n",
       "</style>\n",
       "<table border=\"1\" class=\"dataframe\">\n",
       "  <thead>\n",
       "    <tr style=\"text-align: right;\">\n",
       "      <th></th>\n",
       "      <th>title</th>\n",
       "      <th>content_no_custom_words</th>\n",
       "      <th>manual green</th>\n",
       "      <th>BERT_BERT Prediction</th>\n",
       "      <th>CNN_CNN Prediction</th>\n",
       "      <th>RLR_RLR Prediction</th>\n",
       "      <th>RLR_RLR Prediction</th>\n",
       "      <th>RLR_CNN Prediction</th>\n",
       "      <th>RLR_BERT Prediction</th>\n",
       "      <th>CNN_RLR Prediction</th>\n",
       "      <th>CNN_BERT Prediction</th>\n",
       "      <th>BERT_RLR Prediction</th>\n",
       "      <th>BERT_CNN Prediction</th>\n",
       "    </tr>\n",
       "  </thead>\n",
       "  <tbody>\n",
       "    <tr>\n",
       "      <th>0</th>\n",
       "      <td>Business Process Engineers / Software Entwickl...</td>\n",
       "      <td>business process engineers / software entwickl...</td>\n",
       "      <td>0</td>\n",
       "      <td>0</td>\n",
       "      <td>0</td>\n",
       "      <td>0</td>\n",
       "      <td>0</td>\n",
       "      <td>0</td>\n",
       "      <td>0</td>\n",
       "      <td>0</td>\n",
       "      <td>0</td>\n",
       "      <td>0</td>\n",
       "      <td>0</td>\n",
       "    </tr>\n",
       "    <tr>\n",
       "      <th>1</th>\n",
       "      <td>Kranführer/in mit SUVA Ausweis</td>\n",
       "      <td>kranführer/in mit suva ausweis   kranführer/in...</td>\n",
       "      <td>0</td>\n",
       "      <td>0</td>\n",
       "      <td>0</td>\n",
       "      <td>0</td>\n",
       "      <td>0</td>\n",
       "      <td>0</td>\n",
       "      <td>0</td>\n",
       "      <td>0</td>\n",
       "      <td>0</td>\n",
       "      <td>0</td>\n",
       "      <td>0</td>\n",
       "    </tr>\n",
       "  </tbody>\n",
       "</table>\n",
       "</div>"
      ],
      "text/plain": [
       "                                               title  \\\n",
       "0  Business Process Engineers / Software Entwickl...   \n",
       "1                     Kranführer/in mit SUVA Ausweis   \n",
       "\n",
       "                             content_no_custom_words  manual green  \\\n",
       "0  business process engineers / software entwickl...             0   \n",
       "1  kranführer/in mit suva ausweis   kranführer/in...             0   \n",
       "\n",
       "   BERT_BERT Prediction  CNN_CNN Prediction  RLR_RLR Prediction  \\\n",
       "0                     0                   0                   0   \n",
       "1                     0                   0                   0   \n",
       "\n",
       "   RLR_RLR Prediction  RLR_CNN Prediction  RLR_BERT Prediction  \\\n",
       "0                   0                   0                    0   \n",
       "1                   0                   0                    0   \n",
       "\n",
       "   CNN_RLR Prediction  CNN_BERT Prediction  BERT_RLR Prediction  \\\n",
       "0                   0                    0                    0   \n",
       "1                   0                    0                    0   \n",
       "\n",
       "   BERT_CNN Prediction  \n",
       "0                    0  \n",
       "1                    0  "
      ]
     },
     "execution_count": 38,
     "metadata": {},
     "output_type": "execute_result"
    }
   ],
   "source": [
    "Predictions = Pred_BERT_BERT[['title','content_no_custom_words','manual green','model_green']]\n",
    "Predictions = Predictions.rename(columns={\"model_green\": \"BERT_BERT Prediction\"})\n",
    "Predictions = pd.merge(left=Predictions, right=Pred_CNN_CNN['model_green'], left_index=True, right_index=True)\n",
    "Predictions = Predictions.rename(columns={\"model_green\": \"CNN_CNN Prediction\"})\n",
    "Predictions = pd.merge(left=Predictions, right=Pred_RLR_RLR['model_green'], left_index=True, right_index=True)\n",
    "Predictions = Predictions.rename(columns={\"model_green\": \"RLR_RLR Prediction\"})\n",
    "Predictions = pd.merge(left=Predictions, right=Pred_RLR_RLR['model_green'], left_index=True, right_index=True)\n",
    "Predictions = Predictions.rename(columns={\"model_green\": \"RLR_RLR Prediction\"})\n",
    "Predictions = pd.merge(left=Predictions, right=Pred_RLR_CNN['model_green'], left_index=True, right_index=True)\n",
    "Predictions = Predictions.rename(columns={\"model_green\": \"RLR_CNN Prediction\"})\n",
    "Predictions = pd.merge(left=Predictions, right=Pred_RLR_BERT['model_green'], left_index=True, right_index=True)\n",
    "Predictions = Predictions.rename(columns={\"model_green\": \"RLR_BERT Prediction\"})\n",
    "Predictions = pd.merge(left=Predictions, right=Pred_CNN_RLR['model_green'], left_index=True, right_index=True)\n",
    "Predictions = Predictions.rename(columns={\"model_green\": \"CNN_RLR Prediction\"})\n",
    "Predictions = pd.merge(left=Predictions, right=Pred_CNN_BERT['model_green'], left_index=True, right_index=True)\n",
    "Predictions = Predictions.rename(columns={\"model_green\": \"CNN_BERT Prediction\"})\n",
    "Predictions = pd.merge(left=Predictions, right=Pred_BERT_RLR['model_green'], left_index=True, right_index=True)\n",
    "Predictions = Predictions.rename(columns={\"model_green\": \"BERT_RLR Prediction\"})\n",
    "Predictions = pd.merge(left=Predictions, right=Pred_BERT_CNN['model_green'], left_index=True, right_index=True)\n",
    "Predictions = Predictions.rename(columns={\"model_green\": \"BERT_CNN Prediction\"})\n",
    "Predictions.head(2)"
   ]
  },
  {
   "cell_type": "code",
   "execution_count": 39,
   "id": "NPq8EQgbTyLi",
   "metadata": {
    "executionInfo": {
     "elapsed": 204,
     "status": "ok",
     "timestamp": 1639558653810,
     "user": {
      "displayName": "Zineb A",
      "photoUrl": "https://lh3.googleusercontent.com/a/default-user=s64",
      "userId": "11350239444074573694"
     },
     "user_tz": -60
    },
    "id": "NPq8EQgbTyLi"
   },
   "outputs": [],
   "source": [
    "# Writing results in 'FinalPrediction.csv'\n",
    "Predictions.to_csv(PATH + 'FinalPrediction.csv')"
   ]
  }
 ],
 "metadata": {
  "colab": {
   "collapsed_sections": [],
   "name": "Final_binary.ipynb",
   "provenance": []
  },
  "kernelspec": {
   "display_name": "Python 3 (ipykernel)",
   "language": "python",
   "name": "python3"
  },
  "language_info": {
   "codemirror_mode": {
    "name": "ipython",
    "version": 3
   },
   "file_extension": ".py",
   "mimetype": "text/x-python",
   "name": "python",
   "nbconvert_exporter": "python",
   "pygments_lexer": "ipython3",
   "version": "3.8.8"
  }
 },
 "nbformat": 4,
 "nbformat_minor": 5
}
